{
  "nbformat": 4,
  "nbformat_minor": 0,
  "metadata": {
    "colab": {
      "provenance": [],
      "authorship_tag": "ABX9TyOE5qRhsTJajvYxtph7eGHE",
      "include_colab_link": true
    },
    "kernelspec": {
      "name": "python3",
      "display_name": "Python 3"
    },
    "language_info": {
      "name": "python"
    }
  },
  "cells": [
    {
      "cell_type": "markdown",
      "metadata": {
        "id": "view-in-github",
        "colab_type": "text"
      },
      "source": [
        "<a href=\"https://colab.research.google.com/github/MZishan91/python_learning_in_colab/blob/main/loops_and_itrations.ipynb\" target=\"_parent\"><img src=\"https://colab.research.google.com/assets/colab-badge.svg\" alt=\"Open In Colab\"/></a>"
      ]
    },
    {
      "cell_type": "markdown",
      "source": [
        "# Loops and Itration\n",
        "\n",
        "Loops in Python are used to repeatedly execute a block of code. Python primarily offers two types of loops: for loops and while loops.\n",
        "1. for Loop:\n",
        "The for loop is used to iterate over a sequence (such as a list, tuple, string, or range) or other iterable objects. It executes a block of code once for each item in the sequence.\n",
        "2. while Loop:\n",
        "The while loop repeatedly executes a block of code as long as a specified condition remains true."
      ],
      "metadata": {
        "id": "v_GpPTYG32eP"
      }
    },
    {
      "cell_type": "code",
      "source": [
        "for variable in sequence:\n",
        "    # code to be executed for each item"
      ],
      "metadata": {
        "id": "xqiOVH8E4eJZ"
      },
      "execution_count": null,
      "outputs": []
    },
    {
      "cell_type": "code",
      "source": [
        "fruits = [\"apple\", \"banana\", \"cherry\"]\n",
        "for fruit in fruits:\n",
        "    print(fruit)"
      ],
      "metadata": {
        "colab": {
          "base_uri": "https://localhost:8080/"
        },
        "id": "BvPQSiNi4g2q",
        "outputId": "eda7fb24-7526-4606-f617-1e7ca9982350"
      },
      "execution_count": null,
      "outputs": [
        {
          "output_type": "stream",
          "name": "stdout",
          "text": [
            "apple\n",
            "banana\n",
            "cherry\n"
          ]
        }
      ]
    },
    {
      "cell_type": "code",
      "source": [
        "while condition:\n",
        "    # code to be executed as long as the condition is true"
      ],
      "metadata": {
        "colab": {
          "base_uri": "https://localhost:8080/",
          "height": 106
        },
        "id": "0RfLdA4g4pG4",
        "outputId": "ba542552-7e16-43dd-f682-4e7ffeb482b2"
      },
      "execution_count": null,
      "outputs": [
        {
          "output_type": "error",
          "ename": "SyntaxError",
          "evalue": "incomplete input (ipython-input-2875238162.py, line 2)",
          "traceback": [
            "\u001b[0;36m  File \u001b[0;32m\"/tmp/ipython-input-2875238162.py\"\u001b[0;36m, line \u001b[0;32m2\u001b[0m\n\u001b[0;31m    # code to be executed as long as the condition is true\u001b[0m\n\u001b[0m                                                          ^\u001b[0m\n\u001b[0;31mSyntaxError\u001b[0m\u001b[0;31m:\u001b[0m incomplete input\n"
          ]
        }
      ]
    },
    {
      "cell_type": "code",
      "source": [
        "cont = 0\n",
        "while cont < 5:\n",
        "    print(cont)\n",
        "    cont += 1"
      ],
      "metadata": {
        "colab": {
          "base_uri": "https://localhost:8080/"
        },
        "id": "rfcRsfxE4rye",
        "outputId": "d9a3830b-cbad-4dd3-e212-71f18933d01c"
      },
      "execution_count": null,
      "outputs": [
        {
          "output_type": "stream",
          "name": "stdout",
          "text": [
            "0\n",
            "1\n",
            "2\n",
            "3\n",
            "4\n"
          ]
        }
      ]
    },
    {
      "cell_type": "code",
      "source": [
        "#give me a program to find factors uing loop\n",
        "\n",
        "_num=int(input())\n",
        "for i in range(1,_num+1):\n",
        "  if _num%i==0:\n",
        "    print(i)"
      ],
      "metadata": {
        "colab": {
          "base_uri": "https://localhost:8080/"
        },
        "id": "lf2-H8Wv-1pB",
        "outputId": "3f15fbff-d1a4-41ff-dbf0-3e2c2982ea3a"
      },
      "execution_count": null,
      "outputs": [
        {
          "output_type": "stream",
          "name": "stdout",
          "text": [
            "15\n",
            "1\n",
            "3\n",
            "5\n",
            "15\n"
          ]
        }
      ]
    },
    {
      "cell_type": "code",
      "source": [
        "#print each even and odd in the list\n",
        "li=eval(input())\n",
        "for i in li:\n",
        "  if i%2==0:\n",
        "    print(f\"{i}-even\")\n",
        "  else:\n",
        "    print(f\"{i}-odd\")"
      ],
      "metadata": {
        "colab": {
          "base_uri": "https://localhost:8080/"
        },
        "id": "VtFRym1z-85R",
        "outputId": "1fd46221-4e83-4c48-d636-e14bdbd9eeb3"
      },
      "execution_count": null,
      "outputs": [
        {
          "output_type": "stream",
          "name": "stdout",
          "text": [
            "[12,2,12,12,12,13,4,32,23,4,12,3,3,3,3,3,5,4,3]\n",
            "12-even\n",
            "2-even\n",
            "12-even\n",
            "12-even\n",
            "12-even\n",
            "13-odd\n",
            "4-even\n",
            "32-even\n",
            "23-odd\n",
            "4-even\n",
            "12-even\n",
            "3-odd\n",
            "3-odd\n",
            "3-odd\n",
            "3-odd\n",
            "3-odd\n",
            "5-odd\n",
            "4-even\n",
            "3-odd\n"
          ]
        }
      ]
    },
    {
      "cell_type": "code",
      "source": [
        "#accumlat the all even numbers fron the given list\n",
        "li=eval(input())\n",
        "even_total=0\n",
        "for i in li:\n",
        "  if i%2==0:\n",
        "    even_total+=i\n",
        "print(even_total)"
      ],
      "metadata": {
        "colab": {
          "base_uri": "https://localhost:8080/"
        },
        "id": "ibWZeoMTC-ZI",
        "outputId": "ead62d4c-aafb-484c-8150-f53a866a3be7"
      },
      "execution_count": null,
      "outputs": [
        {
          "output_type": "stream",
          "name": "stdout",
          "text": [
            "[1,2,3,5]\n",
            "2\n"
          ]
        }
      ]
    },
    {
      "cell_type": "code",
      "source": [
        "#calcucalte the sum of all sqr of the mun in the range of 1-n using loop\n",
        "n=int(input('enter the value of range : '))\n",
        "total_sum=0\n",
        "for i in range(1,n+1):\n",
        "  total_sum+=i**2\n",
        "print(f\"totol sum all sqr in the range of 1-{n} : {total_sum}\")"
      ],
      "metadata": {
        "colab": {
          "base_uri": "https://localhost:8080/"
        },
        "id": "M18KwwieEh1w",
        "outputId": "faf0626b-96af-4c4d-8a7f-cbbbbbb2f7da"
      },
      "execution_count": null,
      "outputs": [
        {
          "output_type": "stream",
          "name": "stdout",
          "text": [
            "enter the value of range : -3\n",
            "totol sum all sqr in the range of 1 - -3 : 0\n"
          ]
        }
      ]
    },
    {
      "cell_type": "code",
      "source": [
        "#calsulat the sum of num from 1-n using a loop\n",
        "# 1/1^3 + 1/2^2 + 1/3^3......\n",
        "#even = square\n",
        "#odd = cube\n",
        "\n",
        "n=int(input(\"enter the value of range : \"))\n",
        "\n",
        "even_squre_sum=0\n",
        "odd_cube_sum=0\n",
        "\n",
        "for i in range(1,n+1):\n",
        "  if i%2==0:\n",
        "    even_squre_sum+=(1)/i**2\n",
        "  else:\n",
        "    odd_cube_sum+=(1)/i**3\n",
        "print(even_squre_sum+odd_cube_sum)"
      ],
      "metadata": {
        "colab": {
          "base_uri": "https://localhost:8080/"
        },
        "id": "a-PlPEiSHc-J",
        "outputId": "3cfc0659-66e5-4df5-9a67-a660adf9bea2"
      },
      "execution_count": null,
      "outputs": [
        {
          "output_type": "stream",
          "name": "stdout",
          "text": [
            "enter the value of range : 4\n",
            "1.349537037037037\n"
          ]
        }
      ]
    },
    {
      "cell_type": "code",
      "source": [
        "#find the factoral of the num using loops\n",
        "\n",
        "n=int(input('enter the value to find factorals : '))\n",
        "\n",
        "_fact=1\n",
        "if n >=0:\n",
        "   for i in range(1,n+1):\n",
        "      _fact*=i\n",
        "   print(f\"factoral of the {n} is : {_fact}\")\n",
        "else:\n",
        "  print('Enter the value wich is >=0')"
      ],
      "metadata": {
        "colab": {
          "base_uri": "https://localhost:8080/"
        },
        "id": "SDI25VsFJts2",
        "outputId": "b3dd437c-7a7e-41a1-c4ff-038a9bde5f45"
      },
      "execution_count": null,
      "outputs": [
        {
          "output_type": "stream",
          "name": "stdout",
          "text": [
            "enter the value to find factorals : -2\n",
            "Enter the value wich is >=0\n"
          ]
        }
      ]
    },
    {
      "cell_type": "code",
      "source": [
        "#write a program that takes as an integer and check wheather is is prmie number or not\n",
        "\n",
        "n=int(input('Enter the num : '))\n",
        "if n>1:\n",
        "  _count=0\n",
        "  for i in range(2,n):\n",
        "    if n%i==0:\n",
        "      _count+=1\n",
        "      break\n",
        "\n",
        "  if _count==0:\n",
        "      print(f\"{n} is a prime number\")\n",
        "  else:\n",
        "     print(f\"{n} is not a prime number\")\n",
        "# '''\n",
        "#     other approach\n",
        "# n=int(input('Enter the num : '))\n",
        "# if n>1:\n",
        "#   for i in range(2,n):\n",
        "#     if n%i==0:\n",
        "#       print(f\"{n} is not a prime number\")\n",
        "#       break\n",
        "#   else:\n",
        "#     print(f\"{n} is a prime number\")\n",
        "\n",
        "# '''\n"
      ],
      "metadata": {
        "colab": {
          "base_uri": "https://localhost:8080/"
        },
        "id": "V1-QohMhNXYW",
        "outputId": "9bbcc675-062f-4283-e42d-35928d475be2"
      },
      "execution_count": null,
      "outputs": [
        {
          "output_type": "stream",
          "name": "stdout",
          "text": [
            "Enter the num : 24143\n",
            "24143 is not a prime number\n"
          ]
        }
      ]
    },
    {
      "cell_type": "code",
      "source": [
        "#q8 : for any num print the total sum of the digits\n",
        "#INPUT :  123 output: 1+2+3=6\n",
        "n=int(input('enter the num : '))\n",
        "\n",
        "_sum=0\n",
        "for i in str(n):\n",
        "  _sum+=int(i)\n",
        "print(_sum)\n",
        "\n",
        "'''while n>0:\n",
        "  _sum+=n%10 #123/10 >12 then 12/10 then sum=6\n",
        "  n//=10\n",
        "print(_sum)\n",
        "\n",
        "\n",
        "For example, if the input is 123:\n",
        "\n",
        "Initially, n = 123 and _sum = 0.\n",
        "In the first iteration, n % 10 is 3, so _sum becomes 0 + 3 = 3. n becomes 123 // 10 = 12.\n",
        "In the second iteration, n % 10 is 2, so _sum becomes 3 + 2 = 5. n becomes 12 // 10 = 1.\n",
        "In the third iteration, n % 10 is 1, so _sum becomes 5 + 1 = 6. n becomes 1 // 10 = 0.\n",
        "The loop condition n > 0 is now false, so the loop terminates.\n",
        "The code prints the final value of _sum, which is 6.\n",
        "'''\n",
        "\n"
      ],
      "metadata": {
        "colab": {
          "base_uri": "https://localhost:8080/",
          "height": 191
        },
        "id": "jnHDJwInOudx",
        "outputId": "191c394a-2007-455f-bd36-af4124f460ec"
      },
      "execution_count": null,
      "outputs": [
        {
          "output_type": "stream",
          "name": "stdout",
          "text": [
            "enter the num : 12345\n",
            "15\n"
          ]
        },
        {
          "output_type": "execute_result",
          "data": {
            "text/plain": [
              "'while n>0:\\n  _sum+=n%10 #123/10 >12 then 12/10 then sum=6\\n  n//=10\\nprint(_sum)\\n\\n\\nFor example, if the input is 123:\\n\\nInitially, n = 123 and _sum = 0.\\nIn the first iteration, n % 10 is 3, so _sum becomes 0 + 3 = 3. n becomes 123 // 10 = 12.\\nIn the second iteration, n % 10 is 2, so _sum becomes 3 + 2 = 5. n becomes 12 // 10 = 1.\\nIn the third iteration, n % 10 is 1, so _sum becomes 5 + 1 = 6. n becomes 1 // 10 = 0.\\nThe loop condition n > 0 is now false, so the loop terminates.\\nThe code prints the final value of _sum, which is 6.\\n'"
            ],
            "application/vnd.google.colaboratory.intrinsic+json": {
              "type": "string"
            }
          },
          "metadata": {},
          "execution_count": 37
        }
      ]
    },
    {
      "cell_type": "code",
      "source": [
        "#10\n",
        "#write the cose that itrate thruge the list using enumrate(), If an item is out of use the sount statment to skip the printing that item, Otherwise, printn the index and the name.\n",
        "#shopping_list= ['apple',None,'bread','milk',None,'eggs']\n",
        "#note : using level two unpacking\n",
        "\n",
        "\n",
        "shopping_list=eval(input())\n",
        "for i,j in enumerate(shopping_list):\n",
        "  if j==None:\n",
        "    continue\n",
        "  print(f\"{i}-{j}\")"
      ],
      "metadata": {
        "colab": {
          "base_uri": "https://localhost:8080/"
        },
        "id": "7kT9kxJrR_mu",
        "outputId": "d437abbc-81b3-412d-e1eb-6c9504ab6183"
      },
      "execution_count": null,
      "outputs": [
        {
          "output_type": "stream",
          "name": "stdout",
          "text": [
            "['apple',None,'bread','milk',None,'eggs'] \n",
            "0-apple\n",
            "2-bread\n",
            "3-milk\n",
            "5-eggs\n"
          ]
        }
      ]
    },
    {
      "cell_type": "markdown",
      "source": [
        "#pattern using Loops\n"
      ],
      "metadata": {
        "id": "NQBphovUXb6X"
      }
    },
    {
      "cell_type": "code",
      "source": [
        "#write the rpogram to print the following pattern\n",
        "'''\n",
        "*\n",
        "**\n",
        "***\n",
        "****\n",
        "'''\n",
        "\n",
        "#reapitation using a*6\n",
        "# it is giving aaaaaa\n",
        "n=int(input(\"enter the depth of the pattern\"))\n",
        "for i in range(1,n+1):\n",
        "  print('*'*i)\n"
      ],
      "metadata": {
        "colab": {
          "base_uri": "https://localhost:8080/"
        },
        "id": "iGmTgkesXhmd",
        "outputId": "55ecba7c-4f7b-4c99-ccba-478e6575398b"
      },
      "execution_count": null,
      "outputs": [
        {
          "output_type": "stream",
          "name": "stdout",
          "text": [
            "enter the depth of the pattern12\n",
            "*\n",
            "**\n",
            "***\n",
            "****\n",
            "*****\n",
            "******\n",
            "*******\n",
            "********\n",
            "*********\n",
            "**********\n",
            "***********\n",
            "************\n"
          ]
        }
      ]
    },
    {
      "cell_type": "code",
      "source": [
        "#solve the dimond pattern\n",
        "'''\n",
        "\n",
        "   *\n",
        "  * *\n",
        "*  *  *\n",
        "  * *\n",
        "   *\n",
        "\n",
        "   '''\n",
        "\n"
      ],
      "metadata": {
        "id": "tRZadcEpXooy"
      },
      "execution_count": null,
      "outputs": []
    },
    {
      "cell_type": "code",
      "source": [
        "#12\n",
        "'''\n",
        "looping over the dictionary and find the defavtive product\n",
        "'''\n",
        "_dict={'product A':False,'Product B':True,'Product C':False,'product D':False}\n",
        "#find the defective product\n",
        "\n",
        "for _product,_status in _dict.items(): # .item() > list of tup [('product A', True)...]\n",
        "  if _status==False:\n",
        "    print(_product)"
      ],
      "metadata": {
        "colab": {
          "base_uri": "https://localhost:8080/"
        },
        "id": "91FhNBtCYzK-",
        "outputId": "bec27adf-968a-457b-9602-31801e4070e3"
      },
      "execution_count": null,
      "outputs": [
        {
          "output_type": "stream",
          "name": "stdout",
          "text": [
            "product A\n",
            "Product C\n",
            "product D\n"
          ]
        }
      ]
    },
    {
      "cell_type": "code",
      "source": [
        "#13\n",
        "'''\n",
        "find the link not working from th log data\n",
        "'''\n",
        "log_data={'/home':200,'/home/product':200,'/home/product/electronincs':404,'/home/product/general':200}\n",
        "\n",
        "for _link,_link_status in log_data.items():\n",
        "   if _link_status==404:\n",
        "      print(_link)"
      ],
      "metadata": {
        "colab": {
          "base_uri": "https://localhost:8080/"
        },
        "id": "UCO8olNWbBeL",
        "outputId": "2d87a076-db5a-487b-953d-91967a43fe81"
      },
      "execution_count": null,
      "outputs": [
        {
          "output_type": "stream",
          "name": "stdout",
          "text": [
            "/home/product/electronincs\n"
          ]
        }
      ]
    },
    {
      "cell_type": "code",
      "source": [
        "'''\n",
        "find the longest word ing the sentense\n",
        "sentence= find the longest word ing the sentene\n",
        "'''\n",
        "\n",
        "sentence=input(\"Enter the Sentence : \")\n",
        "sentence_words=sentence.split()\n",
        "#print (sentence_word)\n",
        "longest_word=sentence_words[0] #assumption\n",
        "\n",
        "for _word in sentence_words:\n",
        "  if(len(_word)>len(longest_word)):\n",
        "    longest_word=_word\n",
        "print(f\"your longest word n the sentence is : {longest_word}\")\n"
      ],
      "metadata": {
        "colab": {
          "base_uri": "https://localhost:8080/"
        },
        "id": "94ryU7xRdOWJ",
        "outputId": "88c04f12-14f8-475b-a8f4-bd96a9fffdd0"
      },
      "execution_count": null,
      "outputs": [
        {
          "output_type": "stream",
          "name": "stdout",
          "text": [
            "Enter the Sentence : find the longest word ing the sentence\n",
            "your longest word n the sentence is : sentence\n"
          ]
        }
      ]
    },
    {
      "cell_type": "code",
      "source": [
        "#write the program to count the vovels in the string\n",
        "string=input()\n",
        "_count=0\n",
        "for i in string:\n",
        "  if i.lower() in 'aeiou':\n",
        "    _count +=1 # to count the vowels in the string\n",
        "print(_count)\n"
      ],
      "metadata": {
        "colab": {
          "base_uri": "https://localhost:8080/"
        },
        "id": "bIhUfUQfo1e2",
        "outputId": "0c778614-906b-4e93-fe38-095629dff046"
      },
      "execution_count": null,
      "outputs": [
        {
          "output_type": "stream",
          "name": "stdout",
          "text": [
            "The quick brown fox jumps over the lazy dog\n",
            "11\n"
          ]
        }
      ]
    },
    {
      "cell_type": "code",
      "source": [
        "#16\n",
        "'''\n",
        "create a dict with key as unique char in the string\n",
        "and value of times char is repeating\n",
        "input: string 'i am zishan'\n",
        "output: {'i':1,' ':2,'a':1,'m':1,'z':1,'s':1,'h':1,'n':1}\n",
        "'''\n",
        "string=input()\n",
        "_dict={}\n",
        "for i in string:\n",
        "  if i in _dict:\n",
        "    _dict[i]=_dict[i]+1\n",
        "  else:\n",
        "    _dict[i]=1\n",
        "print(_dict)\n",
        "\n",
        "\n",
        "'''\n",
        "anpther a\n",
        "create a dict with key as unique char in the string\n",
        "and value of times char is repeating\n",
        "input: string 'i am zishan'\n",
        "output: {'i':1,' ':2,'a':1,'m':1,'z':1,'s':1,'h':1,'n':1}\n",
        "\n",
        "_str=input()\n",
        "_out={}\n",
        "for char in _str:_out[char]=_str.count(char);\n",
        "print(_out)\n",
        "\n",
        "'''\n"
      ],
      "metadata": {
        "colab": {
          "base_uri": "https://localhost:8080/"
        },
        "id": "-KyWO7teqZ5V",
        "outputId": "a2d1d1b7-8ef9-44e3-858c-f7e90ec71e3a"
      },
      "execution_count": 6,
      "outputs": [
        {
          "output_type": "stream",
          "name": "stdout",
          "text": [
            "this is zishan\n",
            "{'t': 1, 'h': 2, 'i': 3, 's': 3, ' ': 2, 'z': 1, 'a': 1, 'n': 1}\n"
          ]
        }
      ]
    },
    {
      "cell_type": "code",
      "source": [
        "#17\n",
        "'''\n",
        "provide the output as even value in the list as input\n",
        "list = [1,2,3,4,5,6,7,8,9]\n",
        "output: [2,4,6,8]\n",
        "'''\n",
        "_li= eval(input())\n",
        "_out_li=[]\n",
        "for i in _li:\n",
        "   if i%2==0:\n",
        "    _out_li.append(i)\n",
        "print(_out_li)\n",
        "\n"
      ],
      "metadata": {
        "colab": {
          "base_uri": "https://localhost:8080/"
        },
        "id": "cr5rdYnexX0G",
        "outputId": "17eb5e12-6e2c-4159-e618-49e3ca043df8"
      },
      "execution_count": null,
      "outputs": [
        {
          "output_type": "stream",
          "name": "stdout",
          "text": [
            "[12,2,12,12,12,13,4,32,23,4,12,3,3,3,3,3,5,4,3]\n",
            "[12, 2, 12, 12, 12, 4, 32, 4, 12, 4]\n"
          ]
        }
      ]
    },
    {
      "cell_type": "code",
      "source": [
        "#find the consonent in the geven word\n",
        "_word=input()\n",
        "_cons=''\n",
        "for i in _word:\n",
        "  if i.lower() not in 'aeiou':\n",
        "    _cons+=i\n",
        "print(_cons)"
      ],
      "metadata": {
        "colab": {
          "base_uri": "https://localhost:8080/"
        },
        "id": "r_3PSj0YsWiD",
        "outputId": "74eb8763-9ba3-4708-f1f1-36e9e16db906"
      },
      "execution_count": null,
      "outputs": [
        {
          "output_type": "stream",
          "name": "stdout",
          "text": [
            "Zishan\n",
            "zshn\n"
          ]
        }
      ]
    },
    {
      "cell_type": "code",
      "source": [
        "#18\n",
        "'''\n",
        "create a dict with key as unique char in the string\n",
        "and value of times char is repeating\n",
        "input: string 'i am zishan'\n",
        "output: {'i':1,' ':2,'a':1,'m':1,'z':1,'s':1,'h':1,'n':1}\n",
        "'''\n",
        "_str=input()\n",
        "_out={}\n",
        "for char in _str:_out[char]=_str.count(char);\n",
        "print(_out)"
      ],
      "metadata": {
        "id": "8TRn3dO_6htf",
        "colab": {
          "base_uri": "https://localhost:8080/"
        },
        "outputId": "b6183a27-f0d4-425b-ea17-9de990548416"
      },
      "execution_count": 5,
      "outputs": [
        {
          "output_type": "stream",
          "name": "stdout",
          "text": [
            "this is zishan\n",
            "{'t': 1, 'h': 2, 'i': 3, 's': 3, ' ': 2, 'z': 1, 'a': 1, 'n': 1}\n"
          ]
        }
      ]
    },
    {
      "cell_type": "code",
      "source": [
        "# Q\n",
        "'''\n",
        "print the vowel or consonant in the word\n",
        "input : word= 'zishan'\n",
        "output: z is consonant\n",
        "        i is vowel\n",
        "        s is consonant\n",
        "        h is consonant\n",
        "        a is vowel\n",
        "        n is consonant\n",
        "'''\n",
        "\n",
        "_word=input()\n",
        "\n",
        "for char in _word:\n",
        "  if char.lower() in 'aeiou':\n",
        "    print(f\"{char} is Vowel\")\n",
        "  else:\n",
        "    print(f\"{char} is Consonant\")"
      ],
      "metadata": {
        "colab": {
          "base_uri": "https://localhost:8080/"
        },
        "id": "9k3vJnYYRhQx",
        "outputId": "0583d876-e6a8-435d-d46a-6f85e5ec4b01"
      },
      "execution_count": 7,
      "outputs": [
        {
          "output_type": "stream",
          "name": "stdout",
          "text": [
            "zishan\n",
            "z is Consonant\n",
            "i is Vowel\n",
            "s is Consonant\n",
            "h is Consonant\n",
            "a is Vowel\n",
            "n is Consonant\n"
          ]
        }
      ]
    },
    {
      "cell_type": "code",
      "source": [
        "#Q for any num print the total sun of applying the logic of \"if\" num is even do sqr else cube\n",
        "# input : 123\n",
        "#output : 1^3+2^2+3^3=27\n",
        "n=input()\n",
        "_out=0\n",
        "_sum=0\n",
        "for num in n:\n",
        "  if int(num)%2==0:\n",
        "    #print(int(num)**2)\n",
        "    _out+=(int(num)**2)\n",
        "  else:\n",
        "    _out+=(int(num)**3)\n",
        "    #print(int(num)**3)\n",
        "print(_out)"
      ],
      "metadata": {
        "colab": {
          "base_uri": "https://localhost:8080/"
        },
        "id": "rT-B4i-QUIk9",
        "outputId": "3eaa6830-3107-4cb1-b9a1-d3c7de2f7b16"
      },
      "execution_count": 25,
      "outputs": [
        {
          "output_type": "stream",
          "name": "stdout",
          "text": [
            "467\n",
            "395\n"
          ]
        }
      ]
    },
    {
      "cell_type": "code",
      "source": [
        "'''\n",
        "Q\n",
        "case study question: Discount calculater\n",
        "you are working for an e-commerce website.\n",
        "create a program that calculates the total cost of items in a shopping cart applying discount\n",
        "using a for loop to itrate through the cart and apply the folloing discount\n",
        "#10% off for the cost between $10-$50\n",
        "#20% off for the cost more than $50\n",
        "#No discount for item costhing less than $10.\n",
        "\n",
        "\n",
        "expected output:\n",
        "cart: [7,15,35,80,5] = 121.0\n",
        "cart: [7,8,2]=17\n",
        "'''\n",
        "\n",
        "_cart=eval(input())\n",
        "_t=0\n",
        "for _item in _cart:\n",
        "  if _item>10 and _item<50:\n",
        "    _t+=_item-((_item/100)*10)\n",
        "\n",
        "  elif _item>50:\n",
        "    _t+=(_item-(_item/100)*20)\n",
        "  else:\n",
        "    _t+=_item\n",
        "print(_t)\n"
      ],
      "metadata": {
        "colab": {
          "base_uri": "https://localhost:8080/"
        },
        "id": "yc2Qp3ARYMMA",
        "outputId": "205f5160-c822-49f0-c065-71b21bdcdd53"
      },
      "execution_count": 54,
      "outputs": [
        {
          "output_type": "stream",
          "name": "stdout",
          "text": [
            "[7,15,35,80,5]\n",
            "121.0\n"
          ]
        }
      ]
    },
    {
      "cell_type": "code",
      "source": [],
      "metadata": {
        "id": "ajwDoQaFjOVZ"
      },
      "execution_count": null,
      "outputs": []
    },
    {
      "cell_type": "code",
      "source": [
        "'''\n",
        "Q\n",
        "the fibbonacci sequence of numbers where each number is\n",
        "the sum of the priceding once strating from 0 and 1\n",
        "the seriece begins as follows:\n",
        "\n",
        "input: 5 output: 0 1 1 2 3 5\n",
        "\n",
        "'''\n",
        "\n",
        "n=int(input())\n",
        "_out=[0]\n",
        "for i in range(n+1):\n",
        "  _out.append()\n",
        "print(_out)"
      ],
      "metadata": {
        "colab": {
          "base_uri": "https://localhost:8080/"
        },
        "id": "6YZMyehrgYjm",
        "outputId": "b5109e56-9097-440c-d127-262c50f74d51"
      },
      "execution_count": 60,
      "outputs": [
        {
          "output_type": "stream",
          "name": "stdout",
          "text": [
            "5\n",
            "[0, 0, 1, 3, 6, 10, 15]\n"
          ]
        }
      ]
    },
    {
      "cell_type": "code",
      "source": [
        "# Get the year as input from the user and convert it to an integer\n",
        "year = int(input())\n",
        "\n",
        "# Get the month as input from the user and convert it to an integer\n",
        "month = int(input())\n",
        "\n",
        "# Get the day as input from the user and convert it to an integer\n",
        "day = int(input())\n",
        "\n",
        "# Check if the year is a leap year\n",
        "# A leap year is divisible by 400, or divisible by 4 but not 100\n",
        "if (year % 400 == 0):\n",
        "  leap_year = True  # If divisible by 400, it's a leap year\n",
        "elif (year % 100 == 0):\n",
        "  leap_year = False  # If divisible by 100 but not 400, not a leap year\n",
        "elif (year % 4 == 0):\n",
        "  leap_year = True  # If divisible by 4 but not 100, it's a leap year\n",
        "else:\n",
        "  leap_year = False  # Otherwise, it's not a leap year\n",
        "\n",
        "# Determine the number of days in the given month\n",
        "if month in (1, 3, 5, 7, 8, 10, 12):\n",
        "  month_length = 31  # Months with 31 days\n",
        "elif month == 2:\n",
        "  if leap_year:\n",
        "    month_length = 29  # February in a leap year has 29 days\n",
        "  else:\n",
        "    month_length = 28  # February in a common year has 28 days\n",
        "else:\n",
        "  month_length = 30  # Other months have 30 days\n",
        "\n",
        "# Check if it's possible to increment the day\n",
        "if day < month_length:\n",
        "  day += 1  # If the current day is less than the max days in the month, increment the day\n",
        "else:\n",
        "  # If it's the last day of the month\n",
        "  day = 1  # Reset the day to 1 (start of the next month)\n",
        "  if month == 12:\n",
        "    # If it's December, move to the next year\n",
        "    month = 1  # Reset month to January\n",
        "    year += 1  # Increment the year by 1\n",
        "  else:\n",
        "    month += 1  # Otherwise, just move to the next month\n",
        "\n",
        "# Print the next date in the format [yyyy-mm-dd]\n",
        "print (\"The next date is [yyyy-mm-dd] %d-%d-%d.\" % (year, month, day))"
      ],
      "metadata": {
        "colab": {
          "base_uri": "https://localhost:8080/"
        },
        "id": "Ur0_E6n7cq72",
        "outputId": "f0ecf2fd-9c1c-49b1-a737-38d3ec64dc0c"
      },
      "execution_count": 1,
      "outputs": [
        {
          "output_type": "stream",
          "name": "stdout",
          "text": [
            "2028\n",
            "12\n",
            "31\n",
            "The next date is [yyyy-mm-dd] 2029-1-1.\n"
          ]
        }
      ]
    },
    {
      "cell_type": "code",
      "source": [
        "#Q\n",
        "#print * piramid pattern\n",
        "depth = int(input(\"Enter the depth of the pyramid: \"))\n",
        "\n",
        "# Upper part of the diamond (pyramid shape)\n",
        "for i in range(depth):\n",
        "    print(\" \" * (depth - i - 1), \"*\" * (2 * i + 1))"
      ],
      "metadata": {
        "colab": {
          "base_uri": "https://localhost:8080/"
        },
        "id": "M2Hhrfx6bJZp",
        "outputId": "fe6bba1b-ce4d-48fc-bee8-d9b2e2ba6012"
      },
      "execution_count": 15,
      "outputs": [
        {
          "output_type": "stream",
          "name": "stdout",
          "text": [
            "Enter the depth of the pyramid: 5\n",
            "     *\n",
            "    ***\n",
            "   *****\n",
            "  *******\n",
            " *********\n"
          ]
        }
      ]
    },
    {
      "cell_type": "code",
      "source": [
        "depth = int(input(\"Enter the depth of the pyramid: \"))\n",
        "\n",
        "# Upper part of the diamond (pyramid shape)\n",
        "for i in range(depth):\n",
        "    print(\" \" * (depth - i - 1), \"*\" * (2 * i + 1))\n",
        "\n",
        "# Lower part of the diamond (inverted pyramid shape)\n",
        "for i in range(depth - 1):\n",
        "    print(\" \" * (i + 1), \"*\" * (2 * (depth - i - 1) - 1))\n"
      ],
      "metadata": {
        "colab": {
          "base_uri": "https://localhost:8080/"
        },
        "id": "v6XY5mcCfdWm",
        "outputId": "4df8a477-9f34-4247-91e1-603fdf9fedf6"
      },
      "execution_count": 16,
      "outputs": [
        {
          "output_type": "stream",
          "name": "stdout",
          "text": [
            "Enter the depth of the pyramid: 5\n",
            "     *\n",
            "    ***\n",
            "   *****\n",
            "  *******\n",
            " *********\n",
            "  *******\n",
            "   *****\n",
            "    ***\n",
            "     *\n"
          ]
        }
      ]
    },
    {
      "cell_type": "code",
      "source": [
        "\n",
        "import math\n",
        "s = input()\n",
        "\n",
        "if len(s)%2==0:\n",
        "    l=len(s)/2\n",
        "    l=int(l)\n",
        "    n_s=s[:l]\n",
        "    n_s=n_s+n_s[l::-1]\n",
        "    print(n_s)\n",
        "else:\n",
        "    l=math.floor(len(s)/2)\n",
        "    l=int(l)\n",
        "    n_s=s[:l]\n",
        "    n_s=n_s+s[l]+n_s[l::-1]\n",
        "    print(n_s)"
      ],
      "metadata": {
        "colab": {
          "base_uri": "https://localhost:8080/"
        },
        "id": "h2HFrF5Si6-s",
        "outputId": "614e8594-cb57-458c-81fc-42f765ed04a0"
      },
      "execution_count": 5,
      "outputs": [
        {
          "output_type": "stream",
          "name": "stdout",
          "text": [
            "parad\n",
            "parap\n"
          ]
        }
      ]
    }
  ]
}
{
  "nbformat": 4,
  "nbformat_minor": 0,
  "metadata": {
    "colab": {
      "provenance": [],
      "authorship_tag": "ABX9TyNhq//OaCNiEObr5tYOdW4Y",
      "include_colab_link": true
    },
    "kernelspec": {
      "name": "python3",
      "display_name": "Python 3"
    },
    "language_info": {
      "name": "python"
    }
  },
  "cells": [
    {
      "cell_type": "markdown",
      "metadata": {
        "id": "view-in-github",
        "colab_type": "text"
      },
      "source": [
        "<a href=\"https://colab.research.google.com/github/MZishan91/python_learning_in_colab/blob/main/loops_and_itrations.ipynb\" target=\"_parent\"><img src=\"https://colab.research.google.com/assets/colab-badge.svg\" alt=\"Open In Colab\"/></a>"
      ]
    },
    {
      "cell_type": "markdown",
      "source": [
        "# Loops and Itration\n",
        "\n",
        "Loops in Python are used to repeatedly execute a block of code. Python primarily offers two types of loops: for loops and while loops.\n",
        "1. for Loop:\n",
        "The for loop is used to iterate over a sequence (such as a list, tuple, string, or range) or other iterable objects. It executes a block of code once for each item in the sequence.\n",
        "2. while Loop:\n",
        "The while loop repeatedly executes a block of code as long as a specified condition remains true."
      ],
      "metadata": {
        "id": "v_GpPTYG32eP"
      }
    },
    {
      "cell_type": "code",
      "source": [
        "for variable in sequence:\n",
        "    # code to be executed for each item"
      ],
      "metadata": {
        "id": "xqiOVH8E4eJZ"
      },
      "execution_count": null,
      "outputs": []
    },
    {
      "cell_type": "code",
      "source": [
        "fruits = [\"apple\", \"banana\", \"cherry\"]\n",
        "for fruit in fruits:\n",
        "    print(fruit)"
      ],
      "metadata": {
        "colab": {
          "base_uri": "https://localhost:8080/"
        },
        "id": "BvPQSiNi4g2q",
        "outputId": "eda7fb24-7526-4606-f617-1e7ca9982350"
      },
      "execution_count": null,
      "outputs": [
        {
          "output_type": "stream",
          "name": "stdout",
          "text": [
            "apple\n",
            "banana\n",
            "cherry\n"
          ]
        }
      ]
    },
    {
      "cell_type": "code",
      "source": [
        "while condition:\n",
        "    # code to be executed as long as the condition is true"
      ],
      "metadata": {
        "colab": {
          "base_uri": "https://localhost:8080/",
          "height": 106
        },
        "id": "0RfLdA4g4pG4",
        "outputId": "ba542552-7e16-43dd-f682-4e7ffeb482b2"
      },
      "execution_count": null,
      "outputs": [
        {
          "output_type": "error",
          "ename": "SyntaxError",
          "evalue": "incomplete input (ipython-input-2875238162.py, line 2)",
          "traceback": [
            "\u001b[0;36m  File \u001b[0;32m\"/tmp/ipython-input-2875238162.py\"\u001b[0;36m, line \u001b[0;32m2\u001b[0m\n\u001b[0;31m    # code to be executed as long as the condition is true\u001b[0m\n\u001b[0m                                                          ^\u001b[0m\n\u001b[0;31mSyntaxError\u001b[0m\u001b[0;31m:\u001b[0m incomplete input\n"
          ]
        }
      ]
    },
    {
      "cell_type": "code",
      "source": [
        "cont = 0\n",
        "while cont < 5:\n",
        "    print(cont)\n",
        "    cont += 1"
      ],
      "metadata": {
        "colab": {
          "base_uri": "https://localhost:8080/"
        },
        "id": "rfcRsfxE4rye",
        "outputId": "d9a3830b-cbad-4dd3-e212-71f18933d01c"
      },
      "execution_count": null,
      "outputs": [
        {
          "output_type": "stream",
          "name": "stdout",
          "text": [
            "0\n",
            "1\n",
            "2\n",
            "3\n",
            "4\n"
          ]
        }
      ]
    },
    {
      "cell_type": "code",
      "source": [
        "#give me a program to find factors uing loop\n",
        "\n",
        "_num=int(input())\n",
        "for i in range(1,_num+1):\n",
        "  if _num%i==0:\n",
        "    print(i)"
      ],
      "metadata": {
        "colab": {
          "base_uri": "https://localhost:8080/"
        },
        "id": "lf2-H8Wv-1pB",
        "outputId": "3f15fbff-d1a4-41ff-dbf0-3e2c2982ea3a"
      },
      "execution_count": 11,
      "outputs": [
        {
          "output_type": "stream",
          "name": "stdout",
          "text": [
            "15\n",
            "1\n",
            "3\n",
            "5\n",
            "15\n"
          ]
        }
      ]
    },
    {
      "cell_type": "code",
      "source": [
        "#print each even and odd in the list\n",
        "li=eval(input())\n",
        "for i in li:\n",
        "  if i%2==0:\n",
        "    print(f\"{i}-even\")\n",
        "  else:\n",
        "    print(f\"{i}-odd\")"
      ],
      "metadata": {
        "colab": {
          "base_uri": "https://localhost:8080/"
        },
        "id": "VtFRym1z-85R",
        "outputId": "1fd46221-4e83-4c48-d636-e14bdbd9eeb3"
      },
      "execution_count": 13,
      "outputs": [
        {
          "output_type": "stream",
          "name": "stdout",
          "text": [
            "[12,2,12,12,12,13,4,32,23,4,12,3,3,3,3,3,5,4,3]\n",
            "12-even\n",
            "2-even\n",
            "12-even\n",
            "12-even\n",
            "12-even\n",
            "13-odd\n",
            "4-even\n",
            "32-even\n",
            "23-odd\n",
            "4-even\n",
            "12-even\n",
            "3-odd\n",
            "3-odd\n",
            "3-odd\n",
            "3-odd\n",
            "3-odd\n",
            "5-odd\n",
            "4-even\n",
            "3-odd\n"
          ]
        }
      ]
    },
    {
      "cell_type": "code",
      "source": [
        "#accumlat the all even numbers fron the given list\n",
        "li=eval(input())\n",
        "even_total=0\n",
        "for i in li:\n",
        "  if i%2==0:\n",
        "    even_total+=i\n",
        "print(even_total)"
      ],
      "metadata": {
        "colab": {
          "base_uri": "https://localhost:8080/"
        },
        "id": "ibWZeoMTC-ZI",
        "outputId": "ead62d4c-aafb-484c-8150-f53a866a3be7"
      },
      "execution_count": 16,
      "outputs": [
        {
          "output_type": "stream",
          "name": "stdout",
          "text": [
            "[1,2,3,5]\n",
            "2\n"
          ]
        }
      ]
    },
    {
      "cell_type": "code",
      "source": [
        "#calcucalte the sum of all sqr of the mun in the range of 1-n using loop\n",
        "n=int(input('enter the value of range : '))\n",
        "total_sum=0\n",
        "for i in range(1,n+1):\n",
        "  total_sum+=i**2\n",
        "print(f\"totol sum all sqr in the range of 1-{n} : {total_sum}\")"
      ],
      "metadata": {
        "colab": {
          "base_uri": "https://localhost:8080/"
        },
        "id": "M18KwwieEh1w",
        "outputId": "faf0626b-96af-4c4d-8a7f-cbbbbbb2f7da"
      },
      "execution_count": 22,
      "outputs": [
        {
          "output_type": "stream",
          "name": "stdout",
          "text": [
            "enter the value of range : -3\n",
            "totol sum all sqr in the range of 1 - -3 : 0\n"
          ]
        }
      ]
    },
    {
      "cell_type": "code",
      "source": [
        "#calsulat the sum of num from 1-n using a loop\n",
        "# 1/1^3 + 1/2^2 + 1/3^3......\n",
        "#even = square\n",
        "#odd = cube\n",
        "\n",
        "n=int(input(\"enter the value of range : \"))\n",
        "\n",
        "even_squre_sum=0\n",
        "odd_cube_sum=0\n",
        "\n",
        "for i in range(1,n+1):\n",
        "  if i%2==0:\n",
        "    even_squre_sum+=(1)/i**2\n",
        "  else:\n",
        "    odd_cube_sum+=(1)/i**3\n",
        "print(even_squre_sum+odd_cube_sum)"
      ],
      "metadata": {
        "colab": {
          "base_uri": "https://localhost:8080/"
        },
        "id": "a-PlPEiSHc-J",
        "outputId": "3cfc0659-66e5-4df5-9a67-a660adf9bea2"
      },
      "execution_count": 25,
      "outputs": [
        {
          "output_type": "stream",
          "name": "stdout",
          "text": [
            "enter the value of range : 4\n",
            "1.349537037037037\n"
          ]
        }
      ]
    },
    {
      "cell_type": "code",
      "source": [
        "#find the factoral of the num using loops\n",
        "\n",
        "n=int(input('enter the value to find factorals : '))\n",
        "\n",
        "_fact=1\n",
        "for i in range(1,n+1):\n",
        "  _fact*=i\n",
        "print(f\"factoral of the {n} is : {_fact}\")"
      ],
      "metadata": {
        "colab": {
          "base_uri": "https://localhost:8080/"
        },
        "id": "SDI25VsFJts2",
        "outputId": "f5af7b20-feda-47b6-e4a2-487310a847f6"
      },
      "execution_count": 29,
      "outputs": [
        {
          "output_type": "stream",
          "name": "stdout",
          "text": [
            "enter the value to find factorals : 5\n",
            "factoral of the 5 is : 120\n"
          ]
        }
      ]
    }
  ]
}
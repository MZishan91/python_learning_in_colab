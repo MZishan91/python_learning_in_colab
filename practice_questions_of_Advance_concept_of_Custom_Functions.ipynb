{
  "nbformat": 4,
  "nbformat_minor": 0,
  "metadata": {
    "colab": {
      "provenance": [],
      "authorship_tag": "ABX9TyM9cjbfFrYz8xRyRjfBr8hH",
      "include_colab_link": true
    },
    "kernelspec": {
      "name": "python3",
      "display_name": "Python 3"
    },
    "language_info": {
      "name": "python"
    }
  },
  "cells": [
    {
      "cell_type": "markdown",
      "metadata": {
        "id": "view-in-github",
        "colab_type": "text"
      },
      "source": [
        "<a href=\"https://colab.research.google.com/github/MZishan91/python_learning_in_colab/blob/main/practice_questions_of_Advance_concept_of_Custom_Functions.ipynb\" target=\"_parent\"><img src=\"https://colab.research.google.com/assets/colab-badge.svg\" alt=\"Open In Colab\"/></a>"
      ]
    },
    {
      "cell_type": "code",
      "execution_count": 11,
      "metadata": {
        "colab": {
          "base_uri": "https://localhost:8080/"
        },
        "id": "ZYkq1EM6pvom",
        "outputId": "22fae548-5590-4c10-aaa4-3d8d7c570dd3"
      },
      "outputs": [
        {
          "output_type": "stream",
          "name": "stdout",
          "text": [
            "(2, 3, 4)\n",
            "{'name': 'zishan', 'age': 27, 'place': 'Hyderabad'}\n"
          ]
        }
      ],
      "source": [
        "'''#advantages of custom function\n",
        "reuseable\n",
        "modularity\n",
        "optimising\n",
        "\n",
        "\n",
        "#local and gloabal variable\n",
        "\n",
        "# parameter\n",
        "1. direct veriable\n",
        "2. using arhs\n",
        "   > *args (itstored as in a tuple data typle)\n",
        "   > **kwargs (it will stored as in a dict data type)\n",
        "'''\n",
        "\n",
        "#--------------------------\n",
        "def add(*a):  # used *arge\n",
        "  return a\n",
        "\n",
        "a=add(2,3,4)\n",
        "print(a)\n",
        "#-----------------------------\n",
        "#multi dimentional data like a dictionary\n",
        "\n",
        "def person_info_adder(**info):\n",
        "  return info\n",
        "#------------------------------\n",
        "person=person_info_adder(name=\"zishan\", age=27, place=\"Hyderabad\")\n",
        "print(person)\n",
        "#-----------------------------\n",
        "\n"
      ]
    },
    {
      "cell_type": "code",
      "source": [
        "#calcualte factorial using custom function\n",
        "'''\n",
        "write a python program that is called factorail_calculate which takes single\n",
        "intger argument n and return the factorail of that number. the factorial of\n",
        "a non_negative integer n is the prduct of all positive interge less than or equals to n.\n",
        "For example\n",
        "\n",
        "'''"
      ],
      "metadata": {
        "id": "VLuBa1fwp59w"
      },
      "execution_count": null,
      "outputs": []
    },
    {
      "cell_type": "code",
      "source": [],
      "metadata": {
        "id": "4blEHpuptBuU"
      },
      "execution_count": null,
      "outputs": []
    }
  ]
}
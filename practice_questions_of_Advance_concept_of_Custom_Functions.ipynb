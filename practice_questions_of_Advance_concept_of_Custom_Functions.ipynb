{
  "nbformat": 4,
  "nbformat_minor": 0,
  "metadata": {
    "colab": {
      "provenance": [],
      "authorship_tag": "ABX9TyNQOpUuhMZGjnsnaiYYODea",
      "include_colab_link": true
    },
    "kernelspec": {
      "name": "python3",
      "display_name": "Python 3"
    },
    "language_info": {
      "name": "python"
    }
  },
  "cells": [
    {
      "cell_type": "markdown",
      "metadata": {
        "id": "view-in-github",
        "colab_type": "text"
      },
      "source": [
        "<a href=\"https://colab.research.google.com/github/MZishan91/python_learning_in_colab/blob/main/practice_questions_of_Advance_concept_of_Custom_Functions.ipynb\" target=\"_parent\"><img src=\"https://colab.research.google.com/assets/colab-badge.svg\" alt=\"Open In Colab\"/></a>"
      ]
    },
    {
      "cell_type": "code",
      "execution_count": null,
      "metadata": {
        "colab": {
          "base_uri": "https://localhost:8080/"
        },
        "id": "ZYkq1EM6pvom",
        "outputId": "22fae548-5590-4c10-aaa4-3d8d7c570dd3"
      },
      "outputs": [
        {
          "output_type": "stream",
          "name": "stdout",
          "text": [
            "(2, 3, 4)\n",
            "{'name': 'zishan', 'age': 27, 'place': 'Hyderabad'}\n"
          ]
        }
      ],
      "source": [
        "'''#advantages of custom function\n",
        "reuseable\n",
        "modularity\n",
        "optimising\n",
        "\n",
        "\n",
        "#local and gloabal variable\n",
        "\n",
        "# parameter\n",
        "1. direct veriable\n",
        "2. using arhs\n",
        "   > *args (itstored as in a tuple data typle)\n",
        "   > **kwargs (it will stored as in a dict data type)\n",
        "'''\n",
        "\n",
        "#--------------------------\n",
        "def add(*a):  # used *arge\n",
        "  return a\n",
        "\n",
        "a=add(2,3,4)\n",
        "print(a)\n",
        "#-----------------------------\n",
        "#multi dimentional data like a dictionary\n",
        "\n",
        "def person_info_adder(**info):\n",
        "  return info\n",
        "#------------------------------\n",
        "person=person_info_adder(name=\"zishan\", age=27, place=\"Hyderabad\")\n",
        "print(person)\n",
        "#-----------------------------\n",
        "\n"
      ]
    },
    {
      "cell_type": "code",
      "source": [
        "#calcualte factorial using custom function\n",
        "'''\n",
        "write a python program that is called factorail_calculate which takes single\n",
        "intger argument n and return the factorail of that number. the factorial of\n",
        "a non_negative integer n is the prduct of all positive interge less than or equals to n.\n",
        "For example factorial of 5\n",
        "1*2*3*4*5=120\n",
        "\n",
        "if n is 0 , the factorial return 1 as 0! is defined to be 1.\n",
        "\n",
        "\n",
        "'''\n",
        "\n",
        "def factorail_calculate(n):\n",
        "  calc_result=1\n",
        "  if n==0: return calc_result;\n",
        "  if n>1:\n",
        "    while n>0:\n",
        "      calc_result*=n\n",
        "      n-=1\n",
        "    return calc_result\n",
        "  else: print(\"Enter the Non-Negetive Value...\")\n",
        "print(factorail_calculate(5))\n"
      ],
      "metadata": {
        "colab": {
          "base_uri": "https://localhost:8080/"
        },
        "id": "VLuBa1fwp59w",
        "outputId": "e5918b7d-b4ee-4591-faac-3cdee298b219"
      },
      "execution_count": null,
      "outputs": [
        {
          "output_type": "stream",
          "name": "stdout",
          "text": [
            "120\n"
          ]
        }
      ]
    },
    {
      "cell_type": "code",
      "source": [
        "#calc the series\n",
        "# 1+1/2!+1/3!\n",
        "def factorial_calculate(n):\n",
        "  \"\"\"\n",
        "  Calculates the factorial of a non-negative integer.\n",
        "  Handles n=0, n=1, and n>1 correctly.\n",
        "  \"\"\"\n",
        "  if not isinstance(n, int) or n < 0:\n",
        "    print(\"Enter a non-negative integer value...\")\n",
        "    return None # Return None for invalid input\n",
        "\n",
        "  # Factorial for 0 and 1 is 1\n",
        "  if n == 0 or n == 1:\n",
        "    return 1\n",
        "\n",
        "  # For n > 1, calculate iteratively\n",
        "  calc_result = 1\n",
        "  for i in range(1, n + 1):\n",
        "    calc_result *= i\n",
        "  return calc_result\n",
        "\n",
        "def factorial_ser_calculate(n):\n",
        "  \"\"\"\n",
        "  Calculates the sum of the series 1/1! + 1/2! + ... + 1/n!.\n",
        "  \"\"\"\n",
        "  total_cal = 0.0 # Use a float for accurate division\n",
        "  for i in range(1, n + 1):\n",
        "    factorial_i = factorial_calculate(n=i)\n",
        "    if factorial_i is not None: # Check if factorial_calculate returned a valid number\n",
        "      total_cal += 1 / factorial_i\n",
        "    else:\n",
        "      # Handle the error if factorial_calculate fails\n",
        "      return None\n",
        "  return total_cal\n",
        "\n",
        "# Correctly calculate and print the series sum for n=5\n",
        "print(factorial_ser_calculate(5))\n"
      ],
      "metadata": {
        "colab": {
          "base_uri": "https://localhost:8080/"
        },
        "id": "4blEHpuptBuU",
        "outputId": "6125864e-821f-4d65-affc-dbe99a8a61f7"
      },
      "execution_count": null,
      "outputs": [
        {
          "output_type": "stream",
          "name": "stdout",
          "text": [
            "1.7166666666666668\n"
          ]
        }
      ]
    },
    {
      "cell_type": "code",
      "source": [
        "'''\n",
        "#Permutaions n, r=n!(n-r)\n",
        " and\n",
        " #Combinations n, r=n!(n-r)!/r!\n",
        "taking n, r as an input:\n",
        "'''\n",
        "#---------------------------------------------------------------\n",
        "def _permutaion(n,r):\n",
        "  return round(factorail_calculate(n)/factorail_calculate(n-r))\n",
        "#----------------------------------------------------------------\n",
        "def _combination(n,r): return round(factorail_calculate(n)/factorail_calculate(n-r)/factorail_calculate(r))\n",
        "\n"
      ],
      "metadata": {
        "id": "5w1Fbe-01-Rz"
      },
      "execution_count": null,
      "outputs": []
    },
    {
      "cell_type": "code",
      "source": [
        "print(_permutaion(n=5,r=2))\n",
        "print(_combination(n=5,r=2))"
      ],
      "metadata": {
        "colab": {
          "base_uri": "https://localhost:8080/"
        },
        "id": "25lrYMnz3kIs",
        "outputId": "708a378a-5a71-44e4-e384-a4a0ba820f32"
      },
      "execution_count": null,
      "outputs": [
        {
          "output_type": "stream",
          "name": "stdout",
          "text": [
            "20\n",
            "10\n"
          ]
        }
      ]
    },
    {
      "cell_type": "code",
      "source": [
        "'''\n",
        "write a fucrtion that return list of power\n",
        "\n",
        "'''\n",
        "\n",
        "def list_pow(l,n):\n",
        "  out=[]\n",
        "  for i in l:\n",
        "    out.append(i**n) # append the power value of the list item\n",
        "  return out\n",
        "\n",
        "print(list_pow(l=[1,2,3,4,5],n=2))\n"
      ],
      "metadata": {
        "colab": {
          "base_uri": "https://localhost:8080/"
        },
        "id": "i85pyLYb39sh",
        "outputId": "59911eaa-f293-435f-fbc3-2d5d942b8b29"
      },
      "execution_count": null,
      "outputs": [
        {
          "output_type": "stream",
          "name": "stdout",
          "text": [
            "[1, 4, 9, 16, 25]\n"
          ]
        }
      ]
    },
    {
      "cell_type": "code",
      "source": [
        "#another way\n",
        "\n",
        "def l_pow(n, *l): # note: always take fixd value first then the *args and **kwargs like n\n",
        "  out=[]\n",
        "  for i in l:\n",
        "    out.append(i**n) # append the power value of the list item\n",
        "  return out\n",
        "  #------------------------------\n",
        "print(list_pow(l=[1,2,3,4,5],n=2))"
      ],
      "metadata": {
        "colab": {
          "base_uri": "https://localhost:8080/"
        },
        "id": "9Z-Vstl14-pT",
        "outputId": "f416034c-d29f-455d-c6a6-827b6efaec1b"
      },
      "execution_count": null,
      "outputs": [
        {
          "output_type": "stream",
          "name": "stdout",
          "text": [
            "[1, 4, 9, 16, 25]\n"
          ]
        }
      ]
    },
    {
      "cell_type": "code",
      "source": [
        "# check is prime_between()\n",
        "\n",
        "#_________check if prime or not_____________\n",
        "def check_prime(n):\n",
        "  prime=True\n",
        "  for i in range(2,n):\n",
        "    if n%i==0:\n",
        "      prime=False\n",
        "      break;\n",
        "  return prime\n",
        "\n",
        "#-------------------------\n",
        "\n",
        "#_________check prime in between_________\n",
        "\n",
        "def prime_in_between(a,b):\n",
        "  for i in range(a,b+1):\n",
        "    if check_prime(n=i)==True:\n",
        "      print(i)\n",
        "#---------------------\n",
        "\n",
        "prime_in_between(a=10,b=20)"
      ],
      "metadata": {
        "colab": {
          "base_uri": "https://localhost:8080/"
        },
        "id": "AHZ_WkRD6WPV",
        "outputId": "ae513171-53c8-4880-b24f-3be924d6588b"
      },
      "execution_count": null,
      "outputs": [
        {
          "output_type": "stream",
          "name": "stdout",
          "text": [
            "11\n",
            "13\n",
            "17\n",
            "19\n"
          ]
        }
      ]
    },
    {
      "cell_type": "code",
      "source": [
        "#tween prime Note: gape of two num that is a twin prime\n",
        "'''\n",
        "(3, 5)\n",
        "(5,7)\n",
        "(11, 13)\n",
        "(17,19)\n",
        "'''\n",
        "\n",
        "def _twin_prime(n):\n",
        "  for i in range(2, n+1):\n",
        "    if check_prime(i)==True and check_prime(i+2)==True:\n",
        "      print((i,i+2))\n",
        "\n",
        "\n",
        "\n",
        "\n",
        "    #_________check if prime or not_____________\n",
        "def check_prime(n):\n",
        "  prime=True\n",
        "  for i in range(2,n):\n",
        "    if n%i==0:\n",
        "      prime=False\n",
        "      break;\n",
        "  return prime\n",
        "\n",
        "#-------------------------"
      ],
      "metadata": {
        "id": "HidPaqx96xOT"
      },
      "execution_count": null,
      "outputs": []
    },
    {
      "cell_type": "code",
      "source": [
        "_twin_prime(n=40)\n",
        "\n"
      ],
      "metadata": {
        "colab": {
          "base_uri": "https://localhost:8080/"
        },
        "id": "IshWIfN3_RaD",
        "outputId": "5d459a19-b433-4a6c-aae0-ceec06923acc"
      },
      "execution_count": null,
      "outputs": [
        {
          "output_type": "stream",
          "name": "stdout",
          "text": [
            "(3, 5)\n",
            "(5, 7)\n",
            "(11, 13)\n",
            "(17, 19)\n",
            "(29, 31)\n"
          ]
        }
      ]
    }
  ]
}
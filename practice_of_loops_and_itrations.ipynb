{
  "nbformat": 4,
  "nbformat_minor": 0,
  "metadata": {
    "colab": {
      "provenance": [],
      "include_colab_link": true
    },
    "kernelspec": {
      "name": "python3",
      "display_name": "Python 3"
    },
    "language_info": {
      "name": "python"
    }
  },
  "cells": [
    {
      "cell_type": "markdown",
      "metadata": {
        "id": "view-in-github",
        "colab_type": "text"
      },
      "source": [
        "<a href=\"https://colab.research.google.com/github/MZishan91/python_learning_in_colab/blob/main/practice_of_loops_and_itrations.ipynb\" target=\"_parent\"><img src=\"https://colab.research.google.com/assets/colab-badge.svg\" alt=\"Open In Colab\"/></a>"
      ]
    },
    {
      "cell_type": "markdown",
      "source": [
        "#### Introduction to Looping Concepts"
      ],
      "metadata": {
        "id": "LR4Yg3iWJWRT"
      }
    },
    {
      "cell_type": "code",
      "execution_count": null,
      "metadata": {
        "id": "79cSJhquHmQ6"
      },
      "outputs": [],
      "source": [
        "# For Loops are used to iterate over a sequence (such as a list, tuple, dictionary, string, or range).\n",
        "# They allow you to execute a block of code repeatedly for each element in the sequence.\n",
        "\n",
        "# Key Concepts:\n",
        "\n",
        "# Iteration: The process of looping through elements of a sequence.\n",
        "# Loop Variable: The variable that takes the value of each element in the sequence during each iteration.\n",
        "# Accumulation: Using a secondary variable to collect or accumulate results across iterations.\n",
        "\n"
      ]
    },
    {
      "cell_type": "code",
      "source": [
        "# Basic Structure of For loop\n",
        "for item in sequence:\n",
        "\n",
        "    # Code block to execute"
      ],
      "metadata": {
        "id": "A8UtJTsdJLc4"
      },
      "execution_count": null,
      "outputs": []
    },
    {
      "cell_type": "markdown",
      "source": [
        "##### Example 1: Basic For Loop"
      ],
      "metadata": {
        "id": "r2PogxLXJidh"
      }
    },
    {
      "cell_type": "code",
      "source": [
        "\n",
        "# List of numbers\n",
        "numbers = [1, 2, 3, 4, 5]\n",
        "\n",
        "# Loop through each number and print it\n",
        "\n",
        "for i in numbers:\n",
        "  print(i)\n"
      ],
      "metadata": {
        "id": "Y4RtUVk0JRkg",
        "colab": {
          "base_uri": "https://localhost:8080/"
        },
        "outputId": "cda46b36-be66-4027-9667-daf3eac0a57c"
      },
      "execution_count": null,
      "outputs": [
        {
          "output_type": "stream",
          "name": "stdout",
          "text": [
            "1\n",
            "2\n",
            "3\n",
            "4\n",
            "5\n"
          ]
        }
      ]
    },
    {
      "cell_type": "code",
      "source": [
        "# Iterations :\n",
        "# value of i will change sequentially\n",
        "# # total number of Iteratios = total elements in the collection of item\n",
        "# Iteration1 :\n",
        "# i = 1\n",
        "# print(i) # 1\n",
        "# Iteration2 :\n",
        "# i = 2\n",
        "# print(i) # 2\n",
        "\n",
        "# Iteration3 :\n",
        "# i = 3\n",
        "# print(i) # 3\n",
        "\n",
        "# Iteration4 :\n",
        "# i = 4\n",
        "# print(i) # 4\n",
        "\n",
        "# Iteration5 :\n",
        "# i = 5\n",
        "# print(i) # 5\n",
        "\n",
        "# Loop has definite end where your elements in collection of items (Iterables)"
      ],
      "metadata": {
        "id": "VwqmNlrt8NFD"
      },
      "execution_count": null,
      "outputs": []
    },
    {
      "cell_type": "code",
      "source": [
        "for _v in iterable:\n",
        "\n",
        "# Variable _v : value will be stored sequentially\n",
        "# Values will be taken from the iterable : String, List, tuple, set, dictionaries\n"
      ],
      "metadata": {
        "id": "lQTPISJOC_LH"
      },
      "execution_count": null,
      "outputs": []
    },
    {
      "cell_type": "code",
      "source": [
        "a = '5'\n",
        "for i in a:\n",
        "  print(i)"
      ],
      "metadata": {
        "colab": {
          "base_uri": "https://localhost:8080/"
        },
        "id": "1f3zGUzRDRVi",
        "outputId": "2bd1fb8f-a291-4194-d0a9-a39a7cbd4a92"
      },
      "execution_count": null,
      "outputs": [
        {
          "output_type": "stream",
          "name": "stdout",
          "text": [
            "5\n"
          ]
        }
      ]
    },
    {
      "cell_type": "code",
      "source": [
        "a = (3,4,5)\n",
        "for i in a:\n",
        "  print(i)"
      ],
      "metadata": {
        "colab": {
          "base_uri": "https://localhost:8080/"
        },
        "id": "3Rpu_ON9DZAX",
        "outputId": "c5b465e7-c4af-4131-961c-616f00293675"
      },
      "execution_count": null,
      "outputs": [
        {
          "output_type": "stream",
          "name": "stdout",
          "text": [
            "3\n",
            "4\n",
            "5\n"
          ]
        }
      ]
    },
    {
      "cell_type": "code",
      "source": [
        "a = {3,4,5}\n",
        "for i in a:\n",
        "  print(i)"
      ],
      "metadata": {
        "colab": {
          "base_uri": "https://localhost:8080/"
        },
        "id": "l5XU6xxvDbQ8",
        "outputId": "1fa1fffa-8ba6-4204-8489-77c7be023805"
      },
      "execution_count": null,
      "outputs": [
        {
          "output_type": "stream",
          "name": "stdout",
          "text": [
            "3\n",
            "4\n",
            "5\n"
          ]
        }
      ]
    },
    {
      "cell_type": "code",
      "source": [
        "a = {3:4, 7:5}\n",
        "\n",
        "# By default it takes the keys\n",
        "for i in a:\n",
        "  print(i)"
      ],
      "metadata": {
        "colab": {
          "base_uri": "https://localhost:8080/"
        },
        "id": "Bk0fi7nnDdkc",
        "outputId": "331d3b8e-d484-443a-b388-acdeb2b39c45"
      },
      "execution_count": null,
      "outputs": [
        {
          "output_type": "stream",
          "name": "stdout",
          "text": [
            "3\n",
            "7\n"
          ]
        }
      ]
    },
    {
      "cell_type": "code",
      "source": [
        "a.items()"
      ],
      "metadata": {
        "colab": {
          "base_uri": "https://localhost:8080/"
        },
        "id": "DvaVASS8Dnwe",
        "outputId": "8538d390-2afc-46ef-c618-a25a4d95d1bc"
      },
      "execution_count": null,
      "outputs": [
        {
          "output_type": "execute_result",
          "data": {
            "text/plain": [
              "dict_items([(3, 4), (7, 5)])"
            ]
          },
          "metadata": {},
          "execution_count": 8
        }
      ]
    },
    {
      "cell_type": "code",
      "source": [
        "for i in a.items():\n",
        "  print(i)"
      ],
      "metadata": {
        "colab": {
          "base_uri": "https://localhost:8080/"
        },
        "id": "8w3y83VNDjXs",
        "outputId": "1a782093-6f4a-4671-eab4-fa8dcd71625b"
      },
      "execution_count": null,
      "outputs": [
        {
          "output_type": "stream",
          "name": "stdout",
          "text": [
            "(3, 4)\n",
            "(7, 5)\n"
          ]
        }
      ]
    },
    {
      "cell_type": "code",
      "source": [
        "# List of numbers\n",
        "numbers = [98, 34, 56, 40, 50, 100]\n",
        "\n",
        "# Loop through each number and print it\n",
        "for j in numbers:\n",
        "  print(j)"
      ],
      "metadata": {
        "colab": {
          "base_uri": "https://localhost:8080/"
        },
        "id": "_oyhq0K7865G",
        "outputId": "20aa0343-62d8-4f2a-ca5c-513af8eae578"
      },
      "execution_count": null,
      "outputs": [
        {
          "output_type": "stream",
          "name": "stdout",
          "text": [
            "98\n",
            "34\n",
            "56\n",
            "40\n",
            "50\n",
            "100\n"
          ]
        }
      ]
    },
    {
      "cell_type": "code",
      "source": [
        "# How many Iterations will run? 6\n",
        "# Iteration 1 :\n",
        "# j : 98\n",
        "# # Iteration 2 :\n",
        "# j : 34\n",
        "#...\n",
        "# j : Will change sequentially\n",
        "# Once j has reached to the end of iterable -- > Loop will end."
      ],
      "metadata": {
        "id": "Kh5Fu2ns8-yz"
      },
      "execution_count": null,
      "outputs": []
    },
    {
      "cell_type": "markdown",
      "source": [
        "##### Example 2: Using a Secondary Variable to Accumulate Results\n"
      ],
      "metadata": {
        "id": "TJcOe5qCJo6S"
      }
    },
    {
      "cell_type": "code",
      "source": [
        "# List of numbers\n",
        "numbers = [1, 2, 3, 4, 5]\n",
        "# Sum of total elements\n",
        "_total = 0 # Initialising the variable // Secondary variable\n",
        "\n",
        "for i in numbers:\n",
        "  _total = _total + i # _total += i\n",
        "# When all iterations are over | accumulation is done final value of _total = 15\n",
        "print(_total)\n"
      ],
      "metadata": {
        "id": "0eA5ctf9JfPQ",
        "colab": {
          "base_uri": "https://localhost:8080/"
        },
        "outputId": "5bac0c6c-5acc-4086-d70e-72b6e2f91d42"
      },
      "execution_count": null,
      "outputs": [
        {
          "output_type": "stream",
          "name": "stdout",
          "text": [
            "15\n"
          ]
        }
      ]
    },
    {
      "cell_type": "code",
      "source": [],
      "metadata": {
        "id": "01_m0hLrGNxj"
      },
      "execution_count": null,
      "outputs": []
    },
    {
      "cell_type": "code",
      "source": [
        "# _total = 0\n",
        "# Iterations : 5\n",
        "# Iteration 1 :\n",
        "# i = 1\n",
        "# total = total + i --> 0 + 1 = 1 | total = 1\n",
        "# Iteration 2:\n",
        "# i = 2\n",
        "# total = total + i --> 1 + 2 = 3 | total = 3\n",
        "# Iteration 3:\n",
        "# i = 3\n",
        "# total = total + i --> 3 + 3 = 6 | total = 6\n",
        "# Iteration 4:\n",
        "# i = 4\n",
        "# total = total + i --> 6 + 4 = 10 | total = 10\n",
        "# # Iteration 5:\n",
        "# i = 5\n",
        "# total = total + i --> 10 + 5 = 15 | total = 15"
      ],
      "metadata": {
        "id": "arSlWDb1-WWt"
      },
      "execution_count": null,
      "outputs": []
    },
    {
      "cell_type": "code",
      "source": [
        "# Counting Occurrences of an Element - 'apple'\n",
        "# List of elements\n",
        "elements = ['apple', 'banana', 'apple', 'orange', 'banana', 'apple']\n",
        "_count = 0\n",
        "for i in elements: # elements will determine how many iterations will run.\n",
        "  if i == 'apple':\n",
        "    _count = _count + 1 # Only run when value of i == 'apple'\n",
        "\n",
        "print(_count)"
      ],
      "metadata": {
        "id": "vh-hLYe2J1QF",
        "colab": {
          "base_uri": "https://localhost:8080/"
        },
        "outputId": "b38471f0-3724-4226-c9bb-0ab33fa640e5"
      },
      "execution_count": null,
      "outputs": [
        {
          "output_type": "stream",
          "name": "stdout",
          "text": [
            "3\n"
          ]
        }
      ]
    },
    {
      "cell_type": "code",
      "source": [
        "# Iterations : 6\n",
        "\n",
        "# Iteration 1:\n",
        "# i = 'apple'\n",
        "# if i == 'apple': # True\n",
        "    # _count = _count + 1 # _count = 0 +1 = 1 | _count = 1\n",
        "\n",
        "# Iteration 2:\n",
        "# i = 'banana'\n",
        "# if i == 'apple': False\n",
        "    # _count = _count + 1  # Not be executed\n",
        "\n",
        "#  Iteration 3:\n",
        "# i = 'apple'\n",
        "# if i == 'apple': # True\n",
        "#     _count = _count + 1 #  1+ 1 | _count = 2\n",
        "\n",
        "# Iteration 4:\n",
        "# i = 'orange'\n",
        "# if i == 'apple': False\n",
        "    # _count = _count + 1  # Not be executed\n",
        "\n",
        "# Iteration 5:\n",
        "# i = 'banana'\n",
        "# if i == 'apple': False\n",
        "    # _count = _count + 1  # Not be executed\n",
        "\n",
        "#  Iteration 6:\n",
        "# i = 'apple'\n",
        "# if i == 'apple': # True\n",
        "#     _count = _count + 1 #  2 + 1 = 3 | _count = 3"
      ],
      "metadata": {
        "id": "KowOC5MRBAF0"
      },
      "execution_count": null,
      "outputs": []
    },
    {
      "cell_type": "markdown",
      "source": [
        "##### Example 3 : break & continue in loop"
      ],
      "metadata": {
        "id": "5-OVYGPOK4dM"
      }
    },
    {
      "cell_type": "code",
      "source": [
        "# The break statement is used to exit a loop early.\n",
        "numbers = [1, 2, 3, 4, 5]\n",
        "for i in numbers:\n",
        "    if i == 3:\n",
        "        break  # Exit loop when num equals 3\n",
        "    print(i)\n",
        "\n"
      ],
      "metadata": {
        "id": "JqXKUOhQJ5vH",
        "colab": {
          "base_uri": "https://localhost:8080/"
        },
        "outputId": "f6d79dc8-c71e-4825-9b39-2511f2ba325f"
      },
      "execution_count": null,
      "outputs": [
        {
          "output_type": "stream",
          "name": "stdout",
          "text": [
            "1\n",
            "2\n"
          ]
        }
      ]
    },
    {
      "cell_type": "code",
      "source": [
        "# Iterations : 5 : supposed : but it is contingent on the break statement\n",
        "# Iteration 1:\n",
        "# i = 1\n",
        "# if i == 3: False\n",
        "#         break : Not run\n",
        "# print(i) --> 1\n",
        "\n",
        "# Iteration 2:\n",
        "# i = 2\n",
        "# if i == 3: False\n",
        "#         break : Not run\n",
        "# print(i) --> 2\n",
        "\n",
        "# # Iteration 3:\n",
        "# i = 3\n",
        "# if i == 3: True\n",
        "        # break # Is executed : your iterations are over\n",
        "# print(i) --> Nothing will get executed inside for loop once break is executed"
      ],
      "metadata": {
        "id": "esRqw-wIDnYX"
      },
      "execution_count": null,
      "outputs": []
    },
    {
      "cell_type": "code",
      "source": [
        "# Using continue in a For Loop\n",
        "# The continue statement skips the current iteration and moves to the next one.\n",
        "numbers = [1,2,3,4,5]\n",
        "\n",
        "for i in numbers:\n",
        "  if i == 3:\n",
        "    continue\n",
        "  print(i)\n",
        "  # print('hello')\n"
      ],
      "metadata": {
        "id": "2d7cRgo7LSUX",
        "colab": {
          "base_uri": "https://localhost:8080/"
        },
        "outputId": "a426aab7-790c-4068-ece0-dfba7348c80d"
      },
      "execution_count": null,
      "outputs": [
        {
          "output_type": "stream",
          "name": "stdout",
          "text": [
            "1\n",
            "2\n",
            "4\n",
            "5\n"
          ]
        }
      ]
    },
    {
      "cell_type": "code",
      "source": [
        "# Iterations : 5\n",
        "# Iteration 1\n",
        "# i = 1\n",
        "# if i == 3: False\n",
        "#     continue | not be executed\n",
        "# print(i) --> 1\n",
        "\n",
        "# # Iteration 2\n",
        "# i = 2\n",
        "# if i == 3: False\n",
        "#     continue | not be executed\n",
        "# print(i) --> 2\n",
        "\n",
        "# # Iteration 3\n",
        "# i = 3\n",
        "# if i == 3: True\n",
        "#     continue | is executed | once it is executed not code after the continue : no executed\n",
        "# print(i) --> | it will not be executed\n",
        "\n",
        "# Iteration 4\n",
        "# i = 4\n",
        "# if i == 3: False\n",
        "#     continue | not executed\n",
        "# print(i) --> | 4\n",
        "\n",
        "# Iteration 5\n",
        "# i = 5\n",
        "# if i == 3: False\n",
        "#     continue | not executed\n",
        "# print(i) --> | 5"
      ],
      "metadata": {
        "id": "fI_nVNqtEvQr"
      },
      "execution_count": null,
      "outputs": []
    },
    {
      "cell_type": "markdown",
      "source": [
        "##### Example 4:\n",
        "Range: Generate sequences of numbers.\n",
        "\n",
        "Zip: Iterate over multiple sequences.\n",
        "\n",
        "Enumerate: Get index and value."
      ],
      "metadata": {
        "id": "0DEbZoJXRaH5"
      }
    },
    {
      "cell_type": "code",
      "source": [
        "# Using range() with For Loops\n",
        "# The range() function generates a sequence of numbers,\n",
        "# which is useful for iterating a specific number of times.\n",
        "for i in range(2,11): # 2,3,4,...,10 | Sequential number\n",
        "    print(i)\n"
      ],
      "metadata": {
        "id": "YJZM5eOMRo98",
        "colab": {
          "base_uri": "https://localhost:8080/"
        },
        "outputId": "ba969657-49d9-44ff-a33d-627e05d2be74"
      },
      "execution_count": null,
      "outputs": [
        {
          "output_type": "stream",
          "name": "stdout",
          "text": [
            "2\n",
            "3\n",
            "4\n",
            "5\n",
            "6\n",
            "7\n",
            "8\n",
            "9\n",
            "10\n"
          ]
        }
      ]
    },
    {
      "cell_type": "code",
      "source": [
        "for i in range(2,11,2): # Step size : 2 | 2,4,6,8,10\n",
        "    print(i)\n",
        "\n",
        "# Iteration 1: i = 2\n",
        "# Iteration 2: i = 4\n",
        "# Iteration 3: i = 6 ... so on."
      ],
      "metadata": {
        "colab": {
          "base_uri": "https://localhost:8080/"
        },
        "id": "CW6fOPfqHmzG",
        "outputId": "5e5aac26-dce2-4e53-80b1-8636fbe09b69"
      },
      "execution_count": null,
      "outputs": [
        {
          "output_type": "stream",
          "name": "stdout",
          "text": [
            "2\n",
            "4\n",
            "6\n",
            "8\n",
            "10\n"
          ]
        }
      ]
    },
    {
      "cell_type": "code",
      "source": [
        "for i in range(-1,-10,-1): # Start from -1 and go till -10 | Reverse\n",
        "    print(i)\n",
        "\n",
        "# Iteration 1: i = -1\n",
        "# Iteration 2: i = -2\n",
        "# Iteration 3: i =  -3 ... so on."
      ],
      "metadata": {
        "colab": {
          "base_uri": "https://localhost:8080/"
        },
        "id": "0pqQZvHRHsys",
        "outputId": "af920440-24eb-407e-d2f2-b2d8a5d7d5ea"
      },
      "execution_count": null,
      "outputs": [
        {
          "output_type": "stream",
          "name": "stdout",
          "text": [
            "-1\n",
            "-2\n",
            "-3\n",
            "-4\n",
            "-5\n",
            "-6\n",
            "-7\n",
            "-8\n",
            "-9\n"
          ]
        }
      ]
    },
    {
      "cell_type": "code",
      "source": [
        "list(range(-1,-10,-1))"
      ],
      "metadata": {
        "colab": {
          "base_uri": "https://localhost:8080/"
        },
        "id": "s2nc972FH4Xk",
        "outputId": "5110fe60-f065-4758-ddaa-838b37eb3e6f"
      },
      "execution_count": null,
      "outputs": [
        {
          "output_type": "execute_result",
          "data": {
            "text/plain": [
              "[-1, -2, -3, -4, -5, -6, -7, -8, -9]"
            ]
          },
          "metadata": {},
          "execution_count": 15
        }
      ]
    },
    {
      "cell_type": "code",
      "source": [
        "# -100 to 10\n",
        "list(range(-100, 11,1))"
      ],
      "metadata": {
        "id": "M1H8X_DKIB4K"
      },
      "execution_count": null,
      "outputs": []
    },
    {
      "cell_type": "code",
      "source": [
        "# 10 to -100\n",
        "# list(range(10, -101,-1))"
      ],
      "metadata": {
        "id": "SiX8JTYWIVlX"
      },
      "execution_count": null,
      "outputs": []
    },
    {
      "cell_type": "code",
      "source": [
        "# range(10) # Python will understand start from 0 by default and go till 9\n",
        "# range(5, 10) # Python will understand start from 5 by default and go till 9\n",
        "#"
      ],
      "metadata": {
        "id": "jXK91U15HXR6"
      },
      "execution_count": null,
      "outputs": []
    },
    {
      "cell_type": "code",
      "source": [
        "list(range(10)) # If no value of i/start is given : by default 0"
      ],
      "metadata": {
        "colab": {
          "base_uri": "https://localhost:8080/"
        },
        "id": "fSHYD0Y8G3dp",
        "outputId": "0a7e1bc0-520f-41c4-bbe8-69fd2f45948c"
      },
      "execution_count": null,
      "outputs": [
        {
          "output_type": "execute_result",
          "data": {
            "text/plain": [
              "[0, 1, 2, 3, 4, 5, 6, 7, 8, 9]"
            ]
          },
          "metadata": {},
          "execution_count": 19
        }
      ]
    },
    {
      "cell_type": "code",
      "source": [],
      "metadata": {
        "colab": {
          "base_uri": "https://localhost:8080/"
        },
        "id": "rgMS5dv1JFMz",
        "outputId": "278d300c-a865-45dd-ea06-68adf15e3f77"
      },
      "execution_count": null,
      "outputs": [
        {
          "output_type": "execute_result",
          "data": {
            "text/plain": [
              "[2, 4, 6, 8]"
            ]
          },
          "metadata": {},
          "execution_count": 21
        }
      ]
    },
    {
      "cell_type": "code",
      "source": [
        "# zip() : in built functions & method\n",
        "\n",
        "list1 = [1,2,3,4]\n",
        "list2 = ['a','b','c','d']\n",
        "list(zip(list1,list2)) # 4 elements\n",
        "# element -- (1,'a')\n"
      ],
      "metadata": {
        "colab": {
          "base_uri": "https://localhost:8080/"
        },
        "id": "HaetHo7bLtes",
        "outputId": "d24e196b-2eaa-4196-9c58-9e387ba6acae"
      },
      "execution_count": null,
      "outputs": [
        {
          "output_type": "execute_result",
          "data": {
            "text/plain": [
              "[(1, 'a'), (2, 'b'), (3, 'c'), (4, 'd')]"
            ]
          },
          "metadata": {},
          "execution_count": 20
        }
      ]
    },
    {
      "cell_type": "code",
      "source": [
        "# Using zip() in a For Loop\n",
        "# The zip() function allows you to iterate over two or more sequences simultaneously.\n",
        "amount = [50, 100, 200]\n",
        "dis = [85, 90, 95]\n",
        "\n",
        "# list(zip(amount, dis)) # Index wise\n",
        "# [(50, 85), (100, 90), (200, 95)] --> 3 elements\n",
        "\n",
        "for i in zip(amount, dis):\n",
        "  print(i)\n",
        "\n",
        "# Iteration 1 : i = (50, 85)\n",
        "# Iteration 2 : i = (100, 90)\n",
        "# Iteration 3 : i = (200, 95)"
      ],
      "metadata": {
        "id": "R-bLBMkXR2VZ",
        "colab": {
          "base_uri": "https://localhost:8080/"
        },
        "outputId": "8a48dd82-006a-478e-e658-c02c92504b0f"
      },
      "execution_count": null,
      "outputs": [
        {
          "output_type": "stream",
          "name": "stdout",
          "text": [
            "(50, 85)\n",
            "(100, 90)\n",
            "(200, 95)\n"
          ]
        }
      ]
    },
    {
      "cell_type": "code",
      "source": [
        "list(zip(amount, dis))"
      ],
      "metadata": {
        "colab": {
          "base_uri": "https://localhost:8080/"
        },
        "id": "6cNQTrpMMKW3",
        "outputId": "18c8a797-5c18-49b9-a7bb-dd5e922c9f89"
      },
      "execution_count": null,
      "outputs": [
        {
          "output_type": "execute_result",
          "data": {
            "text/plain": [
              "[(50, 85), (100, 90), (200, 95)]"
            ]
          },
          "metadata": {},
          "execution_count": 22
        }
      ]
    },
    {
      "cell_type": "code",
      "source": [
        "# level 2 unpacking\n",
        "# Special case in for loop\n",
        "for i,j in zip(amount, dis):\n",
        "  print(i)\n",
        "  print(j)\n"
      ],
      "metadata": {
        "id": "B_yPNkVTJoT9"
      },
      "execution_count": null,
      "outputs": []
    },
    {
      "cell_type": "code",
      "source": [
        "for i,j,k in [(3,4,5), (9,'a',10), (8,7,67)]:\n",
        "  print(f'i : {i}, j: {j}, k:{k}')\n",
        "  # print(j)\n",
        "  # print(k)\n",
        "\n",
        "# Level 2 unpacking -- >"
      ],
      "metadata": {
        "colab": {
          "base_uri": "https://localhost:8080/"
        },
        "id": "CFlhHPwCKd41",
        "outputId": "9c3cc099-4936-468c-baf6-ba91f5fba9b9"
      },
      "execution_count": null,
      "outputs": [
        {
          "output_type": "stream",
          "name": "stdout",
          "text": [
            "i : 3, j: 4, k:5\n",
            "i : 9, j: a, k:10\n",
            "i : 8, j: 7, k:67\n"
          ]
        }
      ]
    },
    {
      "cell_type": "code",
      "source": [
        "# Any other Cases"
      ],
      "metadata": {
        "id": "pdS_iGgvNZL5"
      },
      "execution_count": null,
      "outputs": []
    },
    {
      "cell_type": "code",
      "source": [
        "# Since you variable and level 2 items are not same : error\n",
        "for i,j,k in [(3,4,5), (9,'a'), (8,7,67)]:\n",
        "  print(f'i : {i}, j: {j}, k:{k}')"
      ],
      "metadata": {
        "colab": {
          "base_uri": "https://localhost:8080/",
          "height": 193
        },
        "id": "O9NaDSxZLMj1",
        "outputId": "c8cc2ffb-0310-4f8f-d2e6-58e8980c65ec"
      },
      "execution_count": null,
      "outputs": [
        {
          "output_type": "stream",
          "name": "stdout",
          "text": [
            "i : 3, j: 4, k:5\n"
          ]
        },
        {
          "output_type": "error",
          "ename": "ValueError",
          "evalue": "not enough values to unpack (expected 3, got 2)",
          "traceback": [
            "\u001b[0;31m---------------------------------------------------------------------------\u001b[0m",
            "\u001b[0;31mValueError\u001b[0m                                Traceback (most recent call last)",
            "\u001b[0;32m<ipython-input-26-b4152aec47d4>\u001b[0m in \u001b[0;36m<cell line: 2>\u001b[0;34m()\u001b[0m\n\u001b[1;32m      1\u001b[0m \u001b[0;31m# Since you variable and level 2 items are not same : error\u001b[0m\u001b[0;34m\u001b[0m\u001b[0;34m\u001b[0m\u001b[0m\n\u001b[0;32m----> 2\u001b[0;31m \u001b[0;32mfor\u001b[0m \u001b[0mi\u001b[0m\u001b[0;34m,\u001b[0m\u001b[0mj\u001b[0m\u001b[0;34m,\u001b[0m\u001b[0mk\u001b[0m \u001b[0;32min\u001b[0m \u001b[0;34m[\u001b[0m\u001b[0;34m(\u001b[0m\u001b[0;36m3\u001b[0m\u001b[0;34m,\u001b[0m\u001b[0;36m4\u001b[0m\u001b[0;34m,\u001b[0m\u001b[0;36m5\u001b[0m\u001b[0;34m)\u001b[0m\u001b[0;34m,\u001b[0m \u001b[0;34m(\u001b[0m\u001b[0;36m9\u001b[0m\u001b[0;34m,\u001b[0m\u001b[0;34m'a'\u001b[0m\u001b[0;34m)\u001b[0m\u001b[0;34m,\u001b[0m \u001b[0;34m(\u001b[0m\u001b[0;36m8\u001b[0m\u001b[0;34m,\u001b[0m\u001b[0;36m7\u001b[0m\u001b[0;34m,\u001b[0m\u001b[0;36m67\u001b[0m\u001b[0;34m)\u001b[0m\u001b[0;34m]\u001b[0m\u001b[0;34m:\u001b[0m\u001b[0;34m\u001b[0m\u001b[0;34m\u001b[0m\u001b[0m\n\u001b[0m\u001b[1;32m      3\u001b[0m   \u001b[0mprint\u001b[0m\u001b[0;34m(\u001b[0m\u001b[0;34mf'i : {i}, j: {j}, k:{k}'\u001b[0m\u001b[0;34m)\u001b[0m\u001b[0;34m\u001b[0m\u001b[0;34m\u001b[0m\u001b[0m\n",
            "\u001b[0;31mValueError\u001b[0m: not enough values to unpack (expected 3, got 2)"
          ]
        }
      ]
    },
    {
      "cell_type": "code",
      "source": [
        "# Expected variables i,j --> 2\n",
        "# Level 2 Items : to be 2 --> if more than 2  --> error\n",
        "for i,j in [(3,4,5), (9,'a','b'), (8,7,67)]:\n",
        "  print(f'i : {i}, j: {j}, k:{k}')"
      ],
      "metadata": {
        "colab": {
          "base_uri": "https://localhost:8080/",
          "height": 193
        },
        "id": "N89Os9oPNsXL",
        "outputId": "6ff7efe3-f133-48d5-de61-91e609c28e8f"
      },
      "execution_count": null,
      "outputs": [
        {
          "output_type": "error",
          "ename": "ValueError",
          "evalue": "too many values to unpack (expected 2)",
          "traceback": [
            "\u001b[0;31m---------------------------------------------------------------------------\u001b[0m",
            "\u001b[0;31mValueError\u001b[0m                                Traceback (most recent call last)",
            "\u001b[0;32m<ipython-input-27-915fce4eda4b>\u001b[0m in \u001b[0;36m<cell line: 3>\u001b[0;34m()\u001b[0m\n\u001b[1;32m      1\u001b[0m \u001b[0;31m# Expected variables i,j --> 2\u001b[0m\u001b[0;34m\u001b[0m\u001b[0;34m\u001b[0m\u001b[0m\n\u001b[1;32m      2\u001b[0m \u001b[0;31m# Level 2 Items : to be 2 --> if more than 2  --> error\u001b[0m\u001b[0;34m\u001b[0m\u001b[0;34m\u001b[0m\u001b[0m\n\u001b[0;32m----> 3\u001b[0;31m \u001b[0;32mfor\u001b[0m \u001b[0mi\u001b[0m\u001b[0;34m,\u001b[0m\u001b[0mj\u001b[0m \u001b[0;32min\u001b[0m \u001b[0;34m[\u001b[0m\u001b[0;34m(\u001b[0m\u001b[0;36m3\u001b[0m\u001b[0;34m,\u001b[0m\u001b[0;36m4\u001b[0m\u001b[0;34m,\u001b[0m\u001b[0;36m5\u001b[0m\u001b[0;34m)\u001b[0m\u001b[0;34m,\u001b[0m \u001b[0;34m(\u001b[0m\u001b[0;36m9\u001b[0m\u001b[0;34m,\u001b[0m\u001b[0;34m'a'\u001b[0m\u001b[0;34m,\u001b[0m\u001b[0;34m'b'\u001b[0m\u001b[0;34m)\u001b[0m\u001b[0;34m,\u001b[0m \u001b[0;34m(\u001b[0m\u001b[0;36m8\u001b[0m\u001b[0;34m,\u001b[0m\u001b[0;36m7\u001b[0m\u001b[0;34m,\u001b[0m\u001b[0;36m67\u001b[0m\u001b[0;34m)\u001b[0m\u001b[0;34m]\u001b[0m\u001b[0;34m:\u001b[0m\u001b[0;34m\u001b[0m\u001b[0;34m\u001b[0m\u001b[0m\n\u001b[0m\u001b[1;32m      4\u001b[0m   \u001b[0mprint\u001b[0m\u001b[0;34m(\u001b[0m\u001b[0;34mf'i : {i}, j: {j}, k:{k}'\u001b[0m\u001b[0;34m)\u001b[0m\u001b[0;34m\u001b[0m\u001b[0;34m\u001b[0m\u001b[0m\n",
            "\u001b[0;31mValueError\u001b[0m: too many values to unpack (expected 2)"
          ]
        }
      ]
    },
    {
      "cell_type": "code",
      "source": [
        "for i,j,k in [{3,4,5}, {9,'a',10}, {8,7,67}]:\n",
        "  print(i)\n",
        "  print(j)\n",
        "  print(k)\n",
        "# Trick"
      ],
      "metadata": {
        "colab": {
          "base_uri": "https://localhost:8080/"
        },
        "id": "xB6-uwVaLX-U",
        "outputId": "240c1391-699f-4948-cb73-922427b258c4"
      },
      "execution_count": null,
      "outputs": [
        {
          "output_type": "stream",
          "name": "stdout",
          "text": [
            "3\n",
            "4\n",
            "9\n",
            "10\n",
            "8\n",
            "67\n"
          ]
        }
      ]
    },
    {
      "cell_type": "code",
      "source": [
        "((3,4,5))\n",
        "# Is this nested tuple? No : level of unpacking is 1\n"
      ],
      "metadata": {
        "id": "inOdmx2tMY1k"
      },
      "execution_count": null,
      "outputs": []
    },
    {
      "cell_type": "code",
      "source": [
        "((3,4,5),)\n",
        "# Is this nested tuple? yes : level of unpacking is 2"
      ],
      "metadata": {
        "id": "t6izX6gpMoge"
      },
      "execution_count": null,
      "outputs": []
    },
    {
      "cell_type": "code",
      "source": [
        "[((3,4,5),), (9,'a'), (8,7,67)]"
      ],
      "metadata": {
        "id": "TxF8LOstMO2B"
      },
      "execution_count": null,
      "outputs": []
    },
    {
      "cell_type": "code",
      "source": [
        "_var = ((4),)\n",
        "type(_var)"
      ],
      "metadata": {
        "colab": {
          "base_uri": "https://localhost:8080/"
        },
        "id": "beHO-k22L73h",
        "outputId": "0e3143cd-35ea-4e3a-dd43-4377a593221d"
      },
      "execution_count": null,
      "outputs": [
        {
          "output_type": "execute_result",
          "data": {
            "text/plain": [
              "tuple"
            ]
          },
          "metadata": {},
          "execution_count": 37
        }
      ]
    },
    {
      "cell_type": "code",
      "source": [
        "price = [300,400, 100, 50]\n",
        "discount = [.1, .05, .2, .05]\n",
        "\n",
        "# final price\n",
        "for i,j in zip(price,discount):\n",
        "  final_price = i * (1-j) # 300 * (1-0.1) # .9 of 300 --> Amount will I will pay\n",
        "  print(f'Final price : INR {final_price}')"
      ],
      "metadata": {
        "colab": {
          "base_uri": "https://localhost:8080/"
        },
        "id": "LG1AyVstONzB",
        "outputId": "ce3b5bca-9f5a-4a8b-9346-c6b5f643191c"
      },
      "execution_count": null,
      "outputs": [
        {
          "output_type": "stream",
          "name": "stdout",
          "text": [
            "Final price : INR 270.0\n",
            "Final price : INR 380.0\n",
            "Final price : INR 80.0\n",
            "Final price : INR 47.5\n"
          ]
        }
      ]
    },
    {
      "cell_type": "code",
      "source": [
        "# enumerate() : breaks the non primitive data types into index and value\n",
        "# Most applied on String, List, tuple"
      ],
      "metadata": {
        "id": "o8Cub-cDOBnT"
      },
      "execution_count": null,
      "outputs": []
    },
    {
      "cell_type": "code",
      "source": [
        "# Using enumerate() in a For Loop\n",
        "# The enumerate() function adds a counter to an iterable and\n",
        "# returns it in the form of an enumerate object,\n",
        "# which can be useful when you need both the index and the value.\n",
        "\n",
        "subject = ['Data Science', 'Maths', 'Python']\n",
        "for i, j in enumerate(subject):\n",
        "    print(f\"Index {i}: {j}\")\n"
      ],
      "metadata": {
        "id": "cT3GJGLFSQBJ",
        "colab": {
          "base_uri": "https://localhost:8080/"
        },
        "outputId": "7da41c14-433b-4ff9-8f8e-b2d872da2588"
      },
      "execution_count": null,
      "outputs": [
        {
          "output_type": "stream",
          "name": "stdout",
          "text": [
            "Index 0: Data Science\n",
            "Index 1: Maths\n",
            "Index 2: Python\n"
          ]
        }
      ]
    },
    {
      "cell_type": "code",
      "source": [
        "subject = ['Data Science', 'Maths', 'Python']\n",
        "list(enumerate(subject))"
      ],
      "metadata": {
        "colab": {
          "base_uri": "https://localhost:8080/"
        },
        "id": "Fx7yuAcmPSKx",
        "outputId": "04d3feaa-7d9d-4f11-deec-7b7d911e590a"
      },
      "execution_count": null,
      "outputs": [
        {
          "output_type": "execute_result",
          "data": {
            "text/plain": [
              "[(0, 'Data Science'), (1, 'Maths'), (2, 'Python')]"
            ]
          },
          "metadata": {},
          "execution_count": 33
        }
      ]
    },
    {
      "cell_type": "code",
      "source": [
        "subject = ['Data Science', 'Maths', 'Python']\n",
        "for _index, _sub in enumerate(subject):\n",
        "    print(f\"Index {_index}: {_sub}\")"
      ],
      "metadata": {
        "colab": {
          "base_uri": "https://localhost:8080/"
        },
        "id": "6xrRUqCMNxSg",
        "outputId": "37ababda-3efa-4e60-bf1f-9aa01303064b"
      },
      "execution_count": null,
      "outputs": [
        {
          "output_type": "stream",
          "name": "stdout",
          "text": [
            "Index 0: Data Science\n",
            "Index 1: Maths\n",
            "Index 2: Python\n"
          ]
        }
      ]
    },
    {
      "cell_type": "code",
      "source": [
        "\n",
        "list(enumerate(subject))"
      ],
      "metadata": {
        "colab": {
          "base_uri": "https://localhost:8080/"
        },
        "id": "iAgqAyLbNEvO",
        "outputId": "d3b3c07b-66b6-4e49-a641-19dfe0312c40"
      },
      "execution_count": null,
      "outputs": [
        {
          "output_type": "execute_result",
          "data": {
            "text/plain": [
              "[(0, 'Data Science'), (1, 'Maths'), (2, 'Python')]"
            ]
          },
          "metadata": {},
          "execution_count": 41
        }
      ]
    },
    {
      "cell_type": "code",
      "source": [
        "list(enumerate([30,56,78]))"
      ],
      "metadata": {
        "colab": {
          "base_uri": "https://localhost:8080/"
        },
        "id": "YN-3kp6NNpCq",
        "outputId": "d89b995f-8f69-4b4a-d19f-d21d7a37ce10"
      },
      "execution_count": null,
      "outputs": [
        {
          "output_type": "execute_result",
          "data": {
            "text/plain": [
              "[(0, 30), (1, 56), (2, 78)]"
            ]
          },
          "metadata": {},
          "execution_count": 42
        }
      ]
    },
    {
      "cell_type": "code",
      "source": [
        "_dict = {'a':1, 'b':2, 'c':3}\n",
        "\n",
        "for i,j in _dict.items():\n",
        "  print(f'i : {i}, j : {j}')"
      ],
      "metadata": {
        "colab": {
          "base_uri": "https://localhost:8080/"
        },
        "id": "mDP1d6v5P55A",
        "outputId": "66c72e3e-c92d-4701-86e7-e396affd261a"
      },
      "execution_count": null,
      "outputs": [
        {
          "output_type": "stream",
          "name": "stdout",
          "text": [
            "i : a, j : 1\n",
            "i : b, j : 2\n",
            "i : c, j : 3\n"
          ]
        }
      ]
    },
    {
      "cell_type": "code",
      "source": [
        "_dict.items() # Data format is same as of zip, enumerate"
      ],
      "metadata": {
        "colab": {
          "base_uri": "https://localhost:8080/"
        },
        "id": "uKWJRwxvQGWt",
        "outputId": "b4cf346a-4765-4f68-cf10-09d223ec5505"
      },
      "execution_count": null,
      "outputs": [
        {
          "output_type": "execute_result",
          "data": {
            "text/plain": [
              "dict_items([('a', 1), ('b', 2), ('c', 3)])"
            ]
          },
          "metadata": {},
          "execution_count": 37
        }
      ]
    },
    {
      "cell_type": "markdown",
      "source": [
        "#### Practice Questions"
      ],
      "metadata": {
        "id": "zMoOgDQjRSoh"
      }
    },
    {
      "cell_type": "code",
      "source": [
        "# Question 1 :\n",
        "'''\n",
        "Write a Python program that prints the square of each number from 1 to 10.\n",
        "\n",
        "Hint: Use the range function to generate numbers from 1 to 10.\n",
        "'''\n",
        "# Variable Section\n",
        "\n",
        "# input : No input\n",
        "\n",
        "# Square of each number from 1 to 10\n",
        "\n",
        "for i in range(1,11): # 1,2,3,...10\n",
        "  square_of_num = i**2\n",
        "  print(square_of_num)\n",
        "\n",
        "\n",
        "\n"
      ],
      "metadata": {
        "id": "uMLAKyrrRVSx",
        "colab": {
          "base_uri": "https://localhost:8080/"
        },
        "outputId": "01be2af9-a3ef-478d-e3f0-c1a6b206894c"
      },
      "execution_count": null,
      "outputs": [
        {
          "output_type": "stream",
          "name": "stdout",
          "text": [
            "1\n",
            "4\n",
            "9\n",
            "16\n",
            "25\n",
            "36\n",
            "49\n",
            "64\n",
            "81\n",
            "100\n"
          ]
        }
      ]
    },
    {
      "cell_type": "code",
      "source": [
        "# Question 2 :\n",
        "'''\n",
        "You have a list of numbers:\n",
        "\n",
        "numbers = [23, 56, 32, 78, 45, 43, 10]\n",
        "Write a Python program to print each number in the list followed by whether it is \"Even\" or \"Odd\".\n",
        "'''\n",
        "# Expected Output:\n",
        "\n",
        "# 23 - Odd\n",
        "# 56 - Even\n",
        "# 32 - Even\n",
        "# 78 - Even\n",
        "# 45 - Odd\n",
        "# 43 - Odd\n",
        "# 10 - Even\n",
        "\n",
        "\n",
        "numbers = [23, 56, 32, 78, 45, 43, 10]\n",
        "\n",
        "for i in numbers:\n",
        "  if i % 2 ==0:\n",
        "    print(f'{i} - Even')\n",
        "  else:\n",
        "    print(f'{i} - Odd')\n",
        "\n"
      ],
      "metadata": {
        "id": "w26K4l0SU0r9",
        "colab": {
          "base_uri": "https://localhost:8080/"
        },
        "outputId": "f8183856-1270-48eb-afaa-149df88be81f"
      },
      "execution_count": null,
      "outputs": [
        {
          "output_type": "stream",
          "name": "stdout",
          "text": [
            "23 - Odd\n",
            "56 - Even\n",
            "32 - Even\n",
            "78 - Even\n",
            "45 - Odd\n",
            "43 - Odd\n",
            "10 - Even\n"
          ]
        }
      ]
    },
    {
      "cell_type": "code",
      "source": [
        "# Generic Input\n",
        "numbers = eval(input('Enter the list:'))\n",
        "\n",
        "for i in numbers:\n",
        "  if i % 2 ==0:\n",
        "    print(f'{i} - Even')\n",
        "  else:\n",
        "    print(f'{i} - Odd')"
      ],
      "metadata": {
        "colab": {
          "base_uri": "https://localhost:8080/"
        },
        "id": "cwtakOEC-ffa",
        "outputId": "74287525-cd1c-4e13-9382-788ac2ce5ae8"
      },
      "execution_count": null,
      "outputs": [
        {
          "output_type": "stream",
          "name": "stdout",
          "text": [
            "Enter the list:[23, 56, 32, 78, 45, 43, 10]\n",
            "23 - Odd\n",
            "56 - Even\n",
            "32 - Even\n",
            "78 - Even\n",
            "45 - Odd\n",
            "43 - Odd\n",
            "10 - Even\n"
          ]
        }
      ]
    },
    {
      "cell_type": "code",
      "source": [
        "# Question 3:\n",
        "'''\n",
        "# Find Factor:\n",
        "# Given a number (e.g., 12), find and print its factors using a for loop.\n",
        "# 12 : # Factors of 12\n",
        "# 1\n",
        "# 2\n",
        "# 3\n",
        "# 4\n",
        "# 6\n",
        "# 12\n",
        "'''\n",
        "num = int(input('Enter the number:')) # 12 | 30\n",
        "\n",
        "for i in range(1,num+1): # 1 to 12 (1,2,3,4,5,6,..12), range(1,13) # 12 or 13\n",
        "  if num % i ==0:\n",
        "    print(i)\n",
        "\n",
        "# Trick of for loop : Think about the collection of items on which for loop will run.\n",
        "\n",
        "# Logic Section : code | Avoid using exact values | use Variables\n",
        "\n",
        "# n = 12\n",
        "\n",
        "# for i in range(1,n +1):\n",
        "\n"
      ],
      "metadata": {
        "id": "n-QOyEi1VQM4",
        "colab": {
          "base_uri": "https://localhost:8080/"
        },
        "outputId": "56f32456-1e9a-486b-8e70-8bc23189d717"
      },
      "execution_count": null,
      "outputs": [
        {
          "output_type": "stream",
          "name": "stdout",
          "text": [
            "Enter the number:30\n",
            "1\n",
            "2\n",
            "3\n",
            "5\n",
            "6\n",
            "10\n",
            "15\n",
            "30\n"
          ]
        }
      ]
    },
    {
      "cell_type": "code",
      "source": [],
      "metadata": {
        "colab": {
          "base_uri": "https://localhost:8080/"
        },
        "id": "Adhn6XeaVhE4",
        "outputId": "4571e208-7f12-4bf0-be25-0934bce9c21c"
      },
      "execution_count": null,
      "outputs": [
        {
          "output_type": "execute_result",
          "data": {
            "text/plain": [
              "[1, 2, 3, 4, 5]"
            ]
          },
          "metadata": {},
          "execution_count": 53
        }
      ]
    },
    {
      "cell_type": "code",
      "source": [
        "# Question 4 :\n",
        "'''\n",
        "Write a Python program that iterates through a list of numbers\n",
        "and accumulates the sum of all even numbers.\n",
        "\n",
        "'''\n",
        "\n",
        "# Variable name should have meaning\n",
        "# Single word variable : Always start with (_ : Underscore)\n",
        "\n",
        "list_num = eval(input('Enter the list of numbers :'))\n",
        "_total = 0 # Empty basket, secondary variable\n",
        "for i in list_num:\n",
        "  if i %2 ==0:\n",
        "    _total = _total + i # _total += i\n",
        "\n",
        "print(_total)\n",
        "\n"
      ],
      "metadata": {
        "id": "Ho9HBz_GVwu5",
        "colab": {
          "base_uri": "https://localhost:8080/"
        },
        "outputId": "a835514a-a77b-4616-c764-94b8127860a3"
      },
      "execution_count": null,
      "outputs": [
        {
          "output_type": "stream",
          "name": "stdout",
          "text": [
            "Enter the list of numbers :[1, 2, 3, 4, 5]\n",
            "6\n"
          ]
        }
      ]
    },
    {
      "cell_type": "code",
      "source": [
        "del sum"
      ],
      "metadata": {
        "id": "OpUa6sy0BFLq"
      },
      "execution_count": null,
      "outputs": []
    },
    {
      "cell_type": "code",
      "source": [
        "sum([2,3,4,5])"
      ],
      "metadata": {
        "colab": {
          "base_uri": "https://localhost:8080/"
        },
        "id": "1NlYnPwkBDCM",
        "outputId": "41e234ad-36d1-4ff9-a60e-48f51e62bc0d"
      },
      "execution_count": null,
      "outputs": [
        {
          "output_type": "execute_result",
          "data": {
            "text/plain": [
              "14"
            ]
          },
          "metadata": {},
          "execution_count": 10
        }
      ]
    },
    {
      "cell_type": "code",
      "source": [
        "del _total"
      ],
      "metadata": {
        "id": "3bH6FXkuCh89"
      },
      "execution_count": null,
      "outputs": []
    },
    {
      "cell_type": "code",
      "source": [
        "# Question 5 :\n",
        "'''\n",
        "Calculate the sum of squares of numbers from 1 to n using a for loop.\n",
        "1^2 + 2^2 + 3^2 + 4^2 + 5^2..n^2\n",
        "\n",
        "'''\n",
        "n = int(input('Enter the value of n: '))\n",
        "_total = 0\n",
        "for i in range(1,n+1):\n",
        "  _total += (i**2)\n",
        "\n",
        "print(_total)\n",
        "\n",
        "# _total = 0\n",
        "# Iteration\n",
        "# Iteration 1:\n",
        "# i = 1\n",
        "# _total = _total + i**2 | 0 + 1**2 | 0 + 1 = 1"
      ],
      "metadata": {
        "id": "KdOfoZEpV8jb",
        "colab": {
          "base_uri": "https://localhost:8080/",
          "height": 228
        },
        "outputId": "f143e74d-7daa-4c9a-afbe-58d17bb9632f"
      },
      "execution_count": null,
      "outputs": [
        {
          "name": "stdout",
          "output_type": "stream",
          "text": [
            "Enter the value of n: 5\n"
          ]
        },
        {
          "output_type": "error",
          "ename": "NameError",
          "evalue": "name '_total' is not defined",
          "traceback": [
            "\u001b[0;31m---------------------------------------------------------------------------\u001b[0m",
            "\u001b[0;31mNameError\u001b[0m                                 Traceback (most recent call last)",
            "\u001b[0;32m<ipython-input-14-b0517d525886>\u001b[0m in \u001b[0;36m<cell line: 9>\u001b[0;34m()\u001b[0m\n\u001b[1;32m      8\u001b[0m \u001b[0;31m# _total = 0\u001b[0m\u001b[0;34m\u001b[0m\u001b[0;34m\u001b[0m\u001b[0m\n\u001b[1;32m      9\u001b[0m \u001b[0;32mfor\u001b[0m \u001b[0mi\u001b[0m \u001b[0;32min\u001b[0m \u001b[0mrange\u001b[0m\u001b[0;34m(\u001b[0m\u001b[0;36m1\u001b[0m\u001b[0;34m,\u001b[0m\u001b[0mn\u001b[0m\u001b[0;34m+\u001b[0m\u001b[0;36m1\u001b[0m\u001b[0;34m)\u001b[0m\u001b[0;34m:\u001b[0m\u001b[0;34m\u001b[0m\u001b[0;34m\u001b[0m\u001b[0m\n\u001b[0;32m---> 10\u001b[0;31m   \u001b[0m_total\u001b[0m \u001b[0;34m+=\u001b[0m \u001b[0;34m(\u001b[0m\u001b[0mi\u001b[0m\u001b[0;34m**\u001b[0m\u001b[0;36m2\u001b[0m\u001b[0;34m)\u001b[0m\u001b[0;34m\u001b[0m\u001b[0;34m\u001b[0m\u001b[0m\n\u001b[0m\u001b[1;32m     11\u001b[0m \u001b[0;34m\u001b[0m\u001b[0m\n\u001b[1;32m     12\u001b[0m \u001b[0mprint\u001b[0m\u001b[0;34m(\u001b[0m\u001b[0m_total\u001b[0m\u001b[0;34m)\u001b[0m\u001b[0;34m\u001b[0m\u001b[0;34m\u001b[0m\u001b[0m\n",
            "\u001b[0;31mNameError\u001b[0m: name '_total' is not defined"
          ]
        }
      ]
    },
    {
      "cell_type": "code",
      "source": [
        "n = int(input('Enter the value of n: '))\n",
        "\n",
        "for i in range(1,n+1):\n",
        "  _total = 0\n",
        "  _total += (i**2)\n",
        "\n",
        "print(_total)\n",
        "\n",
        "# Iteration\n",
        "# Iteration 1 :\n",
        "# i = 1\n",
        "# _total = 0\n",
        "# _total = _total + i | 0 + 1 | 1\n",
        "\n",
        "# Iteration 2:\n",
        "# i = 2\n",
        "# _total = 0\n",
        "# _total = _total + i | 0 + 2 | 2"
      ],
      "metadata": {
        "id": "uQGD_AMdDBZt"
      },
      "execution_count": null,
      "outputs": []
    },
    {
      "cell_type": "code",
      "source": [
        "# Question 6 :\n",
        "'''\n",
        "Calculate the sum of numbers from 1 to n using a for loop.\n",
        "1/1^3 + 1/2^2 + 1/3^3 + 1/4^2 + 1/5^3....\n",
        "\n",
        "Odd - cube\n",
        "Even - Square\n",
        "'''\n",
        "\n",
        "n = int(input('Enter the number: ')) # 4\n",
        "_total = 0\n",
        "for i in range(1,n+1):\n",
        "  if i % 2==0:\n",
        "    _total += 1/ (i**2)\n",
        "  else:\n",
        "    _total += 1/(i**3)\n",
        "\n",
        "print(_total)\n",
        "\n",
        "# Iteration : n = 4\n",
        "\n",
        "# Iterations : range(1,5) --: 1,2,3,4\n",
        "\n",
        "# Iteration 1 :\n",
        "# i = 1\n",
        "# if i % 2==0: # False\n",
        "  #   _total += 1/ (i**2)\n",
        "  # else:\n",
        "  #   _total += 1/(i**3) | _total = _total + 1/(i**3) | 0 + 1/1 | 1\n",
        "\n",
        "#  Iteration 2 :\n",
        "# i = 2\n",
        "# if i % 2==0: # True\n",
        "  #   _total += 1/ (i**2) | _total = _total + 1/(i**2) | 1 + 1/4 | 1.25\n",
        "  # else:\n",
        "  #   _total += 1/(i**3)\n",
        "\n",
        "# ..."
      ],
      "metadata": {
        "id": "prBJ6H8TWRLw",
        "colab": {
          "base_uri": "https://localhost:8080/"
        },
        "outputId": "fe7d5cf5-ccf2-4304-8dfe-bd04734ed5b2"
      },
      "execution_count": null,
      "outputs": [
        {
          "output_type": "stream",
          "name": "stdout",
          "text": [
            "Enter the number: 4\n",
            "1.349537037037037\n"
          ]
        }
      ]
    },
    {
      "cell_type": "code",
      "source": [
        "# Question 7 :\n",
        "'''\n",
        "Find the Factorial of any number\n",
        "0! = 1\n",
        "5! =  1 * 2 * 3 * 4 *5\n",
        "1! = 1\n",
        "2! = 1*2\n",
        "'''\n",
        "n = int(input('Enter the value of n : ')) #0\n",
        "\n",
        "if n >=0:\n",
        "  _fact = 1 # Initialise the variable\n",
        "\n",
        "  for i in range(1,n+1): # range(1,0+1), range(1,1) --> []\n",
        "    _fact = _fact * i\n",
        "\n",
        "  print(_fact)\n",
        "else:\n",
        "  print('Enter the value which is >= 0')\n"
      ],
      "metadata": {
        "id": "sq6GUi6LWxJT",
        "colab": {
          "base_uri": "https://localhost:8080/"
        },
        "outputId": "48846ee4-5df2-46a2-e197-e2757cbe023a"
      },
      "execution_count": null,
      "outputs": [
        {
          "output_type": "stream",
          "name": "stdout",
          "text": [
            "Enter the value of n : 1\n",
            "1\n"
          ]
        }
      ]
    },
    {
      "cell_type": "code",
      "source": [
        "# Ask questions from your logic"
      ],
      "metadata": {
        "id": "-bcJwbQ0Hepu"
      },
      "execution_count": null,
      "outputs": []
    },
    {
      "cell_type": "code",
      "source": [
        "list(range(1,0+1)) # Empty list"
      ],
      "metadata": {
        "colab": {
          "base_uri": "https://localhost:8080/"
        },
        "id": "7bjPZimvGPrS",
        "outputId": "e089e661-eaf5-4585-fc2b-8f14c2db8c2e"
      },
      "execution_count": null,
      "outputs": [
        {
          "output_type": "execute_result",
          "data": {
            "text/plain": [
              "[]"
            ]
          },
          "metadata": {},
          "execution_count": 18
        }
      ]
    },
    {
      "cell_type": "code",
      "source": [
        "list(range(1,-43)) # Step: positive number +1"
      ],
      "metadata": {
        "colab": {
          "base_uri": "https://localhost:8080/"
        },
        "id": "CXDV9XGoGbdO",
        "outputId": "55d630d7-fd4b-40d8-9591-2c277be6ad03"
      },
      "execution_count": null,
      "outputs": [
        {
          "output_type": "execute_result",
          "data": {
            "text/plain": [
              "[]"
            ]
          },
          "metadata": {},
          "execution_count": 23
        }
      ]
    },
    {
      "cell_type": "code",
      "source": [
        "# 1,0,-1,-2,-3,-4\n",
        "list(range(1,-5, -1))"
      ],
      "metadata": {
        "colab": {
          "base_uri": "https://localhost:8080/"
        },
        "id": "HuPMKRSPGm_d",
        "outputId": "55c20977-3cd7-4450-ecc9-6ac90919023f"
      },
      "execution_count": null,
      "outputs": [
        {
          "output_type": "execute_result",
          "data": {
            "text/plain": [
              "[1, 0, -1, -2, -3, -4]"
            ]
          },
          "metadata": {},
          "execution_count": 21
        }
      ]
    },
    {
      "cell_type": "code",
      "source": [
        "# Trick\n",
        "# 1. Look at the solution and understand each iteration\n",
        "# 2. Variable as an input, collection of items on which loops will run & logic"
      ],
      "metadata": {
        "id": "c77c3zFUIn0c"
      },
      "execution_count": null,
      "outputs": []
    },
    {
      "cell_type": "code",
      "source": [
        "# Question 8 :\n",
        "'''\n",
        "For any num print the total sum of digits\n",
        "Input : 123  Output  1+2+3= 6\n",
        "'''\n",
        "n = int(input('Enter the number:'))\n",
        "n_str = str(n)\n",
        "# Trick : Anything is string then each character will become an element\n",
        "# 1234 -> I can't iterate\n",
        "# '1234' --> Each element can be extracted\n",
        "\n",
        "_total = 0\n",
        "for i in n_str: # '1234' # i = '1', i = '2', i = '3' , i = '4'\n",
        "  _total = _total + int(i)\n",
        "\n",
        "print(_total)\n",
        "\n",
        "# total : int , i --> str"
      ],
      "metadata": {
        "id": "eNxa7WgOXPbH",
        "colab": {
          "base_uri": "https://localhost:8080/"
        },
        "outputId": "5971264d-b8e6-48ac-9338-33e5f75aeb7a"
      },
      "execution_count": null,
      "outputs": [
        {
          "output_type": "stream",
          "name": "stdout",
          "text": [
            "Enter the number:1256\n",
            "14\n"
          ]
        }
      ]
    },
    {
      "cell_type": "code",
      "source": [
        "# 1256 --> 14 --> 1+4 --> 5\n",
        "# While loop\n",
        "# Thala for a reason :"
      ],
      "metadata": {
        "id": "RjFzuNI5JgWP"
      },
      "execution_count": null,
      "outputs": []
    },
    {
      "cell_type": "code",
      "source": [
        "_var = '1234'\n",
        "type(_var[0])"
      ],
      "metadata": {
        "colab": {
          "base_uri": "https://localhost:8080/"
        },
        "id": "wu6lYP6fJAcT",
        "outputId": "b7d06eb8-2e09-40c0-8c84-88bb623d8518"
      },
      "execution_count": null,
      "outputs": [
        {
          "output_type": "execute_result",
          "data": {
            "text/plain": [
              "str"
            ]
          },
          "metadata": {},
          "execution_count": 33
        }
      ]
    },
    {
      "cell_type": "code",
      "source": [
        "_var[0]"
      ],
      "metadata": {
        "colab": {
          "base_uri": "https://localhost:8080/",
          "height": 35
        },
        "id": "IhuE-hP7JFn1",
        "outputId": "92757b9e-f3a3-44b9-ef31-ea14b4aa86d9"
      },
      "execution_count": null,
      "outputs": [
        {
          "output_type": "execute_result",
          "data": {
            "text/plain": [
              "'1'"
            ],
            "application/vnd.google.colaboratory.intrinsic+json": {
              "type": "string"
            }
          },
          "metadata": {},
          "execution_count": 32
        }
      ]
    },
    {
      "cell_type": "code",
      "source": [
        "# Question 9 :\n",
        "'''\n",
        "Write a Python function that takes an integer as input and checks whether it is a prime number.\n",
        "A prime number is a number greater than 1 that has no divisors other than 1 and itself.\n",
        "'''\n",
        "# Prime Number : 2, 3 , 5 , 7 , 11 --> (only divisible by 1 or itself)\n",
        "# composite Number : All other numbers, 6 (Divisible : 1,& 6 and 2&3\n",
        "# 1 : neither prime nor composite\n",
        "\n",
        "num = int(input('Enter the number :'))\n",
        "_count = 0\n",
        "for i in range(2,num): # Excluding : 1 & itself will divide all scenarios\n",
        "  if num % i == 0:\n",
        "    _count +=1\n",
        "\n",
        "if _count >0:\n",
        "  print('Composite')\n",
        "else:\n",
        "  print('Prime')\n",
        "\n",
        "# iterations : num = 7\n",
        "\n",
        "# range(2,7) --> 2,3,4,5,6\n",
        "\n",
        "# i = 2\n",
        "\n",
        "# # iterations : num = 6\n",
        "\n",
        "# range(2,6) --> 2,3,4,5\n",
        "\n",
        "# i = 2 & i = 3\n",
        "# if num % i == 0: # True\n",
        "    # _count +=1 |\n",
        "# _count = 2\n",
        "\n"
      ],
      "metadata": {
        "id": "ZmqyrSM7XZif",
        "colab": {
          "base_uri": "https://localhost:8080/",
          "height": 228
        },
        "outputId": "b7c1ecb7-25a0-4bb7-97ce-e9b16dc279b8"
      },
      "execution_count": null,
      "outputs": [
        {
          "name": "stdout",
          "output_type": "stream",
          "text": [
            "Enter the number :6666666666666666666\n"
          ]
        },
        {
          "output_type": "error",
          "ename": "KeyboardInterrupt",
          "evalue": "",
          "traceback": [
            "\u001b[0;31m---------------------------------------------------------------------------\u001b[0m",
            "\u001b[0;31mKeyboardInterrupt\u001b[0m                         Traceback (most recent call last)",
            "\u001b[0;32m<ipython-input-36-119ae4198531>\u001b[0m in \u001b[0;36m<cell line: 12>\u001b[0;34m()\u001b[0m\n\u001b[1;32m     11\u001b[0m \u001b[0m_count\u001b[0m \u001b[0;34m=\u001b[0m \u001b[0;36m0\u001b[0m\u001b[0;34m\u001b[0m\u001b[0;34m\u001b[0m\u001b[0m\n\u001b[1;32m     12\u001b[0m \u001b[0;32mfor\u001b[0m \u001b[0mi\u001b[0m \u001b[0;32min\u001b[0m \u001b[0mrange\u001b[0m\u001b[0;34m(\u001b[0m\u001b[0;36m2\u001b[0m\u001b[0;34m,\u001b[0m\u001b[0mnum\u001b[0m\u001b[0;34m)\u001b[0m\u001b[0;34m:\u001b[0m \u001b[0;31m# Excluding : 1 & itself will divide all scenarios\u001b[0m\u001b[0;34m\u001b[0m\u001b[0;34m\u001b[0m\u001b[0m\n\u001b[0;32m---> 13\u001b[0;31m   \u001b[0;32mif\u001b[0m \u001b[0mnum\u001b[0m \u001b[0;34m%\u001b[0m \u001b[0mi\u001b[0m \u001b[0;34m==\u001b[0m \u001b[0;36m0\u001b[0m\u001b[0;34m:\u001b[0m\u001b[0;34m\u001b[0m\u001b[0;34m\u001b[0m\u001b[0m\n\u001b[0m\u001b[1;32m     14\u001b[0m     \u001b[0m_count\u001b[0m \u001b[0;34m+=\u001b[0m\u001b[0;36m1\u001b[0m\u001b[0;34m\u001b[0m\u001b[0;34m\u001b[0m\u001b[0m\n\u001b[1;32m     15\u001b[0m \u001b[0;34m\u001b[0m\u001b[0m\n",
            "\u001b[0;31mKeyboardInterrupt\u001b[0m: "
          ]
        }
      ]
    },
    {
      "cell_type": "code",
      "source": [
        "num = int(input('Enter the number :'))\n",
        "_count = 0\n",
        "for i in range(2,num): # Excluding : 1 & itself will divide all scenarios\n",
        "  if num % i == 0:\n",
        "    _count +=1\n",
        "    break # prime number If any number is dividing the input : Composite between 2, n-1\n",
        "\n",
        "if _count >0:\n",
        "  print('Composite')\n",
        "else:\n",
        "  print('Prime')"
      ],
      "metadata": {
        "colab": {
          "base_uri": "https://localhost:8080/"
        },
        "id": "pc33xCDuOQWE",
        "outputId": "13f8d663-cf3e-46ff-d5b1-a74a11fd0c83"
      },
      "execution_count": null,
      "outputs": [
        {
          "output_type": "stream",
          "name": "stdout",
          "text": [
            "Enter the number :6666666666666666666\n",
            "Composite\n"
          ]
        }
      ]
    },
    {
      "cell_type": "code",
      "source": [
        "# Question 10 :\n",
        "'''\n",
        "Write a Python code that iterates through a list of items using enumerate(). If an item is out of stock (represented by None),\n",
        "use the continue statement to skip printing that item. Otherwise, print the index and item name.\n",
        "shopping_list = ['apples', None, 'bread', 'milk', None, 'eggs']\n",
        "'''\n",
        "shopping_list = ['apples', None, 'bread', 'milk', None, 'eggs']\n",
        "\n",
        "for i,j in enumerate(shopping_list): # [(0,'apples'), (1,None)....] # level 2 unpacking\n",
        "  if j == None:\n",
        "    continue\n",
        "  print(f'{i} - {j}')\n",
        "\n"
      ],
      "metadata": {
        "id": "SX5dzFB0ZuVY",
        "colab": {
          "base_uri": "https://localhost:8080/"
        },
        "outputId": "f6c6bae4-9fa9-4c53-8570-f735f4814229"
      },
      "execution_count": null,
      "outputs": [
        {
          "output_type": "stream",
          "name": "stdout",
          "text": [
            "0 - apples\n",
            "2 - bread\n",
            "3 - milk\n",
            "5 - eggs\n"
          ]
        }
      ]
    },
    {
      "cell_type": "code",
      "source": [
        "# Question 11 : Pattern questions\n",
        "'''\n",
        "Write a Python program to print the following pattern based on depth on n\n",
        "n = 5\n",
        "output :\n",
        "*\n",
        "**\n",
        "***\n",
        "****\n",
        "*****\n",
        "\n",
        "'''\n",
        "\n",
        "#Repeatation using (* )--> Multiplication  with string, list, tuple.\n",
        "\n",
        "# 'a' *  6\n",
        "\n",
        "n = int(input('Enter the depth of the pattern:')) # 6\n",
        "\n",
        "for i in range(1,n+1): #(1,2,3,4,5,6)\n",
        "  print('*' * i)\n",
        "\n",
        "# Iteration i = 2\n",
        "# '*' * 2\n",
        "\n",
        "# '*' * 2"
      ],
      "metadata": {
        "id": "0PMTfnYhaE5r",
        "colab": {
          "base_uri": "https://localhost:8080/"
        },
        "outputId": "a386babc-c0bd-4b88-8429-04a23d99ccf0"
      },
      "execution_count": null,
      "outputs": [
        {
          "output_type": "stream",
          "name": "stdout",
          "text": [
            "Enter the depth of the pattern:10\n",
            "*\n",
            "**\n",
            "***\n",
            "****\n",
            "*****\n",
            "******\n",
            "*******\n",
            "********\n",
            "*********\n",
            "**********\n"
          ]
        }
      ]
    },
    {
      "cell_type": "code",
      "source": [
        "# Question 12:\n",
        "'''\n",
        "# Looping over dictionary and find the defective product\n",
        "'''\n",
        "_dict = {'Product A': False, 'Product B' : True, 'Product C': True, 'Product D': False}\n",
        "\n",
        "# Find the defective products : True\n",
        "\n",
        "for i, j in _dict.items(): # [('Product A',False )...]\n",
        "  if j == True:\n",
        "    print(i)\n",
        "\n"
      ],
      "metadata": {
        "id": "O2JA0CT6kb7N",
        "colab": {
          "base_uri": "https://localhost:8080/"
        },
        "outputId": "216e48d6-e90a-4bd6-e735-66870ecadd6c"
      },
      "execution_count": null,
      "outputs": [
        {
          "output_type": "stream",
          "name": "stdout",
          "text": [
            "Product B\n",
            "Product C\n"
          ]
        }
      ]
    },
    {
      "cell_type": "code",
      "source": [
        "_dict = {'A':2, 'B': 3}"
      ],
      "metadata": {
        "id": "CpJbvjgSRxK7"
      },
      "execution_count": null,
      "outputs": []
    },
    {
      "cell_type": "code",
      "source": [
        "_dict.items() # Level 2 Unpacking"
      ],
      "metadata": {
        "colab": {
          "base_uri": "https://localhost:8080/"
        },
        "id": "Gy6DWE-JRuz5",
        "outputId": "3e241480-993f-457d-fc25-9e8728b33478"
      },
      "execution_count": null,
      "outputs": [
        {
          "output_type": "execute_result",
          "data": {
            "text/plain": [
              "dict_items([('A', 2), ('B', 3)])"
            ]
          },
          "metadata": {},
          "execution_count": 47
        }
      ]
    },
    {
      "cell_type": "code",
      "source": [
        "# Question 13 :\n",
        "'''\n",
        "#Find the links not working from the log data\n",
        "'''\n",
        "log = { '/home' : 200, '/about':200, '/home/product':200, '/home/product/electronic': 404,'/home/product/fashion': 200 }\n",
        "\n",
        "for i,j in log.items():\n",
        "  if j == 404:\n",
        "    print(i)\n"
      ],
      "metadata": {
        "id": "NEGwjE_4oDi0",
        "colab": {
          "base_uri": "https://localhost:8080/"
        },
        "outputId": "e2537994-79b7-4f5e-fea8-977e3cf602dc"
      },
      "execution_count": null,
      "outputs": [
        {
          "output_type": "stream",
          "name": "stdout",
          "text": [
            "/home/product/electronic\n"
          ]
        }
      ]
    },
    {
      "cell_type": "code",
      "source": [],
      "metadata": {
        "id": "fPuYo0tgijh0"
      },
      "execution_count": null,
      "outputs": []
    },
    {
      "cell_type": "code",
      "source": [
        "# Question 14:\n",
        "\n",
        "# Print the longest word in the sentence\n",
        "# sentence = 'Python is the most interesting language'\n",
        "sentence = input('Enter the sentence : ')\n",
        "_sentence_words = sentence.split(' ')\n",
        "# print(_sentence_words)\n",
        "longest_word = _sentence_words[0] # Assumption\n",
        "\n",
        "for i in _sentence_words:\n",
        "  if len(i) > len(longest_word):\n",
        "    longest_word = i\n",
        "\n",
        "print(longest_word)\n",
        "\n",
        "# ['Python', 'is' ,'the', 'most', 'interesting', 'language']\n",
        "\n",
        "# longest_word = 'Python'\n",
        "\n",
        "# i = ['Python', 'is' ,'the', 'most', 'interesting', 'language']\n",
        "\n",
        "\n",
        "# i = 'Python'\n",
        "# len('Python') > len(longest_word) : True or False | False | 6 > 6| False\n",
        "# i = 'is'\n",
        "\n",
        "# len('is') > len(longest_word) : 2 > 6 : False\n",
        "\n",
        "# i = 'the'  | 3> 6 | False\n",
        "# i ='most' | 4 > 6 | False\n",
        "\n",
        "# i = 'interesting'\n",
        "# len(i) > len (longest_word) : 11 > 6 : True\n",
        "# longest_word = i | longest_word = 'interesting'\n",
        "\n",
        "# i = 'language'\n",
        "# len(i) > len(longest_word) :  O2: 8 > 11 | False\n",
        "\n",
        "# longest_word : 'interesting'"
      ],
      "metadata": {
        "id": "jS7y31WFkxIf",
        "colab": {
          "base_uri": "https://localhost:8080/"
        },
        "outputId": "b932fe68-774d-4c81-d04f-41b00f0f2193"
      },
      "execution_count": null,
      "outputs": [
        {
          "output_type": "stream",
          "name": "stdout",
          "text": [
            "Enter the sentence : This is a test sentence\n",
            "sentence\n"
          ]
        }
      ]
    },
    {
      "cell_type": "code",
      "source": [
        "len('language')"
      ],
      "metadata": {
        "colab": {
          "base_uri": "https://localhost:8080/"
        },
        "id": "iwTWxSd2Ugza",
        "outputId": "b7a8884a-fd14-4557-e3f2-f5afba08e4de"
      },
      "execution_count": null,
      "outputs": [
        {
          "output_type": "execute_result",
          "data": {
            "text/plain": [
              "8"
            ]
          },
          "metadata": {},
          "execution_count": 56
        }
      ]
    },
    {
      "cell_type": "code",
      "source": [
        "# Question 15:\n",
        "'''\n",
        "Write a program that counts the number of vowels in a given string.\n",
        "\n",
        "Expected output\n",
        "\n",
        "# String : 'AlmaBetter' output : 4\n",
        "# String : 'Data Science' output : 5\n",
        "'''\n",
        "\n",
        "_word = input('Enter the word:')\n",
        "_count = 0\n",
        "for i in _word: # AlmaBetter | i = 'A'\n",
        "  if i.lower() in 'aeiou':\n",
        "    _count += 1 # to count how many times vowel has occured\n",
        "\n",
        "print(_count)"
      ],
      "metadata": {
        "id": "0uAP-J8ziVEu",
        "colab": {
          "base_uri": "https://localhost:8080/"
        },
        "outputId": "7bb5d408-f0b0-4bbc-b2c3-8bc519d06e6b"
      },
      "execution_count": null,
      "outputs": [
        {
          "output_type": "stream",
          "name": "stdout",
          "text": [
            "Enter the word:AlmaBetter\n",
            "4\n"
          ]
        }
      ]
    },
    {
      "cell_type": "code",
      "source": [
        "# Question 16:\n",
        "'''\n",
        "Create a dictionary with key as unique characters in a word\n",
        "and value as number of times character is repeating\n",
        "Input : 'AlmaBetter' output : {'A': 1, 'a': 1, 't': 2, 'm': 1, 'e': 2, 'r': 1, 'l': 1, 'B': 1}\n",
        "Input : 'Data' output : {'D': 1, 'a': 2, 't': 1}\n",
        "'''\n",
        "word = input('Enter the word:')\n",
        "_output = {} # Empty dict\n",
        "\n",
        "for i in word:\n",
        "  _output[i] = word.count(i)\n",
        "\n",
        "print(_output)\n",
        "\n",
        "# Output : {'D': 1, 'a': 2, 't': 1}\n",
        "\n",
        "# Word = 'Data'\n",
        "\n",
        "# i : 'D'\n",
        "# _output[i] = word.count(i) | _output =  {'D' : 1}\n",
        "\n",
        "# i : 'a'\n",
        "# _output[i] = word.count(i) | _output = {'D':1, 'a':2 }\n",
        "\n",
        "# i : 't'\n",
        "\n",
        "# _output[i] = word.count(i) | _output = {'D':1, 'a':2, 't':1 }\n",
        "\n",
        "# i :'a'\n",
        "\n",
        "# # _output[i] = word.count(i) | _output = {'D':1, 'a':2, 't':1 }\n",
        "\n",
        "# Reduce the iteration\n",
        "\n"
      ],
      "metadata": {
        "id": "1lwUVERwk3wM",
        "colab": {
          "base_uri": "https://localhost:8080/"
        },
        "outputId": "978e57a3-5d3d-4fd5-b199-a379062af41d"
      },
      "execution_count": null,
      "outputs": [
        {
          "output_type": "stream",
          "name": "stdout",
          "text": [
            "Enter the word:AlmaBetter\n",
            "{'A': 1, 'l': 1, 'm': 1, 'a': 1, 'B': 1, 'e': 2, 't': 2, 'r': 1}\n"
          ]
        }
      ]
    },
    {
      "cell_type": "code",
      "source": [
        "a = {}\n",
        "\n",
        "a[1] = 2\n",
        "print(a)\n",
        "a[3] = 70\n",
        "print(a)"
      ],
      "metadata": {
        "colab": {
          "base_uri": "https://localhost:8080/"
        },
        "id": "nNvml9HHawrh",
        "outputId": "239ad4d6-ad8a-43a0-cd72-242d1424615a"
      },
      "execution_count": null,
      "outputs": [
        {
          "output_type": "stream",
          "name": "stdout",
          "text": [
            "{1: 2}\n",
            "{1: 2, 3: 70}\n"
          ]
        }
      ]
    },
    {
      "cell_type": "code",
      "source": [
        "_list = ['apple', 'apple', 'apple', 'banana', 'cherry', 'apple', 'grape', 'ball', 'grape', 'cherry', 'rat', 'banana', 'ball', 'rat', 'grape', 'apple', 'banana', 'grape', 'rat', 'orange', 'ball', 'apple', 'cherry', 'cherry', 'ball', 'grape', 'ball']\n",
        "\n",
        "# {'apple' : 6 , ..}\n",
        "_dict = {}\n",
        "for i in _list:\n",
        "  # _dict[i] = _list.count(i)\n",
        "  _dict.update({i:_list.count(i)}) # Method\n",
        "\n",
        "print(_dict)\n"
      ],
      "metadata": {
        "id": "5j2w5Vpqnxwo",
        "colab": {
          "base_uri": "https://localhost:8080/"
        },
        "outputId": "9d837b5d-50eb-4fe0-89ce-ea27caa1953b"
      },
      "execution_count": null,
      "outputs": [
        {
          "output_type": "stream",
          "name": "stdout",
          "text": [
            "{'apple': 6, 'banana': 3, 'cherry': 4, 'grape': 5, 'ball': 5, 'rat': 3, 'orange': 1}\n"
          ]
        }
      ]
    },
    {
      "cell_type": "code",
      "source": [
        "# Question 17:\n",
        "# Provide the output as even values in the list  as input\n",
        "# _list = [3,4,5,6,7,8] , output = [4,6,8]\n",
        "\n",
        "_list = [3,4,5,6,7,8]\n",
        "_out = []\n",
        "\n",
        "for i in _list:\n",
        "  if i % 2==0:\n",
        "    _out.append(i)\n",
        "\n",
        "print(_out)\n",
        "\n",
        "\n",
        "# output = [4,6,8]"
      ],
      "metadata": {
        "colab": {
          "base_uri": "https://localhost:8080/"
        },
        "id": "9HcdU5YBodZ7",
        "outputId": "b97a2b7d-b7a0-421a-da9e-735e103ccb58"
      },
      "execution_count": null,
      "outputs": [
        {
          "output_type": "stream",
          "name": "stdout",
          "text": [
            "[4, 6, 8]\n"
          ]
        }
      ]
    },
    {
      "cell_type": "code",
      "source": [
        "# Question 18:\n",
        "# Input : Word - 'AlmaBetter' --> 'lmBttr' | Consonants\n",
        "# time : 10:10 PM.\n",
        "\n",
        "_word = 'AlmaBetter'\n",
        "\n",
        "_ot_str = ''\n",
        "for i in _word:\n",
        "  if i.lower() not in 'aeiou':\n",
        "    _ot_str += i # 'a' + 'b' ->'ab'\n",
        "\n",
        "print(_ot_str)\n",
        "\n",
        "# Input ,<----> ,Output\n",
        "# Logic :\n",
        "# Accumulated | single result\n",
        "# Each Iteration | some output"
      ],
      "metadata": {
        "colab": {
          "base_uri": "https://localhost:8080/"
        },
        "id": "3DxqPsb5pwES",
        "outputId": "54204784-720a-47db-a3b8-4c4de44c2e7d"
      },
      "execution_count": null,
      "outputs": [
        {
          "output_type": "stream",
          "name": "stdout",
          "text": [
            "lmBttr\n"
          ]
        }
      ]
    },
    {
      "cell_type": "code",
      "source": [
        "_word = 'AlmaBetter'\n",
        "\n",
        "_ot_str = _word # AlmaBetter\n",
        "for i in _word:\n",
        "  if i.lower() in 'aeiou':\n",
        "    _ot_str = _ot_str.replace(i,'')\n",
        "    # print(_ot_str)\n",
        "\n",
        "print(_ot_str)"
      ],
      "metadata": {
        "colab": {
          "base_uri": "https://localhost:8080/"
        },
        "id": "eLmT35zGbSeG",
        "outputId": "67d1fa6a-160b-405c-bcc8-6c13355a5b83"
      },
      "execution_count": null,
      "outputs": [
        {
          "output_type": "stream",
          "name": "stdout",
          "text": [
            "lmaBetter\n",
            "lmBetter\n",
            "lmBttr\n",
            "lmBttr\n",
            "lmBttr\n"
          ]
        }
      ]
    },
    {
      "cell_type": "markdown",
      "source": [
        "#### Nested For loop"
      ],
      "metadata": {
        "id": "8pubZPaLmljt"
      }
    },
    {
      "cell_type": "code",
      "source": [
        "# Practice\n",
        "# Nested for loop means\n",
        "# For loop inside the for loop\n",
        "for i in ...:\n",
        "  for j in ...:\n",
        "    for k in ...:\n"
      ],
      "metadata": {
        "id": "GT9RXaNjoZxV"
      },
      "execution_count": null,
      "outputs": []
    },
    {
      "cell_type": "code",
      "source": [
        "list_1 = [1,2,3,4]\n",
        "list_2 = ['a','b','c','d']\n",
        "\n",
        "for i in list_1:\n",
        "  for j in list_2:\n",
        "    print(f'Value of i: {i} and Value of j : {j}')\n"
      ],
      "metadata": {
        "id": "Glj5o3-7ongl",
        "colab": {
          "base_uri": "https://localhost:8080/"
        },
        "outputId": "acf5d6ba-23fb-4e3f-fba7-1823f94b782a"
      },
      "execution_count": null,
      "outputs": [
        {
          "output_type": "stream",
          "name": "stdout",
          "text": [
            "Value of i: 1 and Value of j : a\n",
            "Value of i: 1 and Value of j : b\n",
            "Value of i: 1 and Value of j : c\n",
            "Value of i: 1 and Value of j : d\n",
            "Value of i: 2 and Value of j : a\n",
            "Value of i: 2 and Value of j : b\n",
            "Value of i: 2 and Value of j : c\n",
            "Value of i: 2 and Value of j : d\n",
            "Value of i: 3 and Value of j : a\n",
            "Value of i: 3 and Value of j : b\n",
            "Value of i: 3 and Value of j : c\n",
            "Value of i: 3 and Value of j : d\n",
            "Value of i: 4 and Value of j : a\n",
            "Value of i: 4 and Value of j : b\n",
            "Value of i: 4 and Value of j : c\n",
            "Value of i: 4 and Value of j : d\n"
          ]
        }
      ]
    },
    {
      "cell_type": "code",
      "source": [
        "for hour in range(0,24):\n",
        "  for minutes in range(0,60):\n",
        "    print(f'Hour {hour} : Minutes {minutes}')"
      ],
      "metadata": {
        "id": "p6DtwDS6BCyh",
        "colab": {
          "base_uri": "https://localhost:8080/"
        },
        "outputId": "bfd11079-41b6-41e0-a66c-063b61022f7e",
        "collapsed": true
      },
      "execution_count": null,
      "outputs": [
        {
          "output_type": "stream",
          "name": "stdout",
          "text": [
            "Hour 0 : Minutes 0\n",
            "Hour 0 : Minutes 1\n",
            "Hour 0 : Minutes 2\n",
            "Hour 0 : Minutes 3\n",
            "Hour 0 : Minutes 4\n",
            "Hour 0 : Minutes 5\n",
            "Hour 0 : Minutes 6\n",
            "Hour 0 : Minutes 7\n",
            "Hour 0 : Minutes 8\n",
            "Hour 0 : Minutes 9\n",
            "Hour 0 : Minutes 10\n",
            "Hour 0 : Minutes 11\n",
            "Hour 0 : Minutes 12\n",
            "Hour 0 : Minutes 13\n",
            "Hour 0 : Minutes 14\n",
            "Hour 0 : Minutes 15\n",
            "Hour 0 : Minutes 16\n",
            "Hour 0 : Minutes 17\n",
            "Hour 0 : Minutes 18\n",
            "Hour 0 : Minutes 19\n",
            "Hour 0 : Minutes 20\n",
            "Hour 0 : Minutes 21\n",
            "Hour 0 : Minutes 22\n",
            "Hour 0 : Minutes 23\n",
            "Hour 0 : Minutes 24\n",
            "Hour 0 : Minutes 25\n",
            "Hour 0 : Minutes 26\n",
            "Hour 0 : Minutes 27\n",
            "Hour 0 : Minutes 28\n",
            "Hour 0 : Minutes 29\n",
            "Hour 0 : Minutes 30\n",
            "Hour 0 : Minutes 31\n",
            "Hour 0 : Minutes 32\n",
            "Hour 0 : Minutes 33\n",
            "Hour 0 : Minutes 34\n",
            "Hour 0 : Minutes 35\n",
            "Hour 0 : Minutes 36\n",
            "Hour 0 : Minutes 37\n",
            "Hour 0 : Minutes 38\n",
            "Hour 0 : Minutes 39\n",
            "Hour 0 : Minutes 40\n",
            "Hour 0 : Minutes 41\n",
            "Hour 0 : Minutes 42\n",
            "Hour 0 : Minutes 43\n",
            "Hour 0 : Minutes 44\n",
            "Hour 0 : Minutes 45\n",
            "Hour 0 : Minutes 46\n",
            "Hour 0 : Minutes 47\n",
            "Hour 0 : Minutes 48\n",
            "Hour 0 : Minutes 49\n",
            "Hour 0 : Minutes 50\n",
            "Hour 0 : Minutes 51\n",
            "Hour 0 : Minutes 52\n",
            "Hour 0 : Minutes 53\n",
            "Hour 0 : Minutes 54\n",
            "Hour 0 : Minutes 55\n",
            "Hour 0 : Minutes 56\n",
            "Hour 0 : Minutes 57\n",
            "Hour 0 : Minutes 58\n",
            "Hour 0 : Minutes 59\n",
            "Hour 1 : Minutes 0\n",
            "Hour 1 : Minutes 1\n",
            "Hour 1 : Minutes 2\n",
            "Hour 1 : Minutes 3\n",
            "Hour 1 : Minutes 4\n",
            "Hour 1 : Minutes 5\n",
            "Hour 1 : Minutes 6\n",
            "Hour 1 : Minutes 7\n",
            "Hour 1 : Minutes 8\n",
            "Hour 1 : Minutes 9\n",
            "Hour 1 : Minutes 10\n",
            "Hour 1 : Minutes 11\n",
            "Hour 1 : Minutes 12\n",
            "Hour 1 : Minutes 13\n",
            "Hour 1 : Minutes 14\n",
            "Hour 1 : Minutes 15\n",
            "Hour 1 : Minutes 16\n",
            "Hour 1 : Minutes 17\n",
            "Hour 1 : Minutes 18\n",
            "Hour 1 : Minutes 19\n",
            "Hour 1 : Minutes 20\n",
            "Hour 1 : Minutes 21\n",
            "Hour 1 : Minutes 22\n",
            "Hour 1 : Minutes 23\n",
            "Hour 1 : Minutes 24\n",
            "Hour 1 : Minutes 25\n",
            "Hour 1 : Minutes 26\n",
            "Hour 1 : Minutes 27\n",
            "Hour 1 : Minutes 28\n",
            "Hour 1 : Minutes 29\n",
            "Hour 1 : Minutes 30\n",
            "Hour 1 : Minutes 31\n",
            "Hour 1 : Minutes 32\n",
            "Hour 1 : Minutes 33\n",
            "Hour 1 : Minutes 34\n",
            "Hour 1 : Minutes 35\n",
            "Hour 1 : Minutes 36\n",
            "Hour 1 : Minutes 37\n",
            "Hour 1 : Minutes 38\n",
            "Hour 1 : Minutes 39\n",
            "Hour 1 : Minutes 40\n",
            "Hour 1 : Minutes 41\n",
            "Hour 1 : Minutes 42\n",
            "Hour 1 : Minutes 43\n",
            "Hour 1 : Minutes 44\n",
            "Hour 1 : Minutes 45\n",
            "Hour 1 : Minutes 46\n",
            "Hour 1 : Minutes 47\n",
            "Hour 1 : Minutes 48\n",
            "Hour 1 : Minutes 49\n",
            "Hour 1 : Minutes 50\n",
            "Hour 1 : Minutes 51\n",
            "Hour 1 : Minutes 52\n",
            "Hour 1 : Minutes 53\n",
            "Hour 1 : Minutes 54\n",
            "Hour 1 : Minutes 55\n",
            "Hour 1 : Minutes 56\n",
            "Hour 1 : Minutes 57\n",
            "Hour 1 : Minutes 58\n",
            "Hour 1 : Minutes 59\n",
            "Hour 2 : Minutes 0\n",
            "Hour 2 : Minutes 1\n",
            "Hour 2 : Minutes 2\n",
            "Hour 2 : Minutes 3\n",
            "Hour 2 : Minutes 4\n",
            "Hour 2 : Minutes 5\n",
            "Hour 2 : Minutes 6\n",
            "Hour 2 : Minutes 7\n",
            "Hour 2 : Minutes 8\n",
            "Hour 2 : Minutes 9\n",
            "Hour 2 : Minutes 10\n",
            "Hour 2 : Minutes 11\n",
            "Hour 2 : Minutes 12\n",
            "Hour 2 : Minutes 13\n",
            "Hour 2 : Minutes 14\n",
            "Hour 2 : Minutes 15\n",
            "Hour 2 : Minutes 16\n",
            "Hour 2 : Minutes 17\n",
            "Hour 2 : Minutes 18\n",
            "Hour 2 : Minutes 19\n",
            "Hour 2 : Minutes 20\n",
            "Hour 2 : Minutes 21\n",
            "Hour 2 : Minutes 22\n",
            "Hour 2 : Minutes 23\n",
            "Hour 2 : Minutes 24\n",
            "Hour 2 : Minutes 25\n",
            "Hour 2 : Minutes 26\n",
            "Hour 2 : Minutes 27\n",
            "Hour 2 : Minutes 28\n",
            "Hour 2 : Minutes 29\n",
            "Hour 2 : Minutes 30\n",
            "Hour 2 : Minutes 31\n",
            "Hour 2 : Minutes 32\n",
            "Hour 2 : Minutes 33\n",
            "Hour 2 : Minutes 34\n",
            "Hour 2 : Minutes 35\n",
            "Hour 2 : Minutes 36\n",
            "Hour 2 : Minutes 37\n",
            "Hour 2 : Minutes 38\n",
            "Hour 2 : Minutes 39\n",
            "Hour 2 : Minutes 40\n",
            "Hour 2 : Minutes 41\n",
            "Hour 2 : Minutes 42\n",
            "Hour 2 : Minutes 43\n",
            "Hour 2 : Minutes 44\n",
            "Hour 2 : Minutes 45\n",
            "Hour 2 : Minutes 46\n",
            "Hour 2 : Minutes 47\n",
            "Hour 2 : Minutes 48\n",
            "Hour 2 : Minutes 49\n",
            "Hour 2 : Minutes 50\n",
            "Hour 2 : Minutes 51\n",
            "Hour 2 : Minutes 52\n",
            "Hour 2 : Minutes 53\n",
            "Hour 2 : Minutes 54\n",
            "Hour 2 : Minutes 55\n",
            "Hour 2 : Minutes 56\n",
            "Hour 2 : Minutes 57\n",
            "Hour 2 : Minutes 58\n",
            "Hour 2 : Minutes 59\n",
            "Hour 3 : Minutes 0\n",
            "Hour 3 : Minutes 1\n",
            "Hour 3 : Minutes 2\n",
            "Hour 3 : Minutes 3\n",
            "Hour 3 : Minutes 4\n",
            "Hour 3 : Minutes 5\n",
            "Hour 3 : Minutes 6\n",
            "Hour 3 : Minutes 7\n",
            "Hour 3 : Minutes 8\n",
            "Hour 3 : Minutes 9\n",
            "Hour 3 : Minutes 10\n",
            "Hour 3 : Minutes 11\n",
            "Hour 3 : Minutes 12\n",
            "Hour 3 : Minutes 13\n",
            "Hour 3 : Minutes 14\n",
            "Hour 3 : Minutes 15\n",
            "Hour 3 : Minutes 16\n",
            "Hour 3 : Minutes 17\n",
            "Hour 3 : Minutes 18\n",
            "Hour 3 : Minutes 19\n",
            "Hour 3 : Minutes 20\n",
            "Hour 3 : Minutes 21\n",
            "Hour 3 : Minutes 22\n",
            "Hour 3 : Minutes 23\n",
            "Hour 3 : Minutes 24\n",
            "Hour 3 : Minutes 25\n",
            "Hour 3 : Minutes 26\n",
            "Hour 3 : Minutes 27\n",
            "Hour 3 : Minutes 28\n",
            "Hour 3 : Minutes 29\n",
            "Hour 3 : Minutes 30\n",
            "Hour 3 : Minutes 31\n",
            "Hour 3 : Minutes 32\n",
            "Hour 3 : Minutes 33\n",
            "Hour 3 : Minutes 34\n",
            "Hour 3 : Minutes 35\n",
            "Hour 3 : Minutes 36\n",
            "Hour 3 : Minutes 37\n",
            "Hour 3 : Minutes 38\n",
            "Hour 3 : Minutes 39\n",
            "Hour 3 : Minutes 40\n",
            "Hour 3 : Minutes 41\n",
            "Hour 3 : Minutes 42\n",
            "Hour 3 : Minutes 43\n",
            "Hour 3 : Minutes 44\n",
            "Hour 3 : Minutes 45\n",
            "Hour 3 : Minutes 46\n",
            "Hour 3 : Minutes 47\n",
            "Hour 3 : Minutes 48\n",
            "Hour 3 : Minutes 49\n",
            "Hour 3 : Minutes 50\n",
            "Hour 3 : Minutes 51\n",
            "Hour 3 : Minutes 52\n",
            "Hour 3 : Minutes 53\n",
            "Hour 3 : Minutes 54\n",
            "Hour 3 : Minutes 55\n",
            "Hour 3 : Minutes 56\n",
            "Hour 3 : Minutes 57\n",
            "Hour 3 : Minutes 58\n",
            "Hour 3 : Minutes 59\n",
            "Hour 4 : Minutes 0\n",
            "Hour 4 : Minutes 1\n",
            "Hour 4 : Minutes 2\n",
            "Hour 4 : Minutes 3\n",
            "Hour 4 : Minutes 4\n",
            "Hour 4 : Minutes 5\n",
            "Hour 4 : Minutes 6\n",
            "Hour 4 : Minutes 7\n",
            "Hour 4 : Minutes 8\n",
            "Hour 4 : Minutes 9\n",
            "Hour 4 : Minutes 10\n",
            "Hour 4 : Minutes 11\n",
            "Hour 4 : Minutes 12\n",
            "Hour 4 : Minutes 13\n",
            "Hour 4 : Minutes 14\n",
            "Hour 4 : Minutes 15\n",
            "Hour 4 : Minutes 16\n",
            "Hour 4 : Minutes 17\n",
            "Hour 4 : Minutes 18\n",
            "Hour 4 : Minutes 19\n",
            "Hour 4 : Minutes 20\n",
            "Hour 4 : Minutes 21\n",
            "Hour 4 : Minutes 22\n",
            "Hour 4 : Minutes 23\n",
            "Hour 4 : Minutes 24\n",
            "Hour 4 : Minutes 25\n",
            "Hour 4 : Minutes 26\n",
            "Hour 4 : Minutes 27\n",
            "Hour 4 : Minutes 28\n",
            "Hour 4 : Minutes 29\n",
            "Hour 4 : Minutes 30\n",
            "Hour 4 : Minutes 31\n",
            "Hour 4 : Minutes 32\n",
            "Hour 4 : Minutes 33\n",
            "Hour 4 : Minutes 34\n",
            "Hour 4 : Minutes 35\n",
            "Hour 4 : Minutes 36\n",
            "Hour 4 : Minutes 37\n",
            "Hour 4 : Minutes 38\n",
            "Hour 4 : Minutes 39\n",
            "Hour 4 : Minutes 40\n",
            "Hour 4 : Minutes 41\n",
            "Hour 4 : Minutes 42\n",
            "Hour 4 : Minutes 43\n",
            "Hour 4 : Minutes 44\n",
            "Hour 4 : Minutes 45\n",
            "Hour 4 : Minutes 46\n",
            "Hour 4 : Minutes 47\n",
            "Hour 4 : Minutes 48\n",
            "Hour 4 : Minutes 49\n",
            "Hour 4 : Minutes 50\n",
            "Hour 4 : Minutes 51\n",
            "Hour 4 : Minutes 52\n",
            "Hour 4 : Minutes 53\n",
            "Hour 4 : Minutes 54\n",
            "Hour 4 : Minutes 55\n",
            "Hour 4 : Minutes 56\n",
            "Hour 4 : Minutes 57\n",
            "Hour 4 : Minutes 58\n",
            "Hour 4 : Minutes 59\n",
            "Hour 5 : Minutes 0\n",
            "Hour 5 : Minutes 1\n",
            "Hour 5 : Minutes 2\n",
            "Hour 5 : Minutes 3\n",
            "Hour 5 : Minutes 4\n",
            "Hour 5 : Minutes 5\n",
            "Hour 5 : Minutes 6\n",
            "Hour 5 : Minutes 7\n",
            "Hour 5 : Minutes 8\n",
            "Hour 5 : Minutes 9\n",
            "Hour 5 : Minutes 10\n",
            "Hour 5 : Minutes 11\n",
            "Hour 5 : Minutes 12\n",
            "Hour 5 : Minutes 13\n",
            "Hour 5 : Minutes 14\n",
            "Hour 5 : Minutes 15\n",
            "Hour 5 : Minutes 16\n",
            "Hour 5 : Minutes 17\n",
            "Hour 5 : Minutes 18\n",
            "Hour 5 : Minutes 19\n",
            "Hour 5 : Minutes 20\n",
            "Hour 5 : Minutes 21\n",
            "Hour 5 : Minutes 22\n",
            "Hour 5 : Minutes 23\n",
            "Hour 5 : Minutes 24\n",
            "Hour 5 : Minutes 25\n",
            "Hour 5 : Minutes 26\n",
            "Hour 5 : Minutes 27\n",
            "Hour 5 : Minutes 28\n",
            "Hour 5 : Minutes 29\n",
            "Hour 5 : Minutes 30\n",
            "Hour 5 : Minutes 31\n",
            "Hour 5 : Minutes 32\n",
            "Hour 5 : Minutes 33\n",
            "Hour 5 : Minutes 34\n",
            "Hour 5 : Minutes 35\n",
            "Hour 5 : Minutes 36\n",
            "Hour 5 : Minutes 37\n",
            "Hour 5 : Minutes 38\n",
            "Hour 5 : Minutes 39\n",
            "Hour 5 : Minutes 40\n",
            "Hour 5 : Minutes 41\n",
            "Hour 5 : Minutes 42\n",
            "Hour 5 : Minutes 43\n",
            "Hour 5 : Minutes 44\n",
            "Hour 5 : Minutes 45\n",
            "Hour 5 : Minutes 46\n",
            "Hour 5 : Minutes 47\n",
            "Hour 5 : Minutes 48\n",
            "Hour 5 : Minutes 49\n",
            "Hour 5 : Minutes 50\n",
            "Hour 5 : Minutes 51\n",
            "Hour 5 : Minutes 52\n",
            "Hour 5 : Minutes 53\n",
            "Hour 5 : Minutes 54\n",
            "Hour 5 : Minutes 55\n",
            "Hour 5 : Minutes 56\n",
            "Hour 5 : Minutes 57\n",
            "Hour 5 : Minutes 58\n",
            "Hour 5 : Minutes 59\n",
            "Hour 6 : Minutes 0\n",
            "Hour 6 : Minutes 1\n",
            "Hour 6 : Minutes 2\n",
            "Hour 6 : Minutes 3\n",
            "Hour 6 : Minutes 4\n",
            "Hour 6 : Minutes 5\n",
            "Hour 6 : Minutes 6\n",
            "Hour 6 : Minutes 7\n",
            "Hour 6 : Minutes 8\n",
            "Hour 6 : Minutes 9\n",
            "Hour 6 : Minutes 10\n",
            "Hour 6 : Minutes 11\n",
            "Hour 6 : Minutes 12\n",
            "Hour 6 : Minutes 13\n",
            "Hour 6 : Minutes 14\n",
            "Hour 6 : Minutes 15\n",
            "Hour 6 : Minutes 16\n",
            "Hour 6 : Minutes 17\n",
            "Hour 6 : Minutes 18\n",
            "Hour 6 : Minutes 19\n",
            "Hour 6 : Minutes 20\n",
            "Hour 6 : Minutes 21\n",
            "Hour 6 : Minutes 22\n",
            "Hour 6 : Minutes 23\n",
            "Hour 6 : Minutes 24\n",
            "Hour 6 : Minutes 25\n",
            "Hour 6 : Minutes 26\n",
            "Hour 6 : Minutes 27\n",
            "Hour 6 : Minutes 28\n",
            "Hour 6 : Minutes 29\n",
            "Hour 6 : Minutes 30\n",
            "Hour 6 : Minutes 31\n",
            "Hour 6 : Minutes 32\n",
            "Hour 6 : Minutes 33\n",
            "Hour 6 : Minutes 34\n",
            "Hour 6 : Minutes 35\n",
            "Hour 6 : Minutes 36\n",
            "Hour 6 : Minutes 37\n",
            "Hour 6 : Minutes 38\n",
            "Hour 6 : Minutes 39\n",
            "Hour 6 : Minutes 40\n",
            "Hour 6 : Minutes 41\n",
            "Hour 6 : Minutes 42\n",
            "Hour 6 : Minutes 43\n",
            "Hour 6 : Minutes 44\n",
            "Hour 6 : Minutes 45\n",
            "Hour 6 : Minutes 46\n",
            "Hour 6 : Minutes 47\n",
            "Hour 6 : Minutes 48\n",
            "Hour 6 : Minutes 49\n",
            "Hour 6 : Minutes 50\n",
            "Hour 6 : Minutes 51\n",
            "Hour 6 : Minutes 52\n",
            "Hour 6 : Minutes 53\n",
            "Hour 6 : Minutes 54\n",
            "Hour 6 : Minutes 55\n",
            "Hour 6 : Minutes 56\n",
            "Hour 6 : Minutes 57\n",
            "Hour 6 : Minutes 58\n",
            "Hour 6 : Minutes 59\n",
            "Hour 7 : Minutes 0\n",
            "Hour 7 : Minutes 1\n",
            "Hour 7 : Minutes 2\n",
            "Hour 7 : Minutes 3\n",
            "Hour 7 : Minutes 4\n",
            "Hour 7 : Minutes 5\n",
            "Hour 7 : Minutes 6\n",
            "Hour 7 : Minutes 7\n",
            "Hour 7 : Minutes 8\n",
            "Hour 7 : Minutes 9\n",
            "Hour 7 : Minutes 10\n",
            "Hour 7 : Minutes 11\n",
            "Hour 7 : Minutes 12\n",
            "Hour 7 : Minutes 13\n",
            "Hour 7 : Minutes 14\n",
            "Hour 7 : Minutes 15\n",
            "Hour 7 : Minutes 16\n",
            "Hour 7 : Minutes 17\n",
            "Hour 7 : Minutes 18\n",
            "Hour 7 : Minutes 19\n",
            "Hour 7 : Minutes 20\n",
            "Hour 7 : Minutes 21\n",
            "Hour 7 : Minutes 22\n",
            "Hour 7 : Minutes 23\n",
            "Hour 7 : Minutes 24\n",
            "Hour 7 : Minutes 25\n",
            "Hour 7 : Minutes 26\n",
            "Hour 7 : Minutes 27\n",
            "Hour 7 : Minutes 28\n",
            "Hour 7 : Minutes 29\n",
            "Hour 7 : Minutes 30\n",
            "Hour 7 : Minutes 31\n",
            "Hour 7 : Minutes 32\n",
            "Hour 7 : Minutes 33\n",
            "Hour 7 : Minutes 34\n",
            "Hour 7 : Minutes 35\n",
            "Hour 7 : Minutes 36\n",
            "Hour 7 : Minutes 37\n",
            "Hour 7 : Minutes 38\n",
            "Hour 7 : Minutes 39\n",
            "Hour 7 : Minutes 40\n",
            "Hour 7 : Minutes 41\n",
            "Hour 7 : Minutes 42\n",
            "Hour 7 : Minutes 43\n",
            "Hour 7 : Minutes 44\n",
            "Hour 7 : Minutes 45\n",
            "Hour 7 : Minutes 46\n",
            "Hour 7 : Minutes 47\n",
            "Hour 7 : Minutes 48\n",
            "Hour 7 : Minutes 49\n",
            "Hour 7 : Minutes 50\n",
            "Hour 7 : Minutes 51\n",
            "Hour 7 : Minutes 52\n",
            "Hour 7 : Minutes 53\n",
            "Hour 7 : Minutes 54\n",
            "Hour 7 : Minutes 55\n",
            "Hour 7 : Minutes 56\n",
            "Hour 7 : Minutes 57\n",
            "Hour 7 : Minutes 58\n",
            "Hour 7 : Minutes 59\n",
            "Hour 8 : Minutes 0\n",
            "Hour 8 : Minutes 1\n",
            "Hour 8 : Minutes 2\n",
            "Hour 8 : Minutes 3\n",
            "Hour 8 : Minutes 4\n",
            "Hour 8 : Minutes 5\n",
            "Hour 8 : Minutes 6\n",
            "Hour 8 : Minutes 7\n",
            "Hour 8 : Minutes 8\n",
            "Hour 8 : Minutes 9\n",
            "Hour 8 : Minutes 10\n",
            "Hour 8 : Minutes 11\n",
            "Hour 8 : Minutes 12\n",
            "Hour 8 : Minutes 13\n",
            "Hour 8 : Minutes 14\n",
            "Hour 8 : Minutes 15\n",
            "Hour 8 : Minutes 16\n",
            "Hour 8 : Minutes 17\n",
            "Hour 8 : Minutes 18\n",
            "Hour 8 : Minutes 19\n",
            "Hour 8 : Minutes 20\n",
            "Hour 8 : Minutes 21\n",
            "Hour 8 : Minutes 22\n",
            "Hour 8 : Minutes 23\n",
            "Hour 8 : Minutes 24\n",
            "Hour 8 : Minutes 25\n",
            "Hour 8 : Minutes 26\n",
            "Hour 8 : Minutes 27\n",
            "Hour 8 : Minutes 28\n",
            "Hour 8 : Minutes 29\n",
            "Hour 8 : Minutes 30\n",
            "Hour 8 : Minutes 31\n",
            "Hour 8 : Minutes 32\n",
            "Hour 8 : Minutes 33\n",
            "Hour 8 : Minutes 34\n",
            "Hour 8 : Minutes 35\n",
            "Hour 8 : Minutes 36\n",
            "Hour 8 : Minutes 37\n",
            "Hour 8 : Minutes 38\n",
            "Hour 8 : Minutes 39\n",
            "Hour 8 : Minutes 40\n",
            "Hour 8 : Minutes 41\n",
            "Hour 8 : Minutes 42\n",
            "Hour 8 : Minutes 43\n",
            "Hour 8 : Minutes 44\n",
            "Hour 8 : Minutes 45\n",
            "Hour 8 : Minutes 46\n",
            "Hour 8 : Minutes 47\n",
            "Hour 8 : Minutes 48\n",
            "Hour 8 : Minutes 49\n",
            "Hour 8 : Minutes 50\n",
            "Hour 8 : Minutes 51\n",
            "Hour 8 : Minutes 52\n",
            "Hour 8 : Minutes 53\n",
            "Hour 8 : Minutes 54\n",
            "Hour 8 : Minutes 55\n",
            "Hour 8 : Minutes 56\n",
            "Hour 8 : Minutes 57\n",
            "Hour 8 : Minutes 58\n",
            "Hour 8 : Minutes 59\n",
            "Hour 9 : Minutes 0\n",
            "Hour 9 : Minutes 1\n",
            "Hour 9 : Minutes 2\n",
            "Hour 9 : Minutes 3\n",
            "Hour 9 : Minutes 4\n",
            "Hour 9 : Minutes 5\n",
            "Hour 9 : Minutes 6\n",
            "Hour 9 : Minutes 7\n",
            "Hour 9 : Minutes 8\n",
            "Hour 9 : Minutes 9\n",
            "Hour 9 : Minutes 10\n",
            "Hour 9 : Minutes 11\n",
            "Hour 9 : Minutes 12\n",
            "Hour 9 : Minutes 13\n",
            "Hour 9 : Minutes 14\n",
            "Hour 9 : Minutes 15\n",
            "Hour 9 : Minutes 16\n",
            "Hour 9 : Minutes 17\n",
            "Hour 9 : Minutes 18\n",
            "Hour 9 : Minutes 19\n",
            "Hour 9 : Minutes 20\n",
            "Hour 9 : Minutes 21\n",
            "Hour 9 : Minutes 22\n",
            "Hour 9 : Minutes 23\n",
            "Hour 9 : Minutes 24\n",
            "Hour 9 : Minutes 25\n",
            "Hour 9 : Minutes 26\n",
            "Hour 9 : Minutes 27\n",
            "Hour 9 : Minutes 28\n",
            "Hour 9 : Minutes 29\n",
            "Hour 9 : Minutes 30\n",
            "Hour 9 : Minutes 31\n",
            "Hour 9 : Minutes 32\n",
            "Hour 9 : Minutes 33\n",
            "Hour 9 : Minutes 34\n",
            "Hour 9 : Minutes 35\n",
            "Hour 9 : Minutes 36\n",
            "Hour 9 : Minutes 37\n",
            "Hour 9 : Minutes 38\n",
            "Hour 9 : Minutes 39\n",
            "Hour 9 : Minutes 40\n",
            "Hour 9 : Minutes 41\n",
            "Hour 9 : Minutes 42\n",
            "Hour 9 : Minutes 43\n",
            "Hour 9 : Minutes 44\n",
            "Hour 9 : Minutes 45\n",
            "Hour 9 : Minutes 46\n",
            "Hour 9 : Minutes 47\n",
            "Hour 9 : Minutes 48\n",
            "Hour 9 : Minutes 49\n",
            "Hour 9 : Minutes 50\n",
            "Hour 9 : Minutes 51\n",
            "Hour 9 : Minutes 52\n",
            "Hour 9 : Minutes 53\n",
            "Hour 9 : Minutes 54\n",
            "Hour 9 : Minutes 55\n",
            "Hour 9 : Minutes 56\n",
            "Hour 9 : Minutes 57\n",
            "Hour 9 : Minutes 58\n",
            "Hour 9 : Minutes 59\n",
            "Hour 10 : Minutes 0\n",
            "Hour 10 : Minutes 1\n",
            "Hour 10 : Minutes 2\n",
            "Hour 10 : Minutes 3\n",
            "Hour 10 : Minutes 4\n",
            "Hour 10 : Minutes 5\n",
            "Hour 10 : Minutes 6\n",
            "Hour 10 : Minutes 7\n",
            "Hour 10 : Minutes 8\n",
            "Hour 10 : Minutes 9\n",
            "Hour 10 : Minutes 10\n",
            "Hour 10 : Minutes 11\n",
            "Hour 10 : Minutes 12\n",
            "Hour 10 : Minutes 13\n",
            "Hour 10 : Minutes 14\n",
            "Hour 10 : Minutes 15\n",
            "Hour 10 : Minutes 16\n",
            "Hour 10 : Minutes 17\n",
            "Hour 10 : Minutes 18\n",
            "Hour 10 : Minutes 19\n",
            "Hour 10 : Minutes 20\n",
            "Hour 10 : Minutes 21\n",
            "Hour 10 : Minutes 22\n",
            "Hour 10 : Minutes 23\n",
            "Hour 10 : Minutes 24\n",
            "Hour 10 : Minutes 25\n",
            "Hour 10 : Minutes 26\n",
            "Hour 10 : Minutes 27\n",
            "Hour 10 : Minutes 28\n",
            "Hour 10 : Minutes 29\n",
            "Hour 10 : Minutes 30\n",
            "Hour 10 : Minutes 31\n",
            "Hour 10 : Minutes 32\n",
            "Hour 10 : Minutes 33\n",
            "Hour 10 : Minutes 34\n",
            "Hour 10 : Minutes 35\n",
            "Hour 10 : Minutes 36\n",
            "Hour 10 : Minutes 37\n",
            "Hour 10 : Minutes 38\n",
            "Hour 10 : Minutes 39\n",
            "Hour 10 : Minutes 40\n",
            "Hour 10 : Minutes 41\n",
            "Hour 10 : Minutes 42\n",
            "Hour 10 : Minutes 43\n",
            "Hour 10 : Minutes 44\n",
            "Hour 10 : Minutes 45\n",
            "Hour 10 : Minutes 46\n",
            "Hour 10 : Minutes 47\n",
            "Hour 10 : Minutes 48\n",
            "Hour 10 : Minutes 49\n",
            "Hour 10 : Minutes 50\n",
            "Hour 10 : Minutes 51\n",
            "Hour 10 : Minutes 52\n",
            "Hour 10 : Minutes 53\n",
            "Hour 10 : Minutes 54\n",
            "Hour 10 : Minutes 55\n",
            "Hour 10 : Minutes 56\n",
            "Hour 10 : Minutes 57\n",
            "Hour 10 : Minutes 58\n",
            "Hour 10 : Minutes 59\n",
            "Hour 11 : Minutes 0\n",
            "Hour 11 : Minutes 1\n",
            "Hour 11 : Minutes 2\n",
            "Hour 11 : Minutes 3\n",
            "Hour 11 : Minutes 4\n",
            "Hour 11 : Minutes 5\n",
            "Hour 11 : Minutes 6\n",
            "Hour 11 : Minutes 7\n",
            "Hour 11 : Minutes 8\n",
            "Hour 11 : Minutes 9\n",
            "Hour 11 : Minutes 10\n",
            "Hour 11 : Minutes 11\n",
            "Hour 11 : Minutes 12\n",
            "Hour 11 : Minutes 13\n",
            "Hour 11 : Minutes 14\n",
            "Hour 11 : Minutes 15\n",
            "Hour 11 : Minutes 16\n",
            "Hour 11 : Minutes 17\n",
            "Hour 11 : Minutes 18\n",
            "Hour 11 : Minutes 19\n",
            "Hour 11 : Minutes 20\n",
            "Hour 11 : Minutes 21\n",
            "Hour 11 : Minutes 22\n",
            "Hour 11 : Minutes 23\n",
            "Hour 11 : Minutes 24\n",
            "Hour 11 : Minutes 25\n",
            "Hour 11 : Minutes 26\n",
            "Hour 11 : Minutes 27\n",
            "Hour 11 : Minutes 28\n",
            "Hour 11 : Minutes 29\n",
            "Hour 11 : Minutes 30\n",
            "Hour 11 : Minutes 31\n",
            "Hour 11 : Minutes 32\n",
            "Hour 11 : Minutes 33\n",
            "Hour 11 : Minutes 34\n",
            "Hour 11 : Minutes 35\n",
            "Hour 11 : Minutes 36\n",
            "Hour 11 : Minutes 37\n",
            "Hour 11 : Minutes 38\n",
            "Hour 11 : Minutes 39\n",
            "Hour 11 : Minutes 40\n",
            "Hour 11 : Minutes 41\n",
            "Hour 11 : Minutes 42\n",
            "Hour 11 : Minutes 43\n",
            "Hour 11 : Minutes 44\n",
            "Hour 11 : Minutes 45\n",
            "Hour 11 : Minutes 46\n",
            "Hour 11 : Minutes 47\n",
            "Hour 11 : Minutes 48\n",
            "Hour 11 : Minutes 49\n",
            "Hour 11 : Minutes 50\n",
            "Hour 11 : Minutes 51\n",
            "Hour 11 : Minutes 52\n",
            "Hour 11 : Minutes 53\n",
            "Hour 11 : Minutes 54\n",
            "Hour 11 : Minutes 55\n",
            "Hour 11 : Minutes 56\n",
            "Hour 11 : Minutes 57\n",
            "Hour 11 : Minutes 58\n",
            "Hour 11 : Minutes 59\n",
            "Hour 12 : Minutes 0\n",
            "Hour 12 : Minutes 1\n",
            "Hour 12 : Minutes 2\n",
            "Hour 12 : Minutes 3\n",
            "Hour 12 : Minutes 4\n",
            "Hour 12 : Minutes 5\n",
            "Hour 12 : Minutes 6\n",
            "Hour 12 : Minutes 7\n",
            "Hour 12 : Minutes 8\n",
            "Hour 12 : Minutes 9\n",
            "Hour 12 : Minutes 10\n",
            "Hour 12 : Minutes 11\n",
            "Hour 12 : Minutes 12\n",
            "Hour 12 : Minutes 13\n",
            "Hour 12 : Minutes 14\n",
            "Hour 12 : Minutes 15\n",
            "Hour 12 : Minutes 16\n",
            "Hour 12 : Minutes 17\n",
            "Hour 12 : Minutes 18\n",
            "Hour 12 : Minutes 19\n",
            "Hour 12 : Minutes 20\n",
            "Hour 12 : Minutes 21\n",
            "Hour 12 : Minutes 22\n",
            "Hour 12 : Minutes 23\n",
            "Hour 12 : Minutes 24\n",
            "Hour 12 : Minutes 25\n",
            "Hour 12 : Minutes 26\n",
            "Hour 12 : Minutes 27\n",
            "Hour 12 : Minutes 28\n",
            "Hour 12 : Minutes 29\n",
            "Hour 12 : Minutes 30\n",
            "Hour 12 : Minutes 31\n",
            "Hour 12 : Minutes 32\n",
            "Hour 12 : Minutes 33\n",
            "Hour 12 : Minutes 34\n",
            "Hour 12 : Minutes 35\n",
            "Hour 12 : Minutes 36\n",
            "Hour 12 : Minutes 37\n",
            "Hour 12 : Minutes 38\n",
            "Hour 12 : Minutes 39\n",
            "Hour 12 : Minutes 40\n",
            "Hour 12 : Minutes 41\n",
            "Hour 12 : Minutes 42\n",
            "Hour 12 : Minutes 43\n",
            "Hour 12 : Minutes 44\n",
            "Hour 12 : Minutes 45\n",
            "Hour 12 : Minutes 46\n",
            "Hour 12 : Minutes 47\n",
            "Hour 12 : Minutes 48\n",
            "Hour 12 : Minutes 49\n",
            "Hour 12 : Minutes 50\n",
            "Hour 12 : Minutes 51\n",
            "Hour 12 : Minutes 52\n",
            "Hour 12 : Minutes 53\n",
            "Hour 12 : Minutes 54\n",
            "Hour 12 : Minutes 55\n",
            "Hour 12 : Minutes 56\n",
            "Hour 12 : Minutes 57\n",
            "Hour 12 : Minutes 58\n",
            "Hour 12 : Minutes 59\n",
            "Hour 13 : Minutes 0\n",
            "Hour 13 : Minutes 1\n",
            "Hour 13 : Minutes 2\n",
            "Hour 13 : Minutes 3\n",
            "Hour 13 : Minutes 4\n",
            "Hour 13 : Minutes 5\n",
            "Hour 13 : Minutes 6\n",
            "Hour 13 : Minutes 7\n",
            "Hour 13 : Minutes 8\n",
            "Hour 13 : Minutes 9\n",
            "Hour 13 : Minutes 10\n",
            "Hour 13 : Minutes 11\n",
            "Hour 13 : Minutes 12\n",
            "Hour 13 : Minutes 13\n",
            "Hour 13 : Minutes 14\n",
            "Hour 13 : Minutes 15\n",
            "Hour 13 : Minutes 16\n",
            "Hour 13 : Minutes 17\n",
            "Hour 13 : Minutes 18\n",
            "Hour 13 : Minutes 19\n",
            "Hour 13 : Minutes 20\n",
            "Hour 13 : Minutes 21\n",
            "Hour 13 : Minutes 22\n",
            "Hour 13 : Minutes 23\n",
            "Hour 13 : Minutes 24\n",
            "Hour 13 : Minutes 25\n",
            "Hour 13 : Minutes 26\n",
            "Hour 13 : Minutes 27\n",
            "Hour 13 : Minutes 28\n",
            "Hour 13 : Minutes 29\n",
            "Hour 13 : Minutes 30\n",
            "Hour 13 : Minutes 31\n",
            "Hour 13 : Minutes 32\n",
            "Hour 13 : Minutes 33\n",
            "Hour 13 : Minutes 34\n",
            "Hour 13 : Minutes 35\n",
            "Hour 13 : Minutes 36\n",
            "Hour 13 : Minutes 37\n",
            "Hour 13 : Minutes 38\n",
            "Hour 13 : Minutes 39\n",
            "Hour 13 : Minutes 40\n",
            "Hour 13 : Minutes 41\n",
            "Hour 13 : Minutes 42\n",
            "Hour 13 : Minutes 43\n",
            "Hour 13 : Minutes 44\n",
            "Hour 13 : Minutes 45\n",
            "Hour 13 : Minutes 46\n",
            "Hour 13 : Minutes 47\n",
            "Hour 13 : Minutes 48\n",
            "Hour 13 : Minutes 49\n",
            "Hour 13 : Minutes 50\n",
            "Hour 13 : Minutes 51\n",
            "Hour 13 : Minutes 52\n",
            "Hour 13 : Minutes 53\n",
            "Hour 13 : Minutes 54\n",
            "Hour 13 : Minutes 55\n",
            "Hour 13 : Minutes 56\n",
            "Hour 13 : Minutes 57\n",
            "Hour 13 : Minutes 58\n",
            "Hour 13 : Minutes 59\n",
            "Hour 14 : Minutes 0\n",
            "Hour 14 : Minutes 1\n",
            "Hour 14 : Minutes 2\n",
            "Hour 14 : Minutes 3\n",
            "Hour 14 : Minutes 4\n",
            "Hour 14 : Minutes 5\n",
            "Hour 14 : Minutes 6\n",
            "Hour 14 : Minutes 7\n",
            "Hour 14 : Minutes 8\n",
            "Hour 14 : Minutes 9\n",
            "Hour 14 : Minutes 10\n",
            "Hour 14 : Minutes 11\n",
            "Hour 14 : Minutes 12\n",
            "Hour 14 : Minutes 13\n",
            "Hour 14 : Minutes 14\n",
            "Hour 14 : Minutes 15\n",
            "Hour 14 : Minutes 16\n",
            "Hour 14 : Minutes 17\n",
            "Hour 14 : Minutes 18\n",
            "Hour 14 : Minutes 19\n",
            "Hour 14 : Minutes 20\n",
            "Hour 14 : Minutes 21\n",
            "Hour 14 : Minutes 22\n",
            "Hour 14 : Minutes 23\n",
            "Hour 14 : Minutes 24\n",
            "Hour 14 : Minutes 25\n",
            "Hour 14 : Minutes 26\n",
            "Hour 14 : Minutes 27\n",
            "Hour 14 : Minutes 28\n",
            "Hour 14 : Minutes 29\n",
            "Hour 14 : Minutes 30\n",
            "Hour 14 : Minutes 31\n",
            "Hour 14 : Minutes 32\n",
            "Hour 14 : Minutes 33\n",
            "Hour 14 : Minutes 34\n",
            "Hour 14 : Minutes 35\n",
            "Hour 14 : Minutes 36\n",
            "Hour 14 : Minutes 37\n",
            "Hour 14 : Minutes 38\n",
            "Hour 14 : Minutes 39\n",
            "Hour 14 : Minutes 40\n",
            "Hour 14 : Minutes 41\n",
            "Hour 14 : Minutes 42\n",
            "Hour 14 : Minutes 43\n",
            "Hour 14 : Minutes 44\n",
            "Hour 14 : Minutes 45\n",
            "Hour 14 : Minutes 46\n",
            "Hour 14 : Minutes 47\n",
            "Hour 14 : Minutes 48\n",
            "Hour 14 : Minutes 49\n",
            "Hour 14 : Minutes 50\n",
            "Hour 14 : Minutes 51\n",
            "Hour 14 : Minutes 52\n",
            "Hour 14 : Minutes 53\n",
            "Hour 14 : Minutes 54\n",
            "Hour 14 : Minutes 55\n",
            "Hour 14 : Minutes 56\n",
            "Hour 14 : Minutes 57\n",
            "Hour 14 : Minutes 58\n",
            "Hour 14 : Minutes 59\n",
            "Hour 15 : Minutes 0\n",
            "Hour 15 : Minutes 1\n",
            "Hour 15 : Minutes 2\n",
            "Hour 15 : Minutes 3\n",
            "Hour 15 : Minutes 4\n",
            "Hour 15 : Minutes 5\n",
            "Hour 15 : Minutes 6\n",
            "Hour 15 : Minutes 7\n",
            "Hour 15 : Minutes 8\n",
            "Hour 15 : Minutes 9\n",
            "Hour 15 : Minutes 10\n",
            "Hour 15 : Minutes 11\n",
            "Hour 15 : Minutes 12\n",
            "Hour 15 : Minutes 13\n",
            "Hour 15 : Minutes 14\n",
            "Hour 15 : Minutes 15\n",
            "Hour 15 : Minutes 16\n",
            "Hour 15 : Minutes 17\n",
            "Hour 15 : Minutes 18\n",
            "Hour 15 : Minutes 19\n",
            "Hour 15 : Minutes 20\n",
            "Hour 15 : Minutes 21\n",
            "Hour 15 : Minutes 22\n",
            "Hour 15 : Minutes 23\n",
            "Hour 15 : Minutes 24\n",
            "Hour 15 : Minutes 25\n",
            "Hour 15 : Minutes 26\n",
            "Hour 15 : Minutes 27\n",
            "Hour 15 : Minutes 28\n",
            "Hour 15 : Minutes 29\n",
            "Hour 15 : Minutes 30\n",
            "Hour 15 : Minutes 31\n",
            "Hour 15 : Minutes 32\n",
            "Hour 15 : Minutes 33\n",
            "Hour 15 : Minutes 34\n",
            "Hour 15 : Minutes 35\n",
            "Hour 15 : Minutes 36\n",
            "Hour 15 : Minutes 37\n",
            "Hour 15 : Minutes 38\n",
            "Hour 15 : Minutes 39\n",
            "Hour 15 : Minutes 40\n",
            "Hour 15 : Minutes 41\n",
            "Hour 15 : Minutes 42\n",
            "Hour 15 : Minutes 43\n",
            "Hour 15 : Minutes 44\n",
            "Hour 15 : Minutes 45\n",
            "Hour 15 : Minutes 46\n",
            "Hour 15 : Minutes 47\n",
            "Hour 15 : Minutes 48\n",
            "Hour 15 : Minutes 49\n",
            "Hour 15 : Minutes 50\n",
            "Hour 15 : Minutes 51\n",
            "Hour 15 : Minutes 52\n",
            "Hour 15 : Minutes 53\n",
            "Hour 15 : Minutes 54\n",
            "Hour 15 : Minutes 55\n",
            "Hour 15 : Minutes 56\n",
            "Hour 15 : Minutes 57\n",
            "Hour 15 : Minutes 58\n",
            "Hour 15 : Minutes 59\n",
            "Hour 16 : Minutes 0\n",
            "Hour 16 : Minutes 1\n",
            "Hour 16 : Minutes 2\n",
            "Hour 16 : Minutes 3\n",
            "Hour 16 : Minutes 4\n",
            "Hour 16 : Minutes 5\n",
            "Hour 16 : Minutes 6\n",
            "Hour 16 : Minutes 7\n",
            "Hour 16 : Minutes 8\n",
            "Hour 16 : Minutes 9\n",
            "Hour 16 : Minutes 10\n",
            "Hour 16 : Minutes 11\n",
            "Hour 16 : Minutes 12\n",
            "Hour 16 : Minutes 13\n",
            "Hour 16 : Minutes 14\n",
            "Hour 16 : Minutes 15\n",
            "Hour 16 : Minutes 16\n",
            "Hour 16 : Minutes 17\n",
            "Hour 16 : Minutes 18\n",
            "Hour 16 : Minutes 19\n",
            "Hour 16 : Minutes 20\n",
            "Hour 16 : Minutes 21\n",
            "Hour 16 : Minutes 22\n",
            "Hour 16 : Minutes 23\n",
            "Hour 16 : Minutes 24\n",
            "Hour 16 : Minutes 25\n",
            "Hour 16 : Minutes 26\n",
            "Hour 16 : Minutes 27\n",
            "Hour 16 : Minutes 28\n",
            "Hour 16 : Minutes 29\n",
            "Hour 16 : Minutes 30\n",
            "Hour 16 : Minutes 31\n",
            "Hour 16 : Minutes 32\n",
            "Hour 16 : Minutes 33\n",
            "Hour 16 : Minutes 34\n",
            "Hour 16 : Minutes 35\n",
            "Hour 16 : Minutes 36\n",
            "Hour 16 : Minutes 37\n",
            "Hour 16 : Minutes 38\n",
            "Hour 16 : Minutes 39\n",
            "Hour 16 : Minutes 40\n",
            "Hour 16 : Minutes 41\n",
            "Hour 16 : Minutes 42\n",
            "Hour 16 : Minutes 43\n",
            "Hour 16 : Minutes 44\n",
            "Hour 16 : Minutes 45\n",
            "Hour 16 : Minutes 46\n",
            "Hour 16 : Minutes 47\n",
            "Hour 16 : Minutes 48\n",
            "Hour 16 : Minutes 49\n",
            "Hour 16 : Minutes 50\n",
            "Hour 16 : Minutes 51\n",
            "Hour 16 : Minutes 52\n",
            "Hour 16 : Minutes 53\n",
            "Hour 16 : Minutes 54\n",
            "Hour 16 : Minutes 55\n",
            "Hour 16 : Minutes 56\n",
            "Hour 16 : Minutes 57\n",
            "Hour 16 : Minutes 58\n",
            "Hour 16 : Minutes 59\n",
            "Hour 17 : Minutes 0\n",
            "Hour 17 : Minutes 1\n",
            "Hour 17 : Minutes 2\n",
            "Hour 17 : Minutes 3\n",
            "Hour 17 : Minutes 4\n",
            "Hour 17 : Minutes 5\n",
            "Hour 17 : Minutes 6\n",
            "Hour 17 : Minutes 7\n",
            "Hour 17 : Minutes 8\n",
            "Hour 17 : Minutes 9\n",
            "Hour 17 : Minutes 10\n",
            "Hour 17 : Minutes 11\n",
            "Hour 17 : Minutes 12\n",
            "Hour 17 : Minutes 13\n",
            "Hour 17 : Minutes 14\n",
            "Hour 17 : Minutes 15\n",
            "Hour 17 : Minutes 16\n",
            "Hour 17 : Minutes 17\n",
            "Hour 17 : Minutes 18\n",
            "Hour 17 : Minutes 19\n",
            "Hour 17 : Minutes 20\n",
            "Hour 17 : Minutes 21\n",
            "Hour 17 : Minutes 22\n",
            "Hour 17 : Minutes 23\n",
            "Hour 17 : Minutes 24\n",
            "Hour 17 : Minutes 25\n",
            "Hour 17 : Minutes 26\n",
            "Hour 17 : Minutes 27\n",
            "Hour 17 : Minutes 28\n",
            "Hour 17 : Minutes 29\n",
            "Hour 17 : Minutes 30\n",
            "Hour 17 : Minutes 31\n",
            "Hour 17 : Minutes 32\n",
            "Hour 17 : Minutes 33\n",
            "Hour 17 : Minutes 34\n",
            "Hour 17 : Minutes 35\n",
            "Hour 17 : Minutes 36\n",
            "Hour 17 : Minutes 37\n",
            "Hour 17 : Minutes 38\n",
            "Hour 17 : Minutes 39\n",
            "Hour 17 : Minutes 40\n",
            "Hour 17 : Minutes 41\n",
            "Hour 17 : Minutes 42\n",
            "Hour 17 : Minutes 43\n",
            "Hour 17 : Minutes 44\n",
            "Hour 17 : Minutes 45\n",
            "Hour 17 : Minutes 46\n",
            "Hour 17 : Minutes 47\n",
            "Hour 17 : Minutes 48\n",
            "Hour 17 : Minutes 49\n",
            "Hour 17 : Minutes 50\n",
            "Hour 17 : Minutes 51\n",
            "Hour 17 : Minutes 52\n",
            "Hour 17 : Minutes 53\n",
            "Hour 17 : Minutes 54\n",
            "Hour 17 : Minutes 55\n",
            "Hour 17 : Minutes 56\n",
            "Hour 17 : Minutes 57\n",
            "Hour 17 : Minutes 58\n",
            "Hour 17 : Minutes 59\n",
            "Hour 18 : Minutes 0\n",
            "Hour 18 : Minutes 1\n",
            "Hour 18 : Minutes 2\n",
            "Hour 18 : Minutes 3\n",
            "Hour 18 : Minutes 4\n",
            "Hour 18 : Minutes 5\n",
            "Hour 18 : Minutes 6\n",
            "Hour 18 : Minutes 7\n",
            "Hour 18 : Minutes 8\n",
            "Hour 18 : Minutes 9\n",
            "Hour 18 : Minutes 10\n",
            "Hour 18 : Minutes 11\n",
            "Hour 18 : Minutes 12\n",
            "Hour 18 : Minutes 13\n",
            "Hour 18 : Minutes 14\n",
            "Hour 18 : Minutes 15\n",
            "Hour 18 : Minutes 16\n",
            "Hour 18 : Minutes 17\n",
            "Hour 18 : Minutes 18\n",
            "Hour 18 : Minutes 19\n",
            "Hour 18 : Minutes 20\n",
            "Hour 18 : Minutes 21\n",
            "Hour 18 : Minutes 22\n",
            "Hour 18 : Minutes 23\n",
            "Hour 18 : Minutes 24\n",
            "Hour 18 : Minutes 25\n",
            "Hour 18 : Minutes 26\n",
            "Hour 18 : Minutes 27\n",
            "Hour 18 : Minutes 28\n",
            "Hour 18 : Minutes 29\n",
            "Hour 18 : Minutes 30\n",
            "Hour 18 : Minutes 31\n",
            "Hour 18 : Minutes 32\n",
            "Hour 18 : Minutes 33\n",
            "Hour 18 : Minutes 34\n",
            "Hour 18 : Minutes 35\n",
            "Hour 18 : Minutes 36\n",
            "Hour 18 : Minutes 37\n",
            "Hour 18 : Minutes 38\n",
            "Hour 18 : Minutes 39\n",
            "Hour 18 : Minutes 40\n",
            "Hour 18 : Minutes 41\n",
            "Hour 18 : Minutes 42\n",
            "Hour 18 : Minutes 43\n",
            "Hour 18 : Minutes 44\n",
            "Hour 18 : Minutes 45\n",
            "Hour 18 : Minutes 46\n",
            "Hour 18 : Minutes 47\n",
            "Hour 18 : Minutes 48\n",
            "Hour 18 : Minutes 49\n",
            "Hour 18 : Minutes 50\n",
            "Hour 18 : Minutes 51\n",
            "Hour 18 : Minutes 52\n",
            "Hour 18 : Minutes 53\n",
            "Hour 18 : Minutes 54\n",
            "Hour 18 : Minutes 55\n",
            "Hour 18 : Minutes 56\n",
            "Hour 18 : Minutes 57\n",
            "Hour 18 : Minutes 58\n",
            "Hour 18 : Minutes 59\n",
            "Hour 19 : Minutes 0\n",
            "Hour 19 : Minutes 1\n",
            "Hour 19 : Minutes 2\n",
            "Hour 19 : Minutes 3\n",
            "Hour 19 : Minutes 4\n",
            "Hour 19 : Minutes 5\n",
            "Hour 19 : Minutes 6\n",
            "Hour 19 : Minutes 7\n",
            "Hour 19 : Minutes 8\n",
            "Hour 19 : Minutes 9\n",
            "Hour 19 : Minutes 10\n",
            "Hour 19 : Minutes 11\n",
            "Hour 19 : Minutes 12\n",
            "Hour 19 : Minutes 13\n",
            "Hour 19 : Minutes 14\n",
            "Hour 19 : Minutes 15\n",
            "Hour 19 : Minutes 16\n",
            "Hour 19 : Minutes 17\n",
            "Hour 19 : Minutes 18\n",
            "Hour 19 : Minutes 19\n",
            "Hour 19 : Minutes 20\n",
            "Hour 19 : Minutes 21\n",
            "Hour 19 : Minutes 22\n",
            "Hour 19 : Minutes 23\n",
            "Hour 19 : Minutes 24\n",
            "Hour 19 : Minutes 25\n",
            "Hour 19 : Minutes 26\n",
            "Hour 19 : Minutes 27\n",
            "Hour 19 : Minutes 28\n",
            "Hour 19 : Minutes 29\n",
            "Hour 19 : Minutes 30\n",
            "Hour 19 : Minutes 31\n",
            "Hour 19 : Minutes 32\n",
            "Hour 19 : Minutes 33\n",
            "Hour 19 : Minutes 34\n",
            "Hour 19 : Minutes 35\n",
            "Hour 19 : Minutes 36\n",
            "Hour 19 : Minutes 37\n",
            "Hour 19 : Minutes 38\n",
            "Hour 19 : Minutes 39\n",
            "Hour 19 : Minutes 40\n",
            "Hour 19 : Minutes 41\n",
            "Hour 19 : Minutes 42\n",
            "Hour 19 : Minutes 43\n",
            "Hour 19 : Minutes 44\n",
            "Hour 19 : Minutes 45\n",
            "Hour 19 : Minutes 46\n",
            "Hour 19 : Minutes 47\n",
            "Hour 19 : Minutes 48\n",
            "Hour 19 : Minutes 49\n",
            "Hour 19 : Minutes 50\n",
            "Hour 19 : Minutes 51\n",
            "Hour 19 : Minutes 52\n",
            "Hour 19 : Minutes 53\n",
            "Hour 19 : Minutes 54\n",
            "Hour 19 : Minutes 55\n",
            "Hour 19 : Minutes 56\n",
            "Hour 19 : Minutes 57\n",
            "Hour 19 : Minutes 58\n",
            "Hour 19 : Minutes 59\n",
            "Hour 20 : Minutes 0\n",
            "Hour 20 : Minutes 1\n",
            "Hour 20 : Minutes 2\n",
            "Hour 20 : Minutes 3\n",
            "Hour 20 : Minutes 4\n",
            "Hour 20 : Minutes 5\n",
            "Hour 20 : Minutes 6\n",
            "Hour 20 : Minutes 7\n",
            "Hour 20 : Minutes 8\n",
            "Hour 20 : Minutes 9\n",
            "Hour 20 : Minutes 10\n",
            "Hour 20 : Minutes 11\n",
            "Hour 20 : Minutes 12\n",
            "Hour 20 : Minutes 13\n",
            "Hour 20 : Minutes 14\n",
            "Hour 20 : Minutes 15\n",
            "Hour 20 : Minutes 16\n",
            "Hour 20 : Minutes 17\n",
            "Hour 20 : Minutes 18\n",
            "Hour 20 : Minutes 19\n",
            "Hour 20 : Minutes 20\n",
            "Hour 20 : Minutes 21\n",
            "Hour 20 : Minutes 22\n",
            "Hour 20 : Minutes 23\n",
            "Hour 20 : Minutes 24\n",
            "Hour 20 : Minutes 25\n",
            "Hour 20 : Minutes 26\n",
            "Hour 20 : Minutes 27\n",
            "Hour 20 : Minutes 28\n",
            "Hour 20 : Minutes 29\n",
            "Hour 20 : Minutes 30\n",
            "Hour 20 : Minutes 31\n",
            "Hour 20 : Minutes 32\n",
            "Hour 20 : Minutes 33\n",
            "Hour 20 : Minutes 34\n",
            "Hour 20 : Minutes 35\n",
            "Hour 20 : Minutes 36\n",
            "Hour 20 : Minutes 37\n",
            "Hour 20 : Minutes 38\n",
            "Hour 20 : Minutes 39\n",
            "Hour 20 : Minutes 40\n",
            "Hour 20 : Minutes 41\n",
            "Hour 20 : Minutes 42\n",
            "Hour 20 : Minutes 43\n",
            "Hour 20 : Minutes 44\n",
            "Hour 20 : Minutes 45\n",
            "Hour 20 : Minutes 46\n",
            "Hour 20 : Minutes 47\n",
            "Hour 20 : Minutes 48\n",
            "Hour 20 : Minutes 49\n",
            "Hour 20 : Minutes 50\n",
            "Hour 20 : Minutes 51\n",
            "Hour 20 : Minutes 52\n",
            "Hour 20 : Minutes 53\n",
            "Hour 20 : Minutes 54\n",
            "Hour 20 : Minutes 55\n",
            "Hour 20 : Minutes 56\n",
            "Hour 20 : Minutes 57\n",
            "Hour 20 : Minutes 58\n",
            "Hour 20 : Minutes 59\n",
            "Hour 21 : Minutes 0\n",
            "Hour 21 : Minutes 1\n",
            "Hour 21 : Minutes 2\n",
            "Hour 21 : Minutes 3\n",
            "Hour 21 : Minutes 4\n",
            "Hour 21 : Minutes 5\n",
            "Hour 21 : Minutes 6\n",
            "Hour 21 : Minutes 7\n",
            "Hour 21 : Minutes 8\n",
            "Hour 21 : Minutes 9\n",
            "Hour 21 : Minutes 10\n",
            "Hour 21 : Minutes 11\n",
            "Hour 21 : Minutes 12\n",
            "Hour 21 : Minutes 13\n",
            "Hour 21 : Minutes 14\n",
            "Hour 21 : Minutes 15\n",
            "Hour 21 : Minutes 16\n",
            "Hour 21 : Minutes 17\n",
            "Hour 21 : Minutes 18\n",
            "Hour 21 : Minutes 19\n",
            "Hour 21 : Minutes 20\n",
            "Hour 21 : Minutes 21\n",
            "Hour 21 : Minutes 22\n",
            "Hour 21 : Minutes 23\n",
            "Hour 21 : Minutes 24\n",
            "Hour 21 : Minutes 25\n",
            "Hour 21 : Minutes 26\n",
            "Hour 21 : Minutes 27\n",
            "Hour 21 : Minutes 28\n",
            "Hour 21 : Minutes 29\n",
            "Hour 21 : Minutes 30\n",
            "Hour 21 : Minutes 31\n",
            "Hour 21 : Minutes 32\n",
            "Hour 21 : Minutes 33\n",
            "Hour 21 : Minutes 34\n",
            "Hour 21 : Minutes 35\n",
            "Hour 21 : Minutes 36\n",
            "Hour 21 : Minutes 37\n",
            "Hour 21 : Minutes 38\n",
            "Hour 21 : Minutes 39\n",
            "Hour 21 : Minutes 40\n",
            "Hour 21 : Minutes 41\n",
            "Hour 21 : Minutes 42\n",
            "Hour 21 : Minutes 43\n",
            "Hour 21 : Minutes 44\n",
            "Hour 21 : Minutes 45\n",
            "Hour 21 : Minutes 46\n",
            "Hour 21 : Minutes 47\n",
            "Hour 21 : Minutes 48\n",
            "Hour 21 : Minutes 49\n",
            "Hour 21 : Minutes 50\n",
            "Hour 21 : Minutes 51\n",
            "Hour 21 : Minutes 52\n",
            "Hour 21 : Minutes 53\n",
            "Hour 21 : Minutes 54\n",
            "Hour 21 : Minutes 55\n",
            "Hour 21 : Minutes 56\n",
            "Hour 21 : Minutes 57\n",
            "Hour 21 : Minutes 58\n",
            "Hour 21 : Minutes 59\n",
            "Hour 22 : Minutes 0\n",
            "Hour 22 : Minutes 1\n",
            "Hour 22 : Minutes 2\n",
            "Hour 22 : Minutes 3\n",
            "Hour 22 : Minutes 4\n",
            "Hour 22 : Minutes 5\n",
            "Hour 22 : Minutes 6\n",
            "Hour 22 : Minutes 7\n",
            "Hour 22 : Minutes 8\n",
            "Hour 22 : Minutes 9\n",
            "Hour 22 : Minutes 10\n",
            "Hour 22 : Minutes 11\n",
            "Hour 22 : Minutes 12\n",
            "Hour 22 : Minutes 13\n",
            "Hour 22 : Minutes 14\n",
            "Hour 22 : Minutes 15\n",
            "Hour 22 : Minutes 16\n",
            "Hour 22 : Minutes 17\n",
            "Hour 22 : Minutes 18\n",
            "Hour 22 : Minutes 19\n",
            "Hour 22 : Minutes 20\n",
            "Hour 22 : Minutes 21\n",
            "Hour 22 : Minutes 22\n",
            "Hour 22 : Minutes 23\n",
            "Hour 22 : Minutes 24\n",
            "Hour 22 : Minutes 25\n",
            "Hour 22 : Minutes 26\n",
            "Hour 22 : Minutes 27\n",
            "Hour 22 : Minutes 28\n",
            "Hour 22 : Minutes 29\n",
            "Hour 22 : Minutes 30\n",
            "Hour 22 : Minutes 31\n",
            "Hour 22 : Minutes 32\n",
            "Hour 22 : Minutes 33\n",
            "Hour 22 : Minutes 34\n",
            "Hour 22 : Minutes 35\n",
            "Hour 22 : Minutes 36\n",
            "Hour 22 : Minutes 37\n",
            "Hour 22 : Minutes 38\n",
            "Hour 22 : Minutes 39\n",
            "Hour 22 : Minutes 40\n",
            "Hour 22 : Minutes 41\n",
            "Hour 22 : Minutes 42\n",
            "Hour 22 : Minutes 43\n",
            "Hour 22 : Minutes 44\n",
            "Hour 22 : Minutes 45\n",
            "Hour 22 : Minutes 46\n",
            "Hour 22 : Minutes 47\n",
            "Hour 22 : Minutes 48\n",
            "Hour 22 : Minutes 49\n",
            "Hour 22 : Minutes 50\n",
            "Hour 22 : Minutes 51\n",
            "Hour 22 : Minutes 52\n",
            "Hour 22 : Minutes 53\n",
            "Hour 22 : Minutes 54\n",
            "Hour 22 : Minutes 55\n",
            "Hour 22 : Minutes 56\n",
            "Hour 22 : Minutes 57\n",
            "Hour 22 : Minutes 58\n",
            "Hour 22 : Minutes 59\n",
            "Hour 23 : Minutes 0\n",
            "Hour 23 : Minutes 1\n",
            "Hour 23 : Minutes 2\n",
            "Hour 23 : Minutes 3\n",
            "Hour 23 : Minutes 4\n",
            "Hour 23 : Minutes 5\n",
            "Hour 23 : Minutes 6\n",
            "Hour 23 : Minutes 7\n",
            "Hour 23 : Minutes 8\n",
            "Hour 23 : Minutes 9\n",
            "Hour 23 : Minutes 10\n",
            "Hour 23 : Minutes 11\n",
            "Hour 23 : Minutes 12\n",
            "Hour 23 : Minutes 13\n",
            "Hour 23 : Minutes 14\n",
            "Hour 23 : Minutes 15\n",
            "Hour 23 : Minutes 16\n",
            "Hour 23 : Minutes 17\n",
            "Hour 23 : Minutes 18\n",
            "Hour 23 : Minutes 19\n",
            "Hour 23 : Minutes 20\n",
            "Hour 23 : Minutes 21\n",
            "Hour 23 : Minutes 22\n",
            "Hour 23 : Minutes 23\n",
            "Hour 23 : Minutes 24\n",
            "Hour 23 : Minutes 25\n",
            "Hour 23 : Minutes 26\n",
            "Hour 23 : Minutes 27\n",
            "Hour 23 : Minutes 28\n",
            "Hour 23 : Minutes 29\n",
            "Hour 23 : Minutes 30\n",
            "Hour 23 : Minutes 31\n",
            "Hour 23 : Minutes 32\n",
            "Hour 23 : Minutes 33\n",
            "Hour 23 : Minutes 34\n",
            "Hour 23 : Minutes 35\n",
            "Hour 23 : Minutes 36\n",
            "Hour 23 : Minutes 37\n",
            "Hour 23 : Minutes 38\n",
            "Hour 23 : Minutes 39\n",
            "Hour 23 : Minutes 40\n",
            "Hour 23 : Minutes 41\n",
            "Hour 23 : Minutes 42\n",
            "Hour 23 : Minutes 43\n",
            "Hour 23 : Minutes 44\n",
            "Hour 23 : Minutes 45\n",
            "Hour 23 : Minutes 46\n",
            "Hour 23 : Minutes 47\n",
            "Hour 23 : Minutes 48\n",
            "Hour 23 : Minutes 49\n",
            "Hour 23 : Minutes 50\n",
            "Hour 23 : Minutes 51\n",
            "Hour 23 : Minutes 52\n",
            "Hour 23 : Minutes 53\n",
            "Hour 23 : Minutes 54\n",
            "Hour 23 : Minutes 55\n",
            "Hour 23 : Minutes 56\n",
            "Hour 23 : Minutes 57\n",
            "Hour 23 : Minutes 58\n",
            "Hour 23 : Minutes 59\n"
          ]
        }
      ]
    },
    {
      "cell_type": "code",
      "source": [
        "# break and continue\n",
        "# break and continue will work on the for loop it is attached, not on all all for loops\n",
        "for hour in range(0,24):\n",
        "  for minutes in range(0,60):\n",
        "    if minutes == 5:\n",
        "      break\n",
        "    print(f'Hour {hour} : Minutes {minutes}')"
      ],
      "metadata": {
        "id": "_90ygml2jOR8"
      },
      "execution_count": null,
      "outputs": []
    },
    {
      "cell_type": "code",
      "source": [
        "# Question 16: Nested for loop\n",
        "'''\n",
        "Print this pattern -\n",
        "1\n",
        "12\n",
        "123\n",
        "1234\n",
        "12345\n",
        "'''\n",
        "\n",
        "n = int(input()) # 5\n",
        "for i in range(1,n+1): # [1,2,3,4,5]\n",
        "  for j in range(1,i+1):\n",
        "    print(j, end = '') # end is a parameter,\n",
        "  print()\n",
        "\n",
        "\n",
        "# Iteration 1 : i = 1, j iterates on range(1,2) = [1]\n",
        "# i = 1, j = 1\n",
        "# print(j, end = '')\n",
        "# 1\n",
        "# print() --> Next print will start from next line\n",
        "\n",
        "# Iteration 2 : i = 2, j iterates on range(1,3) = [1,2]\n",
        "# Mini Iterations : i = 2 , J = 1\n",
        "# print(j, end = '')\n",
        "# 1\n",
        "# Mini Iterations : i = 2 , J = 2\n",
        "# print(j, end = '')\n",
        "# 12\n",
        "# print() --> Next print will start from next line\n",
        "\n",
        "\n",
        "# Iteration 3 : i = 3, j iterates on range(1,4) = [1,2,3]\n",
        "# Mini Iterations : i = 3 , J = 1\n",
        "# print(j, end = '')\n",
        "# 1\n",
        "# Mini Iterations : i = 3 , J = 2\n",
        "# print(j, end = '')\n",
        "# 12\n",
        "# Mini Iterations : i = 3 , J = 3\n",
        "# print(j, end = '')\n",
        "# 123\n",
        "# print() --> Next print will start from next line\n"
      ],
      "metadata": {
        "colab": {
          "base_uri": "https://localhost:8080/"
        },
        "id": "g_5hX8fcj47m",
        "outputId": "371d4b21-b4f6-47fa-9cb4-dd73a411a24a"
      },
      "execution_count": null,
      "outputs": [
        {
          "output_type": "stream",
          "name": "stdout",
          "text": [
            "5\n",
            "1\n",
            "12\n",
            "123\n",
            "1234\n",
            "12345\n"
          ]
        }
      ]
    },
    {
      "cell_type": "code",
      "source": [
        "\n"
      ],
      "metadata": {
        "colab": {
          "base_uri": "https://localhost:8080/"
        },
        "id": "8CnKDht1DSJ2",
        "outputId": "0873245b-0fd9-4206-a932-dd851a6617bd"
      },
      "execution_count": null,
      "outputs": [
        {
          "output_type": "stream",
          "name": "stdout",
          "text": [
            "1\n",
            "2\n",
            "3\n",
            "4\n"
          ]
        }
      ]
    },
    {
      "cell_type": "code",
      "source": [
        "for i in range(1,5):\n",
        "  print(i, end = ' ')"
      ],
      "metadata": {
        "colab": {
          "base_uri": "https://localhost:8080/"
        },
        "id": "5xItu3pdDguW",
        "outputId": "4085e6bb-4180-458b-96f5-4effd29c0b5c"
      },
      "execution_count": null,
      "outputs": [
        {
          "output_type": "stream",
          "name": "stdout",
          "text": [
            "1234"
          ]
        }
      ]
    },
    {
      "cell_type": "markdown",
      "source": [
        "#### Self Practice (6 Questions + 3 Questions present on dasboard)"
      ],
      "metadata": {
        "id": "vWW3e_LWaiUx"
      }
    },
    {
      "cell_type": "code",
      "source": [
        "# Question 1:  (Easy) : next class\n",
        "'''\n",
        "Print the vowel or consonant in the word.\n",
        "Input : word = 'AlmaBetter'\n",
        "Output :\n",
        "A is Vowel\n",
        "l is Consonant\n",
        "m is Consonant\n",
        "a is Vowel\n",
        "B is Consonant\n",
        "e is Vowel\n",
        "t is Consonant\n",
        "t is Consonant\n",
        "e is Vowel\n",
        "r is Consonant\n",
        "'''\n",
        "word = input('Enter the word:')\n",
        "\n",
        "for i in word:\n",
        "  if i.lower() in 'aeiou':\n",
        "    print(f'{i} is Vowel')\n",
        "  else:\n",
        "    print(f'{i} is consonant')\n",
        "\n",
        "\n"
      ],
      "metadata": {
        "id": "kyf6NPKRbRVK",
        "colab": {
          "base_uri": "https://localhost:8080/"
        },
        "outputId": "76bf44bb-32cf-4812-dd74-73672cb27e08"
      },
      "execution_count": null,
      "outputs": [
        {
          "output_type": "stream",
          "name": "stdout",
          "text": [
            "Enter the word:AlmaBetter\n",
            "A is Vowel\n",
            "l is consonant\n",
            "m is consonant\n",
            "a is Vowel\n",
            "B is consonant\n",
            "e is Vowel\n",
            "t is consonant\n",
            "t is consonant\n",
            "e is Vowel\n",
            "r is consonant\n"
          ]
        }
      ]
    },
    {
      "cell_type": "code",
      "source": [
        "# Question 2 : (Easy) :\n",
        "'''\n",
        "For any num print the total sum of digits applying the logic of if number is even do square, else do cube\n",
        "\n",
        "Input : 123  Output = 32  # 1^3 + 2^2 + 3^3 = 1 + 4 + 27\n",
        "Input : 467  Output  = 395  # 4 ^ 2 + 6 ^ 2 + 7 ^3 = 16 + 36 + 343\n",
        "\n",
        "'''\n",
        "\n",
        "num = int(input('Enter the number:')) # 1234\n",
        "\n",
        "num_str = str(num)# '1234'\n",
        "_total =0\n",
        "\n",
        "for i in num_str: #'1234'\n",
        "  i = int(i) # typecasting to integer\n",
        "  if i % 2 ==0:\n",
        "    _total += (i**2)\n",
        "  else:\n",
        "    _total += (i**3)\n",
        "\n",
        "\n",
        "print(_total)\n",
        "\n",
        "\n",
        "\n",
        "\n"
      ],
      "metadata": {
        "colab": {
          "base_uri": "https://localhost:8080/"
        },
        "id": "i0-obOWhfWiu",
        "outputId": "cc391d17-19f5-4995-919c-a2361567af7f"
      },
      "execution_count": null,
      "outputs": [
        {
          "output_type": "stream",
          "name": "stdout",
          "text": [
            "Enter the number:1234\n",
            "1\n",
            "5\n",
            "32\n",
            "48\n"
          ]
        }
      ]
    },
    {
      "cell_type": "code",
      "source": [
        "# Question 3 : (Intermediate) : next Class\n",
        "'''\n",
        "Case Study Question: Discount Calculator\n",
        "\n",
        "You are working for an e-commerce website.\n",
        "Create a program that calculates the total cost of items in a shopping cart after applying discounts.\n",
        "Use a for loop to iterate through the cart and apply the following discounts:\n",
        "\n",
        "# 10% off for items costing between $10 and $50.\n",
        "# 20% off for items costing more than $50.\n",
        "# No discount for items costing less than $10.\n",
        "\n",
        "# Expected Output\n",
        "# cart = [7, 15, 35, 80, 5] --> Total Cost : 121\n",
        "# cart = [7, 8, 2 ] --> Total Cost : 17\n",
        "# cart = [20] --> Total Cost : 18\n",
        "# cart = [20,60] --> Total Cost : 66\n",
        "\n",
        "'''\n",
        "\n",
        "_cart = eval(input())\n",
        "_total = 0\n",
        "_lower_limit_price = 10\n",
        "_mid_limit_price = 50\n",
        "_blower_limit_discount = 0\n",
        "_lower_limit_discount = 0.1\n",
        "_upper_limit_discount  = 0.2\n",
        "\n",
        "\n",
        "for i in _cart:\n",
        "  if i < _lower_limit_price:\n",
        "    _total += i * (1-_blower_limit_discount)\n",
        "  elif i >=_lower_limit_price and i <= _mid_limit_price:\n",
        "    _total += i*(1- _lower_limit_discount)\n",
        "  else:\n",
        "    _total += i*(1- _upper_limit_discount)\n",
        "\n",
        "print(_total)\n",
        "\n",
        "\n"
      ],
      "metadata": {
        "id": "JF42ym1Ff_Kd",
        "colab": {
          "base_uri": "https://localhost:8080/"
        },
        "outputId": "afab2e8c-d345-4c4b-f69e-9c25317afa4b"
      },
      "execution_count": null,
      "outputs": [
        {
          "output_type": "stream",
          "name": "stdout",
          "text": [
            "[7, 15, 35, 80, 5]\n",
            "126.5\n"
          ]
        }
      ]
    },
    {
      "cell_type": "code",
      "source": [
        "## 10% off for items costing between $10 and $50.\n",
        "# 20% off for items costing more than $50.\n",
        "# No discount for items costing less than $10.\n",
        "\n",
        "# Expected Output\n",
        "# cart = [7, 15, 35, 80, 5] --> Total Cost : 121\n",
        "# cart = [7, 8, 2 ] --> Total Cost : 17\n",
        "# cart = [20] --> Total Cost : 18\n",
        "# cart = [20,60] --> Total Cost : 66\n",
        "\n",
        "for i in _cart:\n",
        "  if i < 10:\n",
        "    _total += i * (1-0)\n",
        "  elif i >=10 and i <= 50:\n",
        "    _total += i*(1- 0.1)\n",
        "  else:\n",
        "    _total += i*(1- 0.2)\n",
        "\n",
        "print(_total)"
      ],
      "metadata": {
        "id": "81m5Ef6XUvpQ"
      },
      "execution_count": null,
      "outputs": []
    },
    {
      "cell_type": "code",
      "source": [
        "# Question 4: (hard) : Next Class\n",
        "'''\n",
        "The Fibonacci series is a sequence of numbers where each number is\n",
        "the sum of the two preceding ones, starting from 0 and 1.\n",
        "The series begins as follows:\n",
        "\n",
        "# Fibonacci Series : 0, 1, 1, 2, 3, 5, 8, 13, 21, 34,...\n",
        "# input/till which index = 0 , fibonacci_output = [0]\n",
        "# input/ till which index = 1 , fibonacci_output = [0,1]\n",
        "# input/till which index = 2 , fibonacci_output = [0,1,1]\n",
        "# input //till which index  = 3 , fibonacci_output = [0,1,1,2]\n",
        "# input /till which index = 4 , fibonacci_output = [0,1,1,2,3]\n",
        "# input /till which index = 5 , fibonacci_output = [0,1,1,2,3,5] # till 5th index print the fibonacci series\n",
        "'''\n",
        "\n",
        "_index = int(input('Enter the index till which you want fibonacci series:'))\n",
        "\n",
        "_output = [0,1] # []\n",
        "\n",
        "if _index == 0:\n",
        "  print(_output[:_index+1])\n",
        "elif _index == 1:\n",
        "  print(_output[:_index+1])\n",
        "\n",
        "else:\n",
        "  for i in range(2,_index + 1):\n",
        "    next_value = _output[-1] + _output[-2] # negative index\n",
        "    _output.append(next_value)\n",
        "\n",
        "  print(_output)\n",
        "\n",
        "\n",
        "# index = 5\n",
        "# Iterations : i = 2,3,4,5 | --> 4 iterations\n",
        "# i = 2\n",
        "# _output = [0,1]\n",
        "# next_value = _output[-1] + _output[-2] # 1+ 0 = 1\n",
        "# _output.append(next_value) # [0,1,1]\n",
        "\n",
        "# i = 3\n",
        "# _output = [0,1,1]\n",
        "# next_value = _output[-1] + _output[-2] # 1+ 1 = 2\n",
        "# _output.append(next_value) # [0,1,1,2]\n",
        "\n",
        "# i = 4\n",
        "# _output = [0,1,1,2]\n",
        "# next_value = _output[-1] + _output[-2] # 2+ 1 = 3\n",
        "# _output.append(next_value) # [0,1,1,2,3]\n",
        "\n",
        "# i = 5\n",
        "# _output = [0,1,1,2,3]\n",
        "# next_value = _output[-1] + _output[-2] # 3+ 2 = 5\n",
        "# _output.append(next_value) # [0,1,1,2,3,5]\n",
        "\n"
      ],
      "metadata": {
        "id": "Dgxs6L3AnBS9",
        "colab": {
          "base_uri": "https://localhost:8080/"
        },
        "outputId": "8db4f830-a708-4a84-f8be-bd713b33ba33"
      },
      "execution_count": null,
      "outputs": [
        {
          "output_type": "stream",
          "name": "stdout",
          "text": [
            "Enter the index till which you want fibonacci series:5\n",
            "[0, 1, 1, 2, 3, 5]\n"
          ]
        }
      ]
    },
    {
      "cell_type": "code",
      "source": [
        "# [0,1,1,2,3] --> Next Number |last 2 elements sum"
      ],
      "metadata": {
        "id": "2MXy_elXYdRe"
      },
      "execution_count": null,
      "outputs": []
    },
    {
      "cell_type": "code",
      "source": [
        "_list = [0,1]\n",
        "# next_value ?? sum of last 2\n",
        "_list[-1] +_list[-2]"
      ],
      "metadata": {
        "colab": {
          "base_uri": "https://localhost:8080/"
        },
        "id": "Un2q4o85XpvW",
        "outputId": "5fa5513c-591b-4564-fe23-dc858b3a8a58"
      },
      "execution_count": null,
      "outputs": [
        {
          "output_type": "execute_result",
          "data": {
            "text/plain": [
              "1"
            ]
          },
          "metadata": {},
          "execution_count": 12
        }
      ]
    },
    {
      "cell_type": "code",
      "source": [
        "_out = [0,1]\n",
        "_out[:1] #"
      ],
      "metadata": {
        "colab": {
          "base_uri": "https://localhost:8080/"
        },
        "id": "cy3RdQl4XCCg",
        "outputId": "b553f0c2-f7c5-434b-ce06-c7fe39caa858"
      },
      "execution_count": null,
      "outputs": [
        {
          "output_type": "execute_result",
          "data": {
            "text/plain": [
              "[0]"
            ]
          },
          "metadata": {},
          "execution_count": 10
        }
      ]
    },
    {
      "cell_type": "code",
      "source": [
        "_out[:2] # 0, 1"
      ],
      "metadata": {
        "colab": {
          "base_uri": "https://localhost:8080/"
        },
        "id": "x4i6X9wDXNmC",
        "outputId": "8e808cdd-2c69-4836-e8e5-2951d7946036"
      },
      "execution_count": null,
      "outputs": [
        {
          "output_type": "execute_result",
          "data": {
            "text/plain": [
              "[0, 1]"
            ]
          },
          "metadata": {},
          "execution_count": 11
        }
      ]
    },
    {
      "cell_type": "code",
      "source": [
        "_out[:3] # 0,1,2"
      ],
      "metadata": {
        "id": "DdiqIez0XPeF"
      },
      "execution_count": null,
      "outputs": []
    },
    {
      "cell_type": "code",
      "source": [
        "# Question 5: (Hard) : Next Class\n",
        "'''\n",
        "Print the pyramid pattern using a/depth for loop.\n",
        "     *\n",
        "    ***\n",
        "   *****\n",
        "  *******\n",
        " *********\n",
        "***********\n",
        "\n",
        "'''\n",
        "\n",
        "# Pattern each row : created by space & Stars\n",
        "# depth = 6\n",
        "# 1row -> 5: Space, 1 : Star\n",
        "# 2 row -> 4: Space , 3 : Stars\n",
        "# 3 row --> 3 Space, 5 : Stars\n",
        "# 4 row --> 2 Space , 7: Stars\n",
        "# 5 row --> 1 Space, 9: Stars\n",
        "# 6 row --> 0 Space, 11: Stars\n",
        "\n",
        "depth = int(input()) #\n",
        "space = list(range(depth-1, -1, -1))\n",
        "stars = list(range(1, 2*depth, 2))\n",
        "# print(list(zip(space,stars)))\n",
        "for i,j in zip(space,stars):\n",
        "  print(' ' * i + '*'*j)\n",
        "\n"
      ],
      "metadata": {
        "id": "I_bD4oyTnrIA",
        "colab": {
          "base_uri": "https://localhost:8080/"
        },
        "outputId": "77dfe7e1-3859-47d6-ff9c-0d830cf8468c"
      },
      "execution_count": null,
      "outputs": [
        {
          "output_type": "stream",
          "name": "stdout",
          "text": [
            "6\n",
            "     *\n",
            "    ***\n",
            "   *****\n",
            "  *******\n",
            " *********\n",
            "***********\n"
          ]
        }
      ]
    },
    {
      "cell_type": "code",
      "source": [
        "depth = 6\n",
        "list(range(5, -1, -1)) # 5,4,3,2,1,0"
      ],
      "metadata": {
        "id": "FPMZDmvJa9Vo",
        "outputId": "84b84a90-f8a3-407a-9bea-bf75d44fe366",
        "colab": {
          "base_uri": "https://localhost:8080/"
        }
      },
      "execution_count": null,
      "outputs": [
        {
          "output_type": "execute_result",
          "data": {
            "text/plain": [
              "[5, 4, 3, 2, 1, 0]"
            ]
          },
          "metadata": {},
          "execution_count": 1
        }
      ]
    },
    {
      "cell_type": "code",
      "source": [
        "# ***********\n",
        "#  *********\n",
        "#   *******\n",
        "#    *****\n",
        "#     ***\n",
        "#      *\n",
        "\n",
        "# depth = 6\n",
        "\n",
        "# 1st row\n",
        "# Stars = 11\n",
        "# Space = 0\n",
        "# 2nd row\n",
        "# Stars = 9\n",
        "# Space = 1\n",
        "# 3rd row\n",
        "# Stars = 7\n",
        "# Space = 2\n",
        "# 4th row\n",
        "# Stars = 5\n",
        "# Space = 3\n",
        "\n",
        "# 5th row\n",
        "# Stars = 3\n",
        "# Space = 4\n",
        "\n",
        "# 6th row\n",
        "# Stars = 1\n",
        "# Space = 5\n",
        "\n",
        "depth = int(input())\n",
        "space = list(range(depth-1, -1, -1))\n",
        "stars = list(range(1, 2*depth, 2))\n",
        "# print(list(zip(space,stars))[::-1])\n",
        "for i,j in list(zip(space,stars))[::-1]:\n",
        "  print(' ' * i + '*'*j)\n"
      ],
      "metadata": {
        "colab": {
          "base_uri": "https://localhost:8080/"
        },
        "id": "RwrlQ6nq-Uw9",
        "outputId": "c69252a5-53d8-417b-9dee-04dd8904313e"
      },
      "execution_count": null,
      "outputs": [
        {
          "output_type": "stream",
          "name": "stdout",
          "text": [
            "6\n",
            "***********\n",
            " *********\n",
            "  *******\n",
            "   *****\n",
            "    ***\n",
            "     *\n"
          ]
        }
      ]
    },
    {
      "cell_type": "code",
      "source": [
        "'''\n",
        "-- Diamond Pattern\n",
        "     *\n",
        "    ***\n",
        "   *****\n",
        "  *******\n",
        " *********\n",
        "***********\n",
        " *********\n",
        "  *******\n",
        "   *****\n",
        "    ***\n",
        "     *\n",
        "\n",
        "'''\n",
        "\n",
        "depth = int(input())\n",
        "space = list(range(depth-1, -1, -1))\n",
        "stars = list(range(1, 2*depth, 2))\n",
        "\n",
        "for i,j in zip(space,stars):\n",
        "  print(' ' * i + '*'*j)\n",
        "\n",
        "for i,j in list(zip(space,stars))[-2::-1]:\n",
        "  print(' ' * i + '*'*j)\n",
        "\n",
        "\n"
      ],
      "metadata": {
        "id": "FRPEbrz10fOd",
        "colab": {
          "base_uri": "https://localhost:8080/"
        },
        "outputId": "711677c5-3e53-459a-a7c3-29e1cf4fdadc"
      },
      "execution_count": null,
      "outputs": [
        {
          "output_type": "stream",
          "name": "stdout",
          "text": [
            "6\n",
            "     *\n",
            "    ***\n",
            "   *****\n",
            "  *******\n",
            " *********\n",
            "***********\n",
            " *********\n",
            "  *******\n",
            "   *****\n",
            "    ***\n",
            "     *\n"
          ]
        }
      ]
    },
    {
      "cell_type": "code",
      "source": [
        "list(zip(space,stars))"
      ],
      "metadata": {
        "colab": {
          "base_uri": "https://localhost:8080/"
        },
        "id": "Ptq01TsrAidu",
        "outputId": "d4588a25-f800-4159-dc34-047b5dd656f6"
      },
      "execution_count": null,
      "outputs": [
        {
          "output_type": "execute_result",
          "data": {
            "text/plain": [
              "[(5, 1), (4, 3), (3, 5), (2, 7), (1, 9), (0, 11)]"
            ]
          },
          "metadata": {},
          "execution_count": 9
        }
      ]
    },
    {
      "cell_type": "code",
      "source": [
        "list(zip(space,stars))[-2::-1] # i,j &k"
      ],
      "metadata": {
        "colab": {
          "base_uri": "https://localhost:8080/"
        },
        "id": "La1oSDP7Af_6",
        "outputId": "fe736fc3-74cc-4d8d-d41f-672377e881e6"
      },
      "execution_count": null,
      "outputs": [
        {
          "output_type": "execute_result",
          "data": {
            "text/plain": [
              "[(1, 9), (2, 7), (3, 5), (4, 3), (5, 1)]"
            ]
          },
          "metadata": {},
          "execution_count": 11
        }
      ]
    },
    {
      "cell_type": "code",
      "source": [
        "# Hour glass\n",
        "depth = int(input())\n",
        "space = list(range(depth-1, -1, -1))\n",
        "stars = list(range(1, 2*depth, 2))\n",
        "\n",
        "for i,j in list(zip(space,stars))[::-1]:\n",
        "  print(' ' * i + '*'*j)\n",
        "\n",
        "for i,j in zip(space,stars):\n",
        "  print(' ' * i + '*'*j)\n",
        "\n"
      ],
      "metadata": {
        "colab": {
          "base_uri": "https://localhost:8080/"
        },
        "id": "c40zJZ4LA8eC",
        "outputId": "9f9929cd-edce-454a-cc0a-b7ddbd890b72"
      },
      "execution_count": null,
      "outputs": [
        {
          "output_type": "stream",
          "name": "stdout",
          "text": [
            "6\n",
            "***********\n",
            " *********\n",
            "  *******\n",
            "   *****\n",
            "    ***\n",
            "     *\n",
            "     *\n",
            "    ***\n",
            "   *****\n",
            "  *******\n",
            " *********\n",
            "***********\n"
          ]
        }
      ]
    },
    {
      "cell_type": "code",
      "source": [
        "# Question 6: (Itermediate) : Next Class\n",
        "'''\n",
        "The Enhanced Fibonacci series is a sequence of numbers where each number is\n",
        "the sum of the three preceding ones, starting from 0, 1 & 2.\n",
        "The series begins as follows:\n",
        "\n",
        "# Fibonacci Series : 0, 1, 2, 3, 6, 11, 20 ,...\n",
        "# input = 0 , fibonacci_output = [0]\n",
        "# input = 1 , fibonacci_output = [0,1]\n",
        "# input = 2 , fibonacci_output = [0,1,2]\n",
        "# input = 3 , fibonacci_output = [0,1,2,3]\n",
        "# input = 4 , fibonacci_output = [0,1,2,3,6]\n",
        "# input = 5 , fibonacci_output = [0,1,2,3,6,11] # till 5th index print the Enhanced fibonacci series\n",
        "'''\n",
        "\n",
        "_index = int(input('Enter the index till which you want fibonacci series:')) # 5\n",
        "\n",
        "_output = [0,1,2] # []\n",
        "\n",
        "if _index == 0 or _index == 1 or _index == 2 : # _index = 5\n",
        "  print(_output[:_index+1])\n",
        "\n",
        "else:\n",
        "  for i in range(3,_index + 1):\n",
        "    next_value = _output[-1] + _output[-2] +_output[-3] # negative index\n",
        "    _output.append(next_value)\n",
        "\n",
        "  print(_output)\n",
        "\n",
        "# 10:10 PM.\n",
        "\n",
        "# Example , _index = 1\n",
        "# _output = [0,1,2]\n",
        "# print(_output[:_index+1])\n",
        "# _output[:2]--> [0,1]\n",
        "\n",
        "\n",
        "# Example , _index = 5\n",
        "# _output = [0,1,2]\n",
        "# range(3,6) --> 3,4,5 : i\n",
        "# Iterations\n",
        "# I1\n",
        "# i = 3\n",
        "# next_value = _output[-1] + _output[-2] +_output[-3] # negative index\n",
        "# _output[-1] = 2 + _output[-2] = 1 + _output[-3] = 0 = 3\n",
        "# next_value = 3\n",
        "  # _output.append(next_value)\n",
        "  # _output  = [0,1,2,3]\n",
        "\n",
        "# I2\n",
        "# i = 4\n",
        "# next_value = _output[-1] = 3 + _output[-2] = 2 +_output[-3] = 1\n",
        "# next_value = 6\n",
        " # _output.append(next_value)\n",
        "  # _output  = [0,1,2,3,6]\n",
        "\n",
        "# I3\n",
        "# i = 5\n",
        "# next_value = _output[-1] = 6 + _output[-2] = 3 +_output[-3] = 2\n",
        "# next_value = 11\n",
        "# _output.append(next_value)\n",
        "  # _output  = [0,1,2,3,6,11]\n",
        "\n",
        "# Input : _index = 5 | till 5th index enhanced fibonacci series\n",
        "# Output = [0,1,2,3,6,11]\n",
        "\n"
      ],
      "metadata": {
        "id": "YFOmMxEpbL0o",
        "colab": {
          "base_uri": "https://localhost:8080/"
        },
        "outputId": "86f2e612-b8f9-4551-c563-1b664889af42"
      },
      "execution_count": null,
      "outputs": [
        {
          "output_type": "stream",
          "name": "stdout",
          "text": [
            "Enter the index till which you want fibonacci series:1\n",
            "[0, 1]\n"
          ]
        }
      ]
    },
    {
      "cell_type": "code",
      "source": [
        "33+ 56+ 101"
      ],
      "metadata": {
        "colab": {
          "base_uri": "https://localhost:8080/"
        },
        "id": "cRDnceJ2GssG",
        "outputId": "c83db12f-9832-4e3b-da98-d33e7f12edcf"
      },
      "execution_count": null,
      "outputs": [
        {
          "output_type": "execute_result",
          "data": {
            "text/plain": [
              "190"
            ]
          },
          "metadata": {},
          "execution_count": 21
        }
      ]
    },
    {
      "cell_type": "code",
      "source": [
        "'''\n",
        "The series is a sequence of numbers where each number is starting from 10, 11 & 12.\n",
        "The series begins as follows:\n",
        "\n",
        "# Fibonacci Series : 10, 11, 12, 33, 56, 101, 190 ,...\n",
        "# input = 0 , fibonacci_output = [10]\n",
        "# input = 1 , fibonacci_output = [10,11]\n",
        "# input = 2 , fibonacci_output = [10,11,12]\n",
        "# input = 3 , fibonacci_output = [10, 11, 12, 33]\n",
        "# input = 4 , fibonacci_output = [10, 11, 12, 33, 56]\n",
        "# input = 5 , fibonacci_output = [10, 11, 12, 33, 56, 101] #\n",
        "'''\n"
      ],
      "metadata": {
        "id": "5SZNfHowGjjf"
      },
      "execution_count": null,
      "outputs": []
    },
    {
      "cell_type": "code",
      "source": [
        "# test\n",
        "_index  = 1\n",
        "\n",
        "_output = [0,1,2]\n",
        "_output[:_index+ 1] # [:3] [:2] # 0,1"
      ],
      "metadata": {
        "colab": {
          "base_uri": "https://localhost:8080/"
        },
        "id": "xENWK184D10G",
        "outputId": "2d4e9527-5266-46c6-c46b-37ab267ba18c"
      },
      "execution_count": null,
      "outputs": [
        {
          "output_type": "execute_result",
          "data": {
            "text/plain": [
              "[0, 1]"
            ]
          },
          "metadata": {},
          "execution_count": 15
        }
      ]
    },
    {
      "cell_type": "code",
      "source": [
        "# Question 7 : # nested for loop :  Nested For loop | Tricky | Take the help of chatgpt and understand\n",
        "'''\n",
        "Given a list of integers, write a Python code that generates and\n",
        "prints all possible sublists of the given list.\n",
        "A sublist is defined as a contiguous segment of the list.\n",
        "\n",
        "input_list = [23, 45, 67, 56]\n",
        "Output =\n",
        "\n",
        "[23]\n",
        "[23, 45]\n",
        "[23, 45, 67]\n",
        "[23, 45, 67, 56]\n",
        "[45]\n",
        "[45, 67]\n",
        "[45, 67, 56]\n",
        "[67]\n",
        "[67, 56]\n",
        "[56]\n",
        "\n",
        "Sequential Sublists\n",
        "# DNA pattern matching\n",
        "'''\n",
        "input_list = [23, 45, 67, 56]\n",
        "\n",
        "for i in range(len(input_list)): # range(4) --> 0,1,2,3 | i = 0 | i = 1 | i = 2 | i = 3\n",
        "  _output = [input_list[i]] # [input_list[0]] [23]\n",
        "  print(_output)\n",
        "  for j in range(i+1,len(input_list)): # range(1,4)--> 1,2,3 | range(2,4) --> 2,3 | range(3,4) --> 3 | range(4,4)\n",
        "    _output.append(input_list[j])\n",
        "    print(_output)\n",
        "\n"
      ],
      "metadata": {
        "id": "ypeVEdbZoVQW",
        "colab": {
          "base_uri": "https://localhost:8080/"
        },
        "outputId": "1731535a-65e4-40b8-a561-7dbf94f5043b"
      },
      "execution_count": null,
      "outputs": [
        {
          "output_type": "stream",
          "name": "stdout",
          "text": [
            "[23]\n",
            "[45]\n",
            "[67]\n",
            "[56]\n"
          ]
        }
      ]
    },
    {
      "cell_type": "code",
      "source": [
        "list(range(4,4))"
      ],
      "metadata": {
        "colab": {
          "base_uri": "https://localhost:8080/"
        },
        "id": "3e5ZBwv7JWfX",
        "outputId": "a8ed58a7-2e98-4c0e-85c9-a3746adee1b7"
      },
      "execution_count": null,
      "outputs": [
        {
          "output_type": "execute_result",
          "data": {
            "text/plain": [
              "[]"
            ]
          },
          "metadata": {},
          "execution_count": 24
        }
      ]
    },
    {
      "cell_type": "code",
      "source": [
        "# for i in range\n",
        "#.   for j in range\n",
        "# first all iterations of j will be completed then it will go back to i"
      ],
      "metadata": {
        "id": "iyPkiMCQKZa_"
      },
      "execution_count": null,
      "outputs": []
    },
    {
      "cell_type": "code",
      "source": [
        "input_list = [23, 45, 67, 56]\n",
        "for i in range(len(input_list)):\n",
        "  for j in range(i+1, len(input_list)+1):\n",
        "    print(input_list[i:j])"
      ],
      "metadata": {
        "colab": {
          "base_uri": "https://localhost:8080/"
        },
        "id": "yv5rCMbMIkZ1",
        "outputId": "0f4fa99c-3a48-41a4-8e4e-5e2d5692d955"
      },
      "execution_count": null,
      "outputs": [
        {
          "output_type": "stream",
          "name": "stdout",
          "text": [
            "[23]\n",
            "[23, 45]\n",
            "[23, 45, 67]\n",
            "[23, 45, 67, 56]\n",
            "[45]\n",
            "[45, 67]\n",
            "[45, 67, 56]\n",
            "[67]\n",
            "[67, 56]\n",
            "[56]\n"
          ]
        }
      ]
    },
    {
      "cell_type": "code",
      "source": [
        "input_list = [23, 45, 67, 56]\n",
        "_lst=[]\n",
        "for i in range(len(input_list)):\n",
        "  for j in range(1):\n",
        "    _lst.extend(input_list[i:])\n",
        "    for k in range(len(_lst)):\n",
        "      print(_lst[:k+1])\n",
        "    _lst=[]"
      ],
      "metadata": {
        "colab": {
          "base_uri": "https://localhost:8080/"
        },
        "id": "UMwq3a2dIpLj",
        "outputId": "49a738b2-7879-4251-c8ce-f1dfec2e16d4"
      },
      "execution_count": null,
      "outputs": [
        {
          "output_type": "stream",
          "name": "stdout",
          "text": [
            "[23]\n",
            "[23, 45]\n",
            "[23, 45, 67]\n",
            "[23, 45, 67, 56]\n",
            "[45]\n",
            "[45, 67]\n",
            "[45, 67, 56]\n",
            "[67]\n",
            "[67, 56]\n",
            "[56]\n"
          ]
        }
      ]
    },
    {
      "cell_type": "code",
      "source": [
        "'''\n",
        "Given a list of integers, write a Python function that generates and\n",
        "prints max values of each possible sublists of the given list.\n",
        "A sublist is defined as a contiguous segment of the list.\n",
        "\n",
        "input_list = [23, 45, 67, 56]\n",
        "Output =\n",
        "23,\n",
        "45,\n",
        "67,\n",
        "67,\n",
        "45,\n",
        "67,\n",
        "67,\n",
        "67,\n",
        "67,\n",
        "56\n",
        "\n",
        "Logic -\n",
        "\n",
        "[23] --> 23\n",
        "[23, 45] --> 45\n",
        "[23, 45, 67] --> 67\n",
        "[23, 45, 67, 56] --> 67\n",
        "[45] --> 45\n",
        "[45, 67] --> 67\n",
        "[45, 67, 56] --> 67\n",
        "[67] --> 67\n",
        "[67, 56] --> 67\n",
        "[56] --> 56\n",
        "\n",
        "'''"
      ],
      "metadata": {
        "id": "8ed4l1Gj35N2"
      },
      "execution_count": null,
      "outputs": []
    },
    {
      "cell_type": "code",
      "source": [],
      "metadata": {
        "id": "uv1VsngAAjA4"
      },
      "execution_count": null,
      "outputs": []
    }
  ]
}